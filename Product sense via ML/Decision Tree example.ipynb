{
 "cells": [
  {
   "cell_type": "code",
   "execution_count": 1,
   "metadata": {
    "execution": {
     "iopub.execute_input": "2021-05-11T16:13:19.317315Z",
     "iopub.status.busy": "2021-05-11T16:13:19.316925Z",
     "iopub.status.idle": "2021-05-11T16:13:24.663939Z",
     "shell.execute_reply": "2021-05-11T16:13:24.663210Z",
     "shell.execute_reply.started": "2021-05-11T16:13:19.317215Z"
    }
   },
   "outputs": [],
   "source": [
    "import pandas \n",
    "import graphviz\n",
    "from sklearn.tree import DecisionTreeClassifier\n",
    "from sklearn.tree import export_graphviz\n",
    "from graphviz import Source"
   ]
  },
  {
   "cell_type": "code",
   "execution_count": 2,
   "metadata": {
    "execution": {
     "iopub.execute_input": "2021-05-11T16:13:24.666328Z",
     "iopub.status.busy": "2021-05-11T16:13:24.665636Z",
     "iopub.status.idle": "2021-05-11T16:13:24.800160Z",
     "shell.execute_reply": "2021-05-11T16:13:24.799129Z",
     "shell.execute_reply.started": "2021-05-11T16:13:24.666283Z"
    }
   },
   "outputs": [],
   "source": [
    "data = pandas.read_csv('emails.csv')"
   ]
  },
  {
   "cell_type": "code",
   "execution_count": 3,
   "metadata": {
    "execution": {
     "iopub.execute_input": "2021-05-11T16:13:26.247742Z",
     "iopub.status.busy": "2021-05-11T16:13:26.247418Z",
     "iopub.status.idle": "2021-05-11T16:13:26.307418Z",
     "shell.execute_reply": "2021-05-11T16:13:26.306574Z",
     "shell.execute_reply.started": "2021-05-11T16:13:26.247713Z"
    }
   },
   "outputs": [],
   "source": [
    "#prepare the data for the model by creating dummy vars and removing the label\n",
    "data_dummy = pandas.get_dummies(data, drop_first=True)\n",
    "train_cols = data_dummy.drop('clicked', axis=1)"
   ]
  },
  {
   "cell_type": "code",
   "execution_count": 4,
   "metadata": {
    "execution": {
     "iopub.execute_input": "2021-05-11T16:13:46.331490Z",
     "iopub.status.busy": "2021-05-11T16:13:46.330736Z",
     "iopub.status.idle": "2021-05-11T16:13:46.532969Z",
     "shell.execute_reply": "2021-05-11T16:13:46.530968Z",
     "shell.execute_reply.started": "2021-05-11T16:13:46.331451Z"
    }
   },
   "outputs": [
    {
     "data": {
      "text/plain": [
       "DecisionTreeClassifier(class_weight='balanced', max_depth=4,\n",
       "                       min_impurity_decrease=0.001)"
      ]
     },
     "execution_count": 4,
     "metadata": {},
     "output_type": "execute_result"
    }
   ],
   "source": [
    "#build the tree\n",
    "tree = DecisionTreeClassifier(\n",
    "    #set max tree dept at 4. Bigger than that it just becomes too messy\n",
    "    max_depth=4,\n",
    "    #change weights given that we have unbalanced classes. Our data set is now perfectly balanced. It makes easier to look at tree output\n",
    "    class_weight=\"balanced\",\n",
    "    #only split if it's worthwhile. The default value of 0 means always split no matter what if you can increase overall performance, which might lead to irrelevant splits\n",
    "    min_impurity_decrease = 0.001\n",
    "    )\n",
    "tree.fit(train_cols,data_dummy['clicked'])\n",
    "  "
   ]
  },
  {
   "cell_type": "code",
   "execution_count": 5,
   "metadata": {
    "execution": {
     "iopub.execute_input": "2021-05-11T16:13:55.969285Z",
     "iopub.status.busy": "2021-05-11T16:13:55.968982Z",
     "iopub.status.idle": "2021-05-11T16:13:57.045713Z",
     "shell.execute_reply": "2021-05-11T16:13:57.044341Z",
     "shell.execute_reply.started": "2021-05-11T16:13:55.969258Z"
    }
   },
   "outputs": [
    {
     "data": {
      "text/plain": [
       "'tree.dot.pdf'"
      ]
     },
     "execution_count": 5,
     "metadata": {},
     "output_type": "execute_result"
    }
   ],
   "source": [
    "#visualize it\n",
    "export_graphviz(tree, out_file=\"tree.dot\", feature_names=train_cols.columns, proportion=True, rotate=True)\n",
    "s = Source.from_file(\"tree.dot\")\n",
    "s.view()"
   ]
  },
  {
   "cell_type": "code",
   "execution_count": null,
   "metadata": {},
   "outputs": [],
   "source": []
  }
 ],
 "metadata": {
  "kernelspec": {
   "display_name": "Python 3",
   "language": "python",
   "name": "python3"
  },
  "language_info": {
   "codemirror_mode": {
    "name": "ipython",
    "version": 3
   },
   "file_extension": ".py",
   "mimetype": "text/x-python",
   "name": "python",
   "nbconvert_exporter": "python",
   "pygments_lexer": "ipython3",
   "version": "3.7.7"
  }
 },
 "nbformat": 4,
 "nbformat_minor": 4
}
