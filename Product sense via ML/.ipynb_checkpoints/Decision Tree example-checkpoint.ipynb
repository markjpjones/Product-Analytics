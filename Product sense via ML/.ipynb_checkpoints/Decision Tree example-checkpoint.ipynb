{
 "cells": [
  {
   "cell_type": "code",
   "execution_count": 1,
   "metadata": {
    "execution": {
     "iopub.execute_input": "2021-05-10T15:52:28.942975Z",
     "iopub.status.busy": "2021-05-10T15:52:28.942546Z",
     "iopub.status.idle": "2021-05-10T15:52:43.047683Z",
     "shell.execute_reply": "2021-05-10T15:52:43.047017Z",
     "shell.execute_reply.started": "2021-05-10T15:52:28.942897Z"
    }
   },
   "outputs": [],
   "source": [
    "import pandas \n",
    "import graphviz\n",
    "from sklearn.tree import DecisionTreeClassifier\n",
    "from sklearn.tree import export_graphviz\n",
    "from graphviz import Source"
   ]
  },
  {
   "cell_type": "code",
   "execution_count": 2,
   "metadata": {
    "execution": {
     "iopub.execute_input": "2021-05-10T15:52:47.347561Z",
     "iopub.status.busy": "2021-05-10T15:52:47.347160Z",
     "iopub.status.idle": "2021-05-10T15:52:47.502781Z",
     "shell.execute_reply": "2021-05-10T15:52:47.501768Z",
     "shell.execute_reply.started": "2021-05-10T15:52:47.347530Z"
    }
   },
   "outputs": [],
   "source": [
    "data = pandas.read_csv('emails.csv')"
   ]
  },
  {
   "cell_type": "code",
   "execution_count": 3,
   "metadata": {
    "execution": {
     "iopub.execute_input": "2021-05-10T15:53:02.533038Z",
     "iopub.status.busy": "2021-05-10T15:53:02.532722Z",
     "iopub.status.idle": "2021-05-10T15:53:02.602413Z",
     "shell.execute_reply": "2021-05-10T15:53:02.600956Z",
     "shell.execute_reply.started": "2021-05-10T15:53:02.533009Z"
    }
   },
   "outputs": [],
   "source": [
    "#prepare the data for the model by creating dummy vars and removing the label\n",
    "data_dummy = pandas.get_dummies(data, drop_first=True)\n",
    "train_cols = data_dummy.drop('clicked', axis=1)"
   ]
  },
  {
   "cell_type": "code",
   "execution_count": 4,
   "metadata": {
    "execution": {
     "iopub.execute_input": "2021-05-10T15:53:51.294522Z",
     "iopub.status.busy": "2021-05-10T15:53:51.294193Z",
     "iopub.status.idle": "2021-05-10T15:53:51.480526Z",
     "shell.execute_reply": "2021-05-10T15:53:51.479379Z",
     "shell.execute_reply.started": "2021-05-10T15:53:51.294494Z"
    }
   },
   "outputs": [
    {
     "data": {
      "text/plain": [
       "DecisionTreeClassifier(class_weight='balanced', max_depth=4,\n",
       "                       min_impurity_decrease=0.001)"
      ]
     },
     "execution_count": 4,
     "metadata": {},
     "output_type": "execute_result"
    }
   ],
   "source": [
    "#build the tree\n",
    "tree = DecisionTreeClassifier(\n",
    "    #set max tree dept at 4. Bigger than that it just becomes too messy\n",
    "    max_depth=4,\n",
    "    #change weights given that we have unbalanced classes. Our data set is now perfectly balanced. It makes easier to look at tree output\n",
    "    class_weight=\"balanced\",\n",
    "    #only split if it's worthwhile. The default value of 0 means always split no matter what if you can increase overall performance, which might lead to irrelevant splits\n",
    "    min_impurity_decrease = 0.001\n",
    "    )\n",
    "tree.fit(train_cols,data_dummy['clicked'])\n",
    "  "
   ]
  },
  {
   "cell_type": "code",
   "execution_count": 5,
   "metadata": {
    "execution": {
     "iopub.execute_input": "2021-05-10T15:54:01.687255Z",
     "iopub.status.busy": "2021-05-10T15:54:01.686933Z",
     "iopub.status.idle": "2021-05-10T15:54:07.740560Z",
     "shell.execute_reply": "2021-05-10T15:54:07.739410Z",
     "shell.execute_reply.started": "2021-05-10T15:54:01.687227Z"
    }
   },
   "outputs": [
    {
     "data": {
      "text/plain": [
       "'tree.dot.pdf'"
      ]
     },
     "execution_count": 5,
     "metadata": {},
     "output_type": "execute_result"
    }
   ],
   "source": [
    "#visualize it\n",
    "export_graphviz(tree, out_file=\"tree.dot\", feature_names=train_cols.columns, proportion=True, rotate=True)\n",
    "s = Source.from_file(\"tree.dot\")\n",
    "s.view()"
   ]
  },
  {
   "cell_type": "code",
   "execution_count": null,
   "metadata": {},
   "outputs": [],
   "source": []
  }
 ],
 "metadata": {
  "kernelspec": {
   "display_name": "Python 3",
   "language": "python",
   "name": "python3"
  },
  "language_info": {
   "codemirror_mode": {
    "name": "ipython",
    "version": 3
   },
   "file_extension": ".py",
   "mimetype": "text/x-python",
   "name": "python",
   "nbconvert_exporter": "python",
   "pygments_lexer": "ipython3",
   "version": "3.7.7"
  }
 },
 "nbformat": 4,
 "nbformat_minor": 4
}
