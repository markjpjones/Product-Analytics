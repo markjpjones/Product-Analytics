{
 "cells": [
  {
   "cell_type": "code",
   "execution_count": 80,
   "metadata": {
    "execution": {
     "iopub.execute_input": "2021-05-19T15:19:40.285779Z",
     "iopub.status.busy": "2021-05-19T15:19:40.285340Z",
     "iopub.status.idle": "2021-05-19T15:19:40.295897Z",
     "shell.execute_reply": "2021-05-19T15:19:40.291534Z",
     "shell.execute_reply.started": "2021-05-19T15:19:40.285738Z"
    }
   },
   "outputs": [],
   "source": [
    "import pandas as pd\n",
    "import numpy as np\n",
    "import matplotlib.pyplot as plt\n",
    "from pdpbox import pdp, info_plots\n",
    "from sklearn.ensemble import RandomForestClassifier\n",
    "pd.set_option('display.max_columns', 10)\n",
    "pd.set_option('display.width', 100)\n",
    "pd.set_option('display.max_colwidth', -1)\n",
    "np.random.seed(4684)"
   ]
  },
  {
   "cell_type": "code",
   "execution_count": 2,
   "metadata": {
    "execution": {
     "iopub.execute_input": "2021-05-19T13:16:23.561655Z",
     "iopub.status.busy": "2021-05-19T13:16:23.561349Z",
     "iopub.status.idle": "2021-05-19T13:16:23.838735Z",
     "shell.execute_reply": "2021-05-19T13:16:23.837721Z",
     "shell.execute_reply.started": "2021-05-19T13:16:23.561628Z"
    }
   },
   "outputs": [],
   "source": [
    "data = pd.read_csv('exercise data.csv')"
   ]
  },
  {
   "cell_type": "markdown",
   "metadata": {},
   "source": [
    "### Perform summary analysis to understand the data at a high level"
   ]
  },
  {
   "cell_type": "code",
   "execution_count": 3,
   "metadata": {
    "execution": {
     "iopub.execute_input": "2021-05-19T13:16:30.939299Z",
     "iopub.status.busy": "2021-05-19T13:16:30.939013Z",
     "iopub.status.idle": "2021-05-19T13:16:30.984603Z",
     "shell.execute_reply": "2021-05-19T13:16:30.981045Z",
     "shell.execute_reply.started": "2021-05-19T13:16:30.939272Z"
    }
   },
   "outputs": [
    {
     "data": {
      "text/html": [
       "<div>\n",
       "<style scoped>\n",
       "    .dataframe tbody tr th:only-of-type {\n",
       "        vertical-align: middle;\n",
       "    }\n",
       "\n",
       "    .dataframe tbody tr th {\n",
       "        vertical-align: top;\n",
       "    }\n",
       "\n",
       "    .dataframe thead th {\n",
       "        text-align: right;\n",
       "    }\n",
       "</style>\n",
       "<table border=\"1\" class=\"dataframe\">\n",
       "  <thead>\n",
       "    <tr style=\"text-align: right;\">\n",
       "      <th></th>\n",
       "      <th>user_id</th>\n",
       "      <th>source</th>\n",
       "      <th>device</th>\n",
       "      <th>operative_system</th>\n",
       "      <th>lat</th>\n",
       "      <th>long</th>\n",
       "      <th>weekday</th>\n",
       "      <th>yearweek</th>\n",
       "      <th>converted</th>\n",
       "    </tr>\n",
       "  </thead>\n",
       "  <tbody>\n",
       "    <tr>\n",
       "      <th>0</th>\n",
       "      <td>3</td>\n",
       "      <td>seo_facebook</td>\n",
       "      <td>web</td>\n",
       "      <td>mac</td>\n",
       "      <td>38.89</td>\n",
       "      <td>-94.81</td>\n",
       "      <td>Friday</td>\n",
       "      <td>16</td>\n",
       "      <td>0</td>\n",
       "    </tr>\n",
       "    <tr>\n",
       "      <th>1</th>\n",
       "      <td>9</td>\n",
       "      <td>seo-google</td>\n",
       "      <td>mobile</td>\n",
       "      <td>android</td>\n",
       "      <td>41.68</td>\n",
       "      <td>-72.94</td>\n",
       "      <td>Friday</td>\n",
       "      <td>18</td>\n",
       "      <td>0</td>\n",
       "    </tr>\n",
       "    <tr>\n",
       "      <th>2</th>\n",
       "      <td>14</td>\n",
       "      <td>friend_referral</td>\n",
       "      <td>mobile</td>\n",
       "      <td>iOS</td>\n",
       "      <td>39.74</td>\n",
       "      <td>-75.53</td>\n",
       "      <td>Saturday</td>\n",
       "      <td>13</td>\n",
       "      <td>0</td>\n",
       "    </tr>\n",
       "    <tr>\n",
       "      <th>3</th>\n",
       "      <td>16</td>\n",
       "      <td>ads-google</td>\n",
       "      <td>mobile</td>\n",
       "      <td>android</td>\n",
       "      <td>37.99</td>\n",
       "      <td>-121.80</td>\n",
       "      <td>Friday</td>\n",
       "      <td>21</td>\n",
       "      <td>0</td>\n",
       "    </tr>\n",
       "    <tr>\n",
       "      <th>4</th>\n",
       "      <td>19</td>\n",
       "      <td>ads-google</td>\n",
       "      <td>mobile</td>\n",
       "      <td>android</td>\n",
       "      <td>41.08</td>\n",
       "      <td>-81.52</td>\n",
       "      <td>Wednesday</td>\n",
       "      <td>14</td>\n",
       "      <td>0</td>\n",
       "    </tr>\n",
       "  </tbody>\n",
       "</table>\n",
       "</div>"
      ],
      "text/plain": [
       "   user_id           source  device operative_system    lat    long    weekday  yearweek  converted\n",
       "0        3     seo_facebook     web              mac  38.89  -94.81     Friday        16          0\n",
       "1        9       seo-google  mobile          android  41.68  -72.94     Friday        18          0\n",
       "2       14  friend_referral  mobile              iOS  39.74  -75.53   Saturday        13          0\n",
       "3       16       ads-google  mobile          android  37.99 -121.80     Friday        21          0\n",
       "4       19       ads-google  mobile          android  41.08  -81.52  Wednesday        14          0"
      ]
     },
     "execution_count": 3,
     "metadata": {},
     "output_type": "execute_result"
    }
   ],
   "source": [
    "data.head()"
   ]
  },
  {
   "cell_type": "code",
   "execution_count": 4,
   "metadata": {
    "execution": {
     "iopub.execute_input": "2021-05-19T13:16:42.985825Z",
     "iopub.status.busy": "2021-05-19T13:16:42.985363Z",
     "iopub.status.idle": "2021-05-19T13:16:43.243188Z",
     "shell.execute_reply": "2021-05-19T13:16:43.240063Z",
     "shell.execute_reply.started": "2021-05-19T13:16:42.985794Z"
    }
   },
   "outputs": [
    {
     "data": {
      "text/html": [
       "<div>\n",
       "<style scoped>\n",
       "    .dataframe tbody tr th:only-of-type {\n",
       "        vertical-align: middle;\n",
       "    }\n",
       "\n",
       "    .dataframe tbody tr th {\n",
       "        vertical-align: top;\n",
       "    }\n",
       "\n",
       "    .dataframe thead th {\n",
       "        text-align: right;\n",
       "    }\n",
       "</style>\n",
       "<table border=\"1\" class=\"dataframe\">\n",
       "  <thead>\n",
       "    <tr style=\"text-align: right;\">\n",
       "      <th></th>\n",
       "      <th>user_id</th>\n",
       "      <th>source</th>\n",
       "      <th>device</th>\n",
       "      <th>operative_system</th>\n",
       "      <th>lat</th>\n",
       "      <th>long</th>\n",
       "      <th>weekday</th>\n",
       "      <th>yearweek</th>\n",
       "      <th>converted</th>\n",
       "    </tr>\n",
       "  </thead>\n",
       "  <tbody>\n",
       "    <tr>\n",
       "      <th>count</th>\n",
       "      <td>275616.000000</td>\n",
       "      <td>275616</td>\n",
       "      <td>275616</td>\n",
       "      <td>275616</td>\n",
       "      <td>275616.000000</td>\n",
       "      <td>275616.000000</td>\n",
       "      <td>275616</td>\n",
       "      <td>275616.000000</td>\n",
       "      <td>275616.000000</td>\n",
       "    </tr>\n",
       "    <tr>\n",
       "      <th>unique</th>\n",
       "      <td>NaN</td>\n",
       "      <td>12</td>\n",
       "      <td>2</td>\n",
       "      <td>6</td>\n",
       "      <td>NaN</td>\n",
       "      <td>NaN</td>\n",
       "      <td>7</td>\n",
       "      <td>NaN</td>\n",
       "      <td>NaN</td>\n",
       "    </tr>\n",
       "    <tr>\n",
       "      <th>top</th>\n",
       "      <td>NaN</td>\n",
       "      <td>direct_traffic</td>\n",
       "      <td>mobile</td>\n",
       "      <td>windows</td>\n",
       "      <td>NaN</td>\n",
       "      <td>NaN</td>\n",
       "      <td>Friday</td>\n",
       "      <td>NaN</td>\n",
       "      <td>NaN</td>\n",
       "    </tr>\n",
       "    <tr>\n",
       "      <th>freq</th>\n",
       "      <td>NaN</td>\n",
       "      <td>52594</td>\n",
       "      <td>162321</td>\n",
       "      <td>87721</td>\n",
       "      <td>NaN</td>\n",
       "      <td>NaN</td>\n",
       "      <td>80047</td>\n",
       "      <td>NaN</td>\n",
       "      <td>NaN</td>\n",
       "    </tr>\n",
       "    <tr>\n",
       "      <th>mean</th>\n",
       "      <td>499245.801521</td>\n",
       "      <td>NaN</td>\n",
       "      <td>NaN</td>\n",
       "      <td>NaN</td>\n",
       "      <td>37.111680</td>\n",
       "      <td>-93.981772</td>\n",
       "      <td>NaN</td>\n",
       "      <td>15.986245</td>\n",
       "      <td>0.018210</td>\n",
       "    </tr>\n",
       "    <tr>\n",
       "      <th>std</th>\n",
       "      <td>288533.458944</td>\n",
       "      <td>NaN</td>\n",
       "      <td>NaN</td>\n",
       "      <td>NaN</td>\n",
       "      <td>5.209627</td>\n",
       "      <td>18.086486</td>\n",
       "      <td>NaN</td>\n",
       "      <td>3.740836</td>\n",
       "      <td>0.133711</td>\n",
       "    </tr>\n",
       "    <tr>\n",
       "      <th>min</th>\n",
       "      <td>3.000000</td>\n",
       "      <td>NaN</td>\n",
       "      <td>NaN</td>\n",
       "      <td>NaN</td>\n",
       "      <td>19.700000</td>\n",
       "      <td>-157.800000</td>\n",
       "      <td>NaN</td>\n",
       "      <td>10.000000</td>\n",
       "      <td>0.000000</td>\n",
       "    </tr>\n",
       "    <tr>\n",
       "      <th>25%</th>\n",
       "      <td>249544.500000</td>\n",
       "      <td>NaN</td>\n",
       "      <td>NaN</td>\n",
       "      <td>NaN</td>\n",
       "      <td>33.660000</td>\n",
       "      <td>-112.200000</td>\n",
       "      <td>NaN</td>\n",
       "      <td>13.000000</td>\n",
       "      <td>0.000000</td>\n",
       "    </tr>\n",
       "    <tr>\n",
       "      <th>50%</th>\n",
       "      <td>498861.000000</td>\n",
       "      <td>NaN</td>\n",
       "      <td>NaN</td>\n",
       "      <td>NaN</td>\n",
       "      <td>37.740000</td>\n",
       "      <td>-88.930000</td>\n",
       "      <td>NaN</td>\n",
       "      <td>16.000000</td>\n",
       "      <td>0.000000</td>\n",
       "    </tr>\n",
       "    <tr>\n",
       "      <th>75%</th>\n",
       "      <td>748856.500000</td>\n",
       "      <td>NaN</td>\n",
       "      <td>NaN</td>\n",
       "      <td>NaN</td>\n",
       "      <td>40.700000</td>\n",
       "      <td>-78.910000</td>\n",
       "      <td>NaN</td>\n",
       "      <td>19.000000</td>\n",
       "      <td>0.000000</td>\n",
       "    </tr>\n",
       "    <tr>\n",
       "      <th>max</th>\n",
       "      <td>999999.000000</td>\n",
       "      <td>NaN</td>\n",
       "      <td>NaN</td>\n",
       "      <td>NaN</td>\n",
       "      <td>61.180000</td>\n",
       "      <td>30.310000</td>\n",
       "      <td>NaN</td>\n",
       "      <td>22.000000</td>\n",
       "      <td>1.000000</td>\n",
       "    </tr>\n",
       "  </tbody>\n",
       "</table>\n",
       "</div>"
      ],
      "text/plain": [
       "              user_id          source  device operative_system            lat           long weekday       yearweek      converted\n",
       "count   275616.000000          275616  275616           275616  275616.000000  275616.000000  275616  275616.000000  275616.000000\n",
       "unique            NaN              12       2                6            NaN            NaN       7            NaN            NaN\n",
       "top               NaN  direct_traffic  mobile          windows            NaN            NaN  Friday            NaN            NaN\n",
       "freq              NaN           52594  162321            87721            NaN            NaN   80047            NaN            NaN\n",
       "mean    499245.801521             NaN     NaN              NaN      37.111680     -93.981772     NaN      15.986245       0.018210\n",
       "std     288533.458944             NaN     NaN              NaN       5.209627      18.086486     NaN       3.740836       0.133711\n",
       "min          3.000000             NaN     NaN              NaN      19.700000    -157.800000     NaN      10.000000       0.000000\n",
       "25%     249544.500000             NaN     NaN              NaN      33.660000    -112.200000     NaN      13.000000       0.000000\n",
       "50%     498861.000000             NaN     NaN              NaN      37.740000     -88.930000     NaN      16.000000       0.000000\n",
       "75%     748856.500000             NaN     NaN              NaN      40.700000     -78.910000     NaN      19.000000       0.000000\n",
       "max     999999.000000             NaN     NaN              NaN      61.180000      30.310000     NaN      22.000000       1.000000"
      ]
     },
     "execution_count": 4,
     "metadata": {},
     "output_type": "execute_result"
    }
   ],
   "source": [
    "# how are data in the columns distributed\n",
    "data.describe(include='all')"
   ]
  },
  {
   "cell_type": "code",
   "execution_count": 5,
   "metadata": {
    "execution": {
     "iopub.execute_input": "2021-05-19T13:16:54.718950Z",
     "iopub.status.busy": "2021-05-19T13:16:54.718632Z",
     "iopub.status.idle": "2021-05-19T13:16:54.784983Z",
     "shell.execute_reply": "2021-05-19T13:16:54.781490Z",
     "shell.execute_reply.started": "2021-05-19T13:16:54.718921Z"
    }
   },
   "outputs": [
    {
     "name": "stdout",
     "output_type": "stream",
     "text": [
      "<class 'pandas.core.frame.DataFrame'>\n",
      "RangeIndex: 275616 entries, 0 to 275615\n",
      "Data columns (total 9 columns):\n",
      " #   Column            Non-Null Count   Dtype  \n",
      "---  ------            --------------   -----  \n",
      " 0   user_id           275616 non-null  int64  \n",
      " 1   source            275616 non-null  object \n",
      " 2   device            275616 non-null  object \n",
      " 3   operative_system  275616 non-null  object \n",
      " 4   lat               275616 non-null  float64\n",
      " 5   long              275616 non-null  float64\n",
      " 6   weekday           275616 non-null  object \n",
      " 7   yearweek          275616 non-null  int64  \n",
      " 8   converted         275616 non-null  int64  \n",
      "dtypes: float64(2), int64(3), object(4)\n",
      "memory usage: 18.9+ MB\n"
     ]
    }
   ],
   "source": [
    "data.info()"
   ]
  },
  {
   "cell_type": "code",
   "execution_count": 6,
   "metadata": {
    "execution": {
     "iopub.execute_input": "2021-05-19T13:17:00.563546Z",
     "iopub.status.busy": "2021-05-19T13:17:00.563235Z",
     "iopub.status.idle": "2021-05-19T13:17:00.572798Z",
     "shell.execute_reply": "2021-05-19T13:17:00.570960Z",
     "shell.execute_reply.started": "2021-05-19T13:17:00.563518Z"
    }
   },
   "outputs": [
    {
     "data": {
      "text/plain": [
       "(275616, 9)"
      ]
     },
     "execution_count": 6,
     "metadata": {},
     "output_type": "execute_result"
    }
   ],
   "source": [
    "# how many rows and columns in the data\n",
    "data.shape"
   ]
  },
  {
   "cell_type": "code",
   "execution_count": 7,
   "metadata": {
    "execution": {
     "iopub.execute_input": "2021-05-19T13:17:03.339835Z",
     "iopub.status.busy": "2021-05-19T13:17:03.339390Z",
     "iopub.status.idle": "2021-05-19T13:17:03.409328Z",
     "shell.execute_reply": "2021-05-19T13:17:03.407532Z",
     "shell.execute_reply.started": "2021-05-19T13:17:03.339793Z"
    }
   },
   "outputs": [
    {
     "data": {
      "text/plain": [
       "user_id             0\n",
       "source              0\n",
       "device              0\n",
       "operative_system    0\n",
       "lat                 0\n",
       "long                0\n",
       "weekday             0\n",
       "yearweek            0\n",
       "converted           0\n",
       "dtype: int64"
      ]
     },
     "execution_count": 7,
     "metadata": {},
     "output_type": "execute_result"
    }
   ],
   "source": [
    "# check for null data\n",
    "data.isnull().sum()"
   ]
  },
  {
   "cell_type": "code",
   "execution_count": 8,
   "metadata": {
    "execution": {
     "iopub.execute_input": "2021-05-19T13:17:07.252672Z",
     "iopub.status.busy": "2021-05-19T13:17:07.252308Z",
     "iopub.status.idle": "2021-05-19T13:17:07.266371Z",
     "shell.execute_reply": "2021-05-19T13:17:07.264379Z",
     "shell.execute_reply.started": "2021-05-19T13:17:07.252643Z"
    }
   },
   "outputs": [
    {
     "data": {
      "text/plain": [
       "0    0.98179\n",
       "1    0.01821\n",
       "Name: converted, dtype: float64"
      ]
     },
     "execution_count": 8,
     "metadata": {},
     "output_type": "execute_result"
    }
   ],
   "source": [
    "# check distribution of target variable\n",
    "data.converted.value_counts(normalize=True)"
   ]
  },
  {
   "cell_type": "markdown",
   "metadata": {},
   "source": [
    "Based on the above I cannot see any data quality issues. \n",
    "\n",
    "I am unclear how I would handle `lat` & `long` - perhaps map them to city locations?\n",
    "\n",
    "For `yearweek` perhaps grouping by time of year would be beneficial"
   ]
  },
  {
   "cell_type": "markdown",
   "metadata": {
    "execution": {
     "iopub.execute_input": "2021-05-18T14:31:01.943200Z",
     "iopub.status.busy": "2021-05-18T14:31:01.942913Z",
     "iopub.status.idle": "2021-05-18T14:31:01.948710Z",
     "shell.execute_reply": "2021-05-18T14:31:01.945696Z",
     "shell.execute_reply.started": "2021-05-18T14:31:01.943174Z"
    }
   },
   "source": [
    "#### Create additional features"
   ]
  },
  {
   "cell_type": "markdown",
   "metadata": {},
   "source": [
    "**1. Create additional feature for time of year**"
   ]
  },
  {
   "cell_type": "code",
   "execution_count": 9,
   "metadata": {
    "execution": {
     "iopub.execute_input": "2021-05-19T13:17:34.450395Z",
     "iopub.status.busy": "2021-05-19T13:17:34.450056Z",
     "iopub.status.idle": "2021-05-19T13:17:34.509204Z",
     "shell.execute_reply": "2021-05-19T13:17:34.507961Z",
     "shell.execute_reply.started": "2021-05-19T13:17:34.450366Z"
    }
   },
   "outputs": [],
   "source": [
    "data['month'] = data['yearweek'].apply(lambda x: 'March' if x < 15 else 'April' if x < 19 else 'May')"
   ]
  },
  {
   "cell_type": "code",
   "execution_count": 10,
   "metadata": {
    "execution": {
     "iopub.execute_input": "2021-05-19T13:17:35.645466Z",
     "iopub.status.busy": "2021-05-19T13:17:35.645149Z",
     "iopub.status.idle": "2021-05-19T13:17:35.679852Z",
     "shell.execute_reply": "2021-05-19T13:17:35.678480Z",
     "shell.execute_reply.started": "2021-05-19T13:17:35.645437Z"
    }
   },
   "outputs": [
    {
     "data": {
      "text/html": [
       "<div>\n",
       "<style scoped>\n",
       "    .dataframe tbody tr th:only-of-type {\n",
       "        vertical-align: middle;\n",
       "    }\n",
       "\n",
       "    .dataframe tbody tr th {\n",
       "        vertical-align: top;\n",
       "    }\n",
       "\n",
       "    .dataframe thead th {\n",
       "        text-align: right;\n",
       "    }\n",
       "</style>\n",
       "<table border=\"1\" class=\"dataframe\">\n",
       "  <thead>\n",
       "    <tr style=\"text-align: right;\">\n",
       "      <th></th>\n",
       "      <th>yearweek</th>\n",
       "      <th>month</th>\n",
       "    </tr>\n",
       "  </thead>\n",
       "  <tbody>\n",
       "    <tr>\n",
       "      <th>0</th>\n",
       "      <td>16</td>\n",
       "      <td>April</td>\n",
       "    </tr>\n",
       "    <tr>\n",
       "      <th>1</th>\n",
       "      <td>18</td>\n",
       "      <td>April</td>\n",
       "    </tr>\n",
       "    <tr>\n",
       "      <th>2</th>\n",
       "      <td>13</td>\n",
       "      <td>March</td>\n",
       "    </tr>\n",
       "    <tr>\n",
       "      <th>3</th>\n",
       "      <td>21</td>\n",
       "      <td>May</td>\n",
       "    </tr>\n",
       "    <tr>\n",
       "      <th>4</th>\n",
       "      <td>14</td>\n",
       "      <td>March</td>\n",
       "    </tr>\n",
       "    <tr>\n",
       "      <th>...</th>\n",
       "      <td>...</td>\n",
       "      <td>...</td>\n",
       "    </tr>\n",
       "    <tr>\n",
       "      <th>275611</th>\n",
       "      <td>20</td>\n",
       "      <td>May</td>\n",
       "    </tr>\n",
       "    <tr>\n",
       "      <th>275612</th>\n",
       "      <td>19</td>\n",
       "      <td>May</td>\n",
       "    </tr>\n",
       "    <tr>\n",
       "      <th>275613</th>\n",
       "      <td>19</td>\n",
       "      <td>May</td>\n",
       "    </tr>\n",
       "    <tr>\n",
       "      <th>275614</th>\n",
       "      <td>11</td>\n",
       "      <td>March</td>\n",
       "    </tr>\n",
       "    <tr>\n",
       "      <th>275615</th>\n",
       "      <td>19</td>\n",
       "      <td>May</td>\n",
       "    </tr>\n",
       "  </tbody>\n",
       "</table>\n",
       "<p>275616 rows × 2 columns</p>\n",
       "</div>"
      ],
      "text/plain": [
       "        yearweek  month\n",
       "0             16  April\n",
       "1             18  April\n",
       "2             13  March\n",
       "3             21    May\n",
       "4             14  March\n",
       "...          ...    ...\n",
       "275611        20    May\n",
       "275612        19    May\n",
       "275613        19    May\n",
       "275614        11  March\n",
       "275615        19    May\n",
       "\n",
       "[275616 rows x 2 columns]"
      ]
     },
     "execution_count": 10,
     "metadata": {},
     "output_type": "execute_result"
    }
   ],
   "source": [
    "data[['yearweek','month']]"
   ]
  },
  {
   "cell_type": "code",
   "execution_count": 11,
   "metadata": {
    "execution": {
     "iopub.execute_input": "2021-05-19T13:17:47.312667Z",
     "iopub.status.busy": "2021-05-19T13:17:47.312332Z",
     "iopub.status.idle": "2021-05-19T13:17:47.338133Z",
     "shell.execute_reply": "2021-05-19T13:17:47.333562Z",
     "shell.execute_reply.started": "2021-05-19T13:17:47.312637Z"
    }
   },
   "outputs": [
    {
     "data": {
      "text/html": [
       "<div>\n",
       "<style scoped>\n",
       "    .dataframe tbody tr th:only-of-type {\n",
       "        vertical-align: middle;\n",
       "    }\n",
       "\n",
       "    .dataframe tbody tr th {\n",
       "        vertical-align: top;\n",
       "    }\n",
       "\n",
       "    .dataframe thead th {\n",
       "        text-align: right;\n",
       "    }\n",
       "</style>\n",
       "<table border=\"1\" class=\"dataframe\">\n",
       "  <thead>\n",
       "    <tr style=\"text-align: right;\">\n",
       "      <th></th>\n",
       "      <th>user_id</th>\n",
       "      <th>source</th>\n",
       "      <th>device</th>\n",
       "      <th>operative_system</th>\n",
       "      <th>lat</th>\n",
       "      <th>long</th>\n",
       "      <th>weekday</th>\n",
       "      <th>yearweek</th>\n",
       "      <th>converted</th>\n",
       "      <th>month</th>\n",
       "    </tr>\n",
       "  </thead>\n",
       "  <tbody>\n",
       "    <tr>\n",
       "      <th>0</th>\n",
       "      <td>3</td>\n",
       "      <td>seo_facebook</td>\n",
       "      <td>web</td>\n",
       "      <td>mac</td>\n",
       "      <td>38.89</td>\n",
       "      <td>-94.81</td>\n",
       "      <td>Friday</td>\n",
       "      <td>16</td>\n",
       "      <td>0</td>\n",
       "      <td>April</td>\n",
       "    </tr>\n",
       "    <tr>\n",
       "      <th>1</th>\n",
       "      <td>9</td>\n",
       "      <td>seo-google</td>\n",
       "      <td>mobile</td>\n",
       "      <td>android</td>\n",
       "      <td>41.68</td>\n",
       "      <td>-72.94</td>\n",
       "      <td>Friday</td>\n",
       "      <td>18</td>\n",
       "      <td>0</td>\n",
       "      <td>April</td>\n",
       "    </tr>\n",
       "    <tr>\n",
       "      <th>2</th>\n",
       "      <td>14</td>\n",
       "      <td>friend_referral</td>\n",
       "      <td>mobile</td>\n",
       "      <td>iOS</td>\n",
       "      <td>39.74</td>\n",
       "      <td>-75.53</td>\n",
       "      <td>Saturday</td>\n",
       "      <td>13</td>\n",
       "      <td>0</td>\n",
       "      <td>March</td>\n",
       "    </tr>\n",
       "    <tr>\n",
       "      <th>3</th>\n",
       "      <td>16</td>\n",
       "      <td>ads-google</td>\n",
       "      <td>mobile</td>\n",
       "      <td>android</td>\n",
       "      <td>37.99</td>\n",
       "      <td>-121.80</td>\n",
       "      <td>Friday</td>\n",
       "      <td>21</td>\n",
       "      <td>0</td>\n",
       "      <td>May</td>\n",
       "    </tr>\n",
       "    <tr>\n",
       "      <th>4</th>\n",
       "      <td>19</td>\n",
       "      <td>ads-google</td>\n",
       "      <td>mobile</td>\n",
       "      <td>android</td>\n",
       "      <td>41.08</td>\n",
       "      <td>-81.52</td>\n",
       "      <td>Wednesday</td>\n",
       "      <td>14</td>\n",
       "      <td>0</td>\n",
       "      <td>March</td>\n",
       "    </tr>\n",
       "  </tbody>\n",
       "</table>\n",
       "</div>"
      ],
      "text/plain": [
       "   user_id           source  device operative_system    lat    long    weekday  yearweek  converted  month\n",
       "0        3     seo_facebook     web              mac  38.89  -94.81     Friday        16          0  April\n",
       "1        9       seo-google  mobile          android  41.68  -72.94     Friday        18          0  April\n",
       "2       14  friend_referral  mobile              iOS  39.74  -75.53   Saturday        13          0  March\n",
       "3       16       ads-google  mobile          android  37.99 -121.80     Friday        21          0    May\n",
       "4       19       ads-google  mobile          android  41.08  -81.52  Wednesday        14          0  March"
      ]
     },
     "execution_count": 11,
     "metadata": {},
     "output_type": "execute_result"
    }
   ],
   "source": [
    "data.head()"
   ]
  },
  {
   "cell_type": "code",
   "execution_count": 12,
   "metadata": {
    "execution": {
     "iopub.execute_input": "2021-05-19T13:17:59.355564Z",
     "iopub.status.busy": "2021-05-19T13:17:59.355062Z",
     "iopub.status.idle": "2021-05-19T13:17:59.427334Z",
     "shell.execute_reply": "2021-05-19T13:17:59.425881Z",
     "shell.execute_reply.started": "2021-05-19T13:17:59.355519Z"
    }
   },
   "outputs": [
    {
     "data": {
      "text/plain": [
       "user_id             0\n",
       "source              0\n",
       "device              0\n",
       "operative_system    0\n",
       "lat                 0\n",
       "long                0\n",
       "weekday             0\n",
       "yearweek            0\n",
       "converted           0\n",
       "month               0\n",
       "dtype: int64"
      ]
     },
     "execution_count": 12,
     "metadata": {},
     "output_type": "execute_result"
    }
   ],
   "source": [
    "data.isnull().sum()"
   ]
  },
  {
   "cell_type": "markdown",
   "metadata": {},
   "source": [
    "### Create PDP"
   ]
  },
  {
   "cell_type": "markdown",
   "metadata": {},
   "source": [
    "1. drop any columns that are not important - lat & long?\n",
    "2. create dummy and target variables\n",
    "3. create RF model - don't optimise just create for now\n",
    "\n",
    "Remember that all the values on a PDP are in relation to the base value for a given feature."
   ]
  },
  {
   "cell_type": "code",
   "execution_count": 16,
   "metadata": {
    "execution": {
     "iopub.execute_input": "2021-05-19T13:24:07.398743Z",
     "iopub.status.busy": "2021-05-19T13:24:07.398454Z",
     "iopub.status.idle": "2021-05-19T13:24:07.525940Z",
     "shell.execute_reply": "2021-05-19T13:24:07.523847Z",
     "shell.execute_reply.started": "2021-05-19T13:24:07.398716Z"
    }
   },
   "outputs": [
    {
     "name": "stdout",
     "output_type": "stream",
     "text": [
      "source              ads-bing\n",
      "device                mobile\n",
      "operative_system     android\n",
      "weekday               Friday\n",
      "month                  April\n",
      "dtype: object\n"
     ]
    }
   ],
   "source": [
    "# seleect categorical variables\n",
    "data_categorical = data.select_dtypes(['object']).astype(\"category\")\n",
    "\n",
    "# find base values\n",
    "print(data_categorical.apply(lambda x: x.cat.categories[0]))"
   ]
  },
  {
   "cell_type": "code",
   "execution_count": 20,
   "metadata": {
    "execution": {
     "iopub.execute_input": "2021-05-19T13:27:54.967774Z",
     "iopub.status.busy": "2021-05-19T13:27:54.967320Z",
     "iopub.status.idle": "2021-05-19T13:27:55.120949Z",
     "shell.execute_reply": "2021-05-19T13:27:55.119993Z",
     "shell.execute_reply.started": "2021-05-19T13:27:54.967732Z"
    }
   },
   "outputs": [],
   "source": [
    "# create dummy variables\n",
    "data_dummy = pd.get_dummies(data, drop_first=True)\n",
    "train_cols = data_dummy.drop(columns='converted')"
   ]
  },
  {
   "cell_type": "code",
   "execution_count": 23,
   "metadata": {
    "execution": {
     "iopub.execute_input": "2021-05-19T13:30:17.486899Z",
     "iopub.status.busy": "2021-05-19T13:30:17.486595Z",
     "iopub.status.idle": "2021-05-19T13:30:34.061506Z",
     "shell.execute_reply": "2021-05-19T13:30:34.058963Z",
     "shell.execute_reply.started": "2021-05-19T13:30:17.486870Z"
    }
   },
   "outputs": [
    {
     "data": {
      "text/plain": [
       "RandomForestClassifier(class_weight={0: 0.05, 1: 0.95}, n_estimators=50)"
      ]
     },
     "execution_count": 23,
     "metadata": {},
     "output_type": "execute_result"
    }
   ],
   "source": [
    "# create Decision Tree\n",
    "rf = RandomForestClassifier(class_weight={0:0.05,1:0.95}, n_estimators=50)\n",
    "rf.fit(train_cols, data['converted'])"
   ]
  },
  {
   "cell_type": "code",
   "execution_count": 26,
   "metadata": {
    "execution": {
     "iopub.execute_input": "2021-05-19T13:31:41.438620Z",
     "iopub.status.busy": "2021-05-19T13:31:41.438212Z",
     "iopub.status.idle": "2021-05-19T13:31:44.335700Z",
     "shell.execute_reply": "2021-05-19T13:31:44.333308Z",
     "shell.execute_reply.started": "2021-05-19T13:31:41.438576Z"
    }
   },
   "outputs": [
    {
     "data": {
      "text/plain": [
       "0.9994811621966795"
      ]
     },
     "execution_count": 26,
     "metadata": {},
     "output_type": "execute_result"
    }
   ],
   "source": [
    "# score doesn't tell you how well the model generialises to unseen data.\n",
    "# just creating it to see how well it is predicting for the training data\n",
    "rf.score(train_cols, data['converted'])"
   ]
  },
  {
   "cell_type": "code",
   "execution_count": 33,
   "metadata": {
    "execution": {
     "iopub.execute_input": "2021-05-19T13:38:27.487747Z",
     "iopub.status.busy": "2021-05-19T13:38:27.487454Z",
     "iopub.status.idle": "2021-05-19T13:56:52.050869Z",
     "shell.execute_reply": "2021-05-19T13:56:52.049403Z",
     "shell.execute_reply.started": "2021-05-19T13:38:27.487720Z"
    }
   },
   "outputs": [
    {
     "data": {
      "image/png": "[encoded data removed]",
      "text/plain": [
       "<Figure size 432x288 with 1 Axes>"
      ]
     },
     "metadata": {
      "needs_background": "light"
     },
     "output_type": "display_data"
    },
    {
     "data": {
      "image/png": "[encoded data removed]",
      "text/plain": [
       "<Figure size 432x288 with 1 Axes>"
      ]
     },
     "metadata": {
      "needs_background": "light"
     },
     "output_type": "display_data"
    },
    {
     "data": {
      "image/png": "[encoded data removed]",
      "text/plain": [
       "<Figure size 432x288 with 1 Axes>"
      ]
     },
     "metadata": {
      "needs_background": "light"
     },
     "output_type": "display_data"
    },
    {
     "data": {
      "image/png": "[encoded data removed]",
      "text/plain": [
       "<Figure size 432x288 with 1 Axes>"
      ]
     },
     "metadata": {
      "needs_background": "light"
     },
     "output_type": "display_data"
    },
    {
     "data": {
      "image/png": "[encoded data removed]",
      "text/plain": [
       "<Figure size 432x288 with 1 Axes>"
      ]
     },
     "metadata": {
      "needs_background": "light"
     },
     "output_type": "display_data"
    },
    {
     "data": {
      "image/png": "[encoded data removed]",
      "text/plain": [
       "<Figure size 432x288 with 1 Axes>"
      ]
     },
     "metadata": {
      "needs_background": "light"
     },
     "output_type": "display_data"
    },
    {
     "data": {
      "image/png": "[encoded data removed]",
      "text/plain": [
       "<Figure size 432x288 with 1 Axes>"
      ]
     },
     "metadata": {
      "needs_background": "light"
     },
     "output_type": "display_data"
    },
    {
     "data": {
      "image/png": "[encoded data removed]",
      "text/plain": [
       "<Figure size 432x288 with 1 Axes>"
      ]
     },
     "metadata": {
      "needs_background": "light"
     },
     "output_type": "display_data"
    },
    {
     "data": {
      "image/png": "[encoded data removed]",
      "text/plain": [
       "<Figure size 432x288 with 1 Axes>"
      ]
     },
     "metadata": {
      "needs_background": "light"
     },
     "output_type": "display_data"
    }
   ],
   "source": [
    "#Let's plot all of them. Note that pdpbox allows to group together dummy variables coming from the same categorical variable. For this we need to get the original variable names.\n",
    "feat_original = data.columns.drop('converted')\n",
    "  \n",
    "#plot all variables with a for loop. If a variable is categorical make sure to plot all levels together.\n",
    "for i in range(len(feat_original)):\n",
    "    #get all variables that include the name in feat_original. So, if it is numeric, just take that variable. If it is categorical, take all dummies belonging to the same categorical variable. Since for dummies their name is variable_level, this is easy. Just pick all variables that start with the original variable name. I.e. to get all weekday dummies (weekday_Monday, weekday_Tuesday, etc.), we just look for all variables starting with \"weekday\"\n",
    "    #variables to plot\n",
    "    plot_variable = [e for e in list(train_cols) if e.startswith(feat_original[i])]\n",
    "      \n",
    "    #numeric variables or dummy with just 1 level\n",
    "    if len(plot_variable) == 1:\n",
    "        # build pdp\n",
    "       pdp_iso = pdp.pdp_isolate( model=rf, dataset=train_cols, model_features=list(train_cols), feature=plot_variable[0], num_grid_points=50)\n",
    "       pdp_dataset = pd.Series(pdp_iso.pdp, index=pdp_iso.feature_grids)\n",
    "       #pdpbox has several options if you want to use their built-in plots. I personally prefer just using .plot. It is totally subjective obviously.\n",
    "       pdp_dataset.plot(title=feat_original[i])\n",
    "       plt.show()\n",
    "         \n",
    "    #categorical variables with several levels\n",
    "    else:\n",
    "       pdp_iso = pdp.pdp_isolate( model=rf, dataset=train_cols, model_features=list(train_cols),  feature=plot_variable, num_grid_points=50)\n",
    "       pdp_dataset = pd.Series(pdp_iso.pdp, index=pdp_iso.display_columns)\n",
    "       pdp_dataset.sort_values(ascending=False).plot(kind='bar', title=feat_original[i])\n",
    "       plt.show()\n",
    "    plt.close()"
   ]
  },
  {
   "cell_type": "code",
   "execution_count": 39,
   "metadata": {
    "execution": {
     "iopub.execute_input": "2021-05-19T14:04:20.645222Z",
     "iopub.status.busy": "2021-05-19T14:04:20.644492Z",
     "iopub.status.idle": "2021-05-19T14:04:20.670070Z",
     "shell.execute_reply": "2021-05-19T14:04:20.666284Z",
     "shell.execute_reply.started": "2021-05-19T14:04:20.645185Z"
    }
   },
   "outputs": [
    {
     "data": {
      "text/plain": [
       "0.05172776616742134"
      ]
     },
     "execution_count": 39,
     "metadata": {},
     "output_type": "execute_result"
    }
   ],
   "source": [
    "# lat analysis\n",
    "data[data['lat'] <  28]['lat'].count() / data.shape[0]"
   ]
  },
  {
   "cell_type": "code",
   "execution_count": 41,
   "metadata": {
    "execution": {
     "iopub.execute_input": "2021-05-19T14:06:04.284631Z",
     "iopub.status.busy": "2021-05-19T14:06:04.284326Z",
     "iopub.status.idle": "2021-05-19T14:06:04.300621Z",
     "shell.execute_reply": "2021-05-19T14:06:04.298664Z",
     "shell.execute_reply.started": "2021-05-19T14:06:04.284604Z"
    }
   },
   "outputs": [
    {
     "data": {
      "text/plain": [
       "0.0012227156623708347"
      ]
     },
     "execution_count": 41,
     "metadata": {},
     "output_type": "execute_result"
    }
   ],
   "source": [
    "# long analysis\n",
    "data[data['long'] > -25]['long'].count() / data.shape[0]"
   ]
  },
  {
   "cell_type": "code",
   "execution_count": 42,
   "metadata": {
    "execution": {
     "iopub.execute_input": "2021-05-19T14:06:47.665803Z",
     "iopub.status.busy": "2021-05-19T14:06:47.665500Z",
     "iopub.status.idle": "2021-05-19T14:06:47.697206Z",
     "shell.execute_reply": "2021-05-19T14:06:47.694638Z",
     "shell.execute_reply.started": "2021-05-19T14:06:47.665775Z"
    }
   },
   "outputs": [
    {
     "data": {
      "text/plain": [
       "array(['web', 'mobile'], dtype=object)"
      ]
     },
     "execution_count": 42,
     "metadata": {},
     "output_type": "execute_result"
    }
   ],
   "source": [
    "data['device'].unique()"
   ]
  },
  {
   "cell_type": "code",
   "execution_count": 44,
   "metadata": {
    "execution": {
     "iopub.execute_input": "2021-05-19T14:08:17.645317Z",
     "iopub.status.busy": "2021-05-19T14:08:17.644983Z",
     "iopub.status.idle": "2021-05-19T14:08:17.720368Z",
     "shell.execute_reply": "2021-05-19T14:08:17.716309Z",
     "shell.execute_reply.started": "2021-05-19T14:08:17.645286Z"
    }
   },
   "outputs": [
    {
     "data": {
      "text/html": [
       "<div>\n",
       "<style scoped>\n",
       "    .dataframe tbody tr th:only-of-type {\n",
       "        vertical-align: middle;\n",
       "    }\n",
       "\n",
       "    .dataframe tbody tr th {\n",
       "        vertical-align: top;\n",
       "    }\n",
       "\n",
       "    .dataframe thead th {\n",
       "        text-align: right;\n",
       "    }\n",
       "</style>\n",
       "<table border=\"1\" class=\"dataframe\">\n",
       "  <thead>\n",
       "    <tr style=\"text-align: right;\">\n",
       "      <th></th>\n",
       "      <th>user_id</th>\n",
       "      <th>source</th>\n",
       "      <th>device</th>\n",
       "      <th>operative_system</th>\n",
       "      <th>lat</th>\n",
       "      <th>long</th>\n",
       "      <th>weekday</th>\n",
       "      <th>yearweek</th>\n",
       "      <th>converted</th>\n",
       "      <th>month</th>\n",
       "    </tr>\n",
       "  </thead>\n",
       "  <tbody>\n",
       "    <tr>\n",
       "      <th>1</th>\n",
       "      <td>9</td>\n",
       "      <td>seo-google</td>\n",
       "      <td>mobile</td>\n",
       "      <td>android</td>\n",
       "      <td>41.68</td>\n",
       "      <td>-72.94</td>\n",
       "      <td>Friday</td>\n",
       "      <td>18</td>\n",
       "      <td>0</td>\n",
       "      <td>April</td>\n",
       "    </tr>\n",
       "    <tr>\n",
       "      <th>2</th>\n",
       "      <td>14</td>\n",
       "      <td>friend_referral</td>\n",
       "      <td>mobile</td>\n",
       "      <td>iOS</td>\n",
       "      <td>39.74</td>\n",
       "      <td>-75.53</td>\n",
       "      <td>Saturday</td>\n",
       "      <td>13</td>\n",
       "      <td>0</td>\n",
       "      <td>March</td>\n",
       "    </tr>\n",
       "    <tr>\n",
       "      <th>3</th>\n",
       "      <td>16</td>\n",
       "      <td>ads-google</td>\n",
       "      <td>mobile</td>\n",
       "      <td>android</td>\n",
       "      <td>37.99</td>\n",
       "      <td>-121.80</td>\n",
       "      <td>Friday</td>\n",
       "      <td>21</td>\n",
       "      <td>0</td>\n",
       "      <td>May</td>\n",
       "    </tr>\n",
       "    <tr>\n",
       "      <th>4</th>\n",
       "      <td>19</td>\n",
       "      <td>ads-google</td>\n",
       "      <td>mobile</td>\n",
       "      <td>android</td>\n",
       "      <td>41.08</td>\n",
       "      <td>-81.52</td>\n",
       "      <td>Wednesday</td>\n",
       "      <td>14</td>\n",
       "      <td>0</td>\n",
       "      <td>March</td>\n",
       "    </tr>\n",
       "    <tr>\n",
       "      <th>7</th>\n",
       "      <td>24</td>\n",
       "      <td>direct_traffic</td>\n",
       "      <td>mobile</td>\n",
       "      <td>android</td>\n",
       "      <td>45.54</td>\n",
       "      <td>-122.66</td>\n",
       "      <td>Thursday</td>\n",
       "      <td>17</td>\n",
       "      <td>0</td>\n",
       "      <td>April</td>\n",
       "    </tr>\n",
       "    <tr>\n",
       "      <th>...</th>\n",
       "      <td>...</td>\n",
       "      <td>...</td>\n",
       "      <td>...</td>\n",
       "      <td>...</td>\n",
       "      <td>...</td>\n",
       "      <td>...</td>\n",
       "      <td>...</td>\n",
       "      <td>...</td>\n",
       "      <td>...</td>\n",
       "      <td>...</td>\n",
       "    </tr>\n",
       "    <tr>\n",
       "      <th>275607</th>\n",
       "      <td>999959</td>\n",
       "      <td>ads-google</td>\n",
       "      <td>mobile</td>\n",
       "      <td>iOS</td>\n",
       "      <td>30.31</td>\n",
       "      <td>-97.75</td>\n",
       "      <td>Saturday</td>\n",
       "      <td>10</td>\n",
       "      <td>0</td>\n",
       "      <td>March</td>\n",
       "    </tr>\n",
       "    <tr>\n",
       "      <th>275608</th>\n",
       "      <td>999967</td>\n",
       "      <td>ads_facebook</td>\n",
       "      <td>mobile</td>\n",
       "      <td>iOS</td>\n",
       "      <td>27.99</td>\n",
       "      <td>-80.66</td>\n",
       "      <td>Friday</td>\n",
       "      <td>21</td>\n",
       "      <td>0</td>\n",
       "      <td>May</td>\n",
       "    </tr>\n",
       "    <tr>\n",
       "      <th>275609</th>\n",
       "      <td>999971</td>\n",
       "      <td>seo-google</td>\n",
       "      <td>mobile</td>\n",
       "      <td>android</td>\n",
       "      <td>39.20</td>\n",
       "      <td>-76.86</td>\n",
       "      <td>Wednesday</td>\n",
       "      <td>13</td>\n",
       "      <td>0</td>\n",
       "      <td>March</td>\n",
       "    </tr>\n",
       "    <tr>\n",
       "      <th>275611</th>\n",
       "      <td>999978</td>\n",
       "      <td>direct_traffic</td>\n",
       "      <td>mobile</td>\n",
       "      <td>android</td>\n",
       "      <td>39.78</td>\n",
       "      <td>-86.15</td>\n",
       "      <td>Saturday</td>\n",
       "      <td>20</td>\n",
       "      <td>0</td>\n",
       "      <td>May</td>\n",
       "    </tr>\n",
       "    <tr>\n",
       "      <th>275615</th>\n",
       "      <td>999999</td>\n",
       "      <td>seo-yahoo</td>\n",
       "      <td>mobile</td>\n",
       "      <td>iOS</td>\n",
       "      <td>38.89</td>\n",
       "      <td>-94.81</td>\n",
       "      <td>Sunday</td>\n",
       "      <td>19</td>\n",
       "      <td>0</td>\n",
       "      <td>May</td>\n",
       "    </tr>\n",
       "  </tbody>\n",
       "</table>\n",
       "<p>162321 rows × 10 columns</p>\n",
       "</div>"
      ],
      "text/plain": [
       "        user_id           source  device operative_system    lat    long    weekday  yearweek  converted  month\n",
       "1             9       seo-google  mobile          android  41.68  -72.94     Friday        18          0  April\n",
       "2            14  friend_referral  mobile              iOS  39.74  -75.53   Saturday        13          0  March\n",
       "3            16       ads-google  mobile          android  37.99 -121.80     Friday        21          0    May\n",
       "4            19       ads-google  mobile          android  41.08  -81.52  Wednesday        14          0  March\n",
       "7            24   direct_traffic  mobile          android  45.54 -122.66   Thursday        17          0  April\n",
       "...         ...              ...     ...              ...    ...     ...        ...       ...        ...    ...\n",
       "275607   999959       ads-google  mobile              iOS  30.31  -97.75   Saturday        10          0  March\n",
       "275608   999967     ads_facebook  mobile              iOS  27.99  -80.66     Friday        21          0    May\n",
       "275609   999971       seo-google  mobile          android  39.20  -76.86  Wednesday        13          0  March\n",
       "275611   999978   direct_traffic  mobile          android  39.78  -86.15   Saturday        20          0    May\n",
       "275615   999999        seo-yahoo  mobile              iOS  38.89  -94.81     Sunday        19          0    May\n",
       "\n",
       "[162321 rows x 10 columns]"
      ]
     },
     "execution_count": 44,
     "metadata": {},
     "output_type": "execute_result"
    }
   ],
   "source": [
    "data[data['device'] == 'mobile']"
   ]
  },
  {
   "cell_type": "code",
   "execution_count": 46,
   "metadata": {
    "execution": {
     "iopub.execute_input": "2021-05-19T14:08:51.111312Z",
     "iopub.status.busy": "2021-05-19T14:08:51.110391Z",
     "iopub.status.idle": "2021-05-19T14:08:51.122639Z",
     "shell.execute_reply": "2021-05-19T14:08:51.120462Z",
     "shell.execute_reply.started": "2021-05-19T14:08:51.111274Z"
    }
   },
   "outputs": [
    {
     "data": {
      "text/plain": [
       "Index(['user_id', 'lat', 'long', 'yearweek', 'converted', 'source_ads-google', 'source_ads-yahoo', 'source_ads_facebook', 'source_ads_other', 'source_direct_traffic', 'source_friend_referral', 'source_seo-bing', 'source_seo-google', 'source_seo-other', 'source_seo-yahoo', 'source_seo_facebook', 'device_web', 'operative_system_iOS',\n",
       "       'operative_system_linux', 'operative_system_mac', 'operative_system_other', 'operative_system_windows', 'weekday_Monday', 'weekday_Saturday', 'weekday_Sunday', 'weekday_Thursday', 'weekday_Tuesday', 'weekday_Wednesday', 'month_March', 'month_May'],\n",
       "      dtype='object')"
      ]
     },
     "execution_count": 46,
     "metadata": {},
     "output_type": "execute_result"
    }
   ],
   "source": [
    "data_dummy.columns"
   ]
  },
  {
   "cell_type": "code",
   "execution_count": 51,
   "metadata": {
    "execution": {
     "iopub.execute_input": "2021-05-19T14:14:02.347839Z",
     "iopub.status.busy": "2021-05-19T14:14:02.347174Z",
     "iopub.status.idle": "2021-05-19T14:14:02.393800Z",
     "shell.execute_reply": "2021-05-19T14:14:02.392054Z",
     "shell.execute_reply.started": "2021-05-19T14:14:02.347786Z"
    }
   },
   "outputs": [
    {
     "data": {
      "text/plain": [
       "18011"
      ]
     },
     "execution_count": 51,
     "metadata": {},
     "output_type": "execute_result"
    }
   ],
   "source": [
    "data[data['source']  == 'friend_referral'].count()[0]"
   ]
  },
  {
   "cell_type": "code",
   "execution_count": 52,
   "metadata": {
    "execution": {
     "iopub.execute_input": "2021-05-19T14:22:21.982659Z",
     "iopub.status.busy": "2021-05-19T14:22:21.982357Z",
     "iopub.status.idle": "2021-05-19T14:22:22.032821Z",
     "shell.execute_reply": "2021-05-19T14:22:22.030864Z",
     "shell.execute_reply.started": "2021-05-19T14:22:21.982632Z"
    }
   },
   "outputs": [
    {
     "data": {
      "text/plain": [
       "mobile    0.588939\n",
       "web       0.411061\n",
       "Name: device, dtype: float64"
      ]
     },
     "execution_count": 52,
     "metadata": {},
     "output_type": "execute_result"
    }
   ],
   "source": [
    "data['device'].value_counts(normalize=True)"
   ]
  },
  {
   "cell_type": "markdown",
   "metadata": {},
   "source": [
    "### Create RuleFit"
   ]
  },
  {
   "cell_type": "code",
   "execution_count": 53,
   "metadata": {
    "execution": {
     "iopub.execute_input": "2021-05-19T14:38:56.251264Z",
     "iopub.status.busy": "2021-05-19T14:38:56.250733Z",
     "iopub.status.idle": "2021-05-19T14:38:56.277419Z",
     "shell.execute_reply": "2021-05-19T14:38:56.275640Z",
     "shell.execute_reply.started": "2021-05-19T14:38:56.251220Z"
    }
   },
   "outputs": [],
   "source": [
    "from sklearn.linear_model import LogisticRegression\n",
    "from rulefit import RuleFit"
   ]
  },
  {
   "cell_type": "code",
   "execution_count": 54,
   "metadata": {
    "execution": {
     "iopub.execute_input": "2021-05-19T14:41:47.907697Z",
     "iopub.status.busy": "2021-05-19T14:41:47.907068Z",
     "iopub.status.idle": "2021-05-19T14:41:47.918047Z",
     "shell.execute_reply": "2021-05-19T14:41:47.914013Z",
     "shell.execute_reply.started": "2021-05-19T14:41:47.907638Z"
    }
   },
   "outputs": [],
   "source": [
    "rf = RandomForestClassifier(max_depth=2, n_estimators=10, class_weight={0:0.05,1:0.95})"
   ]
  },
  {
   "cell_type": "code",
   "execution_count": 56,
   "metadata": {
    "execution": {
     "iopub.execute_input": "2021-05-19T14:42:17.607628Z",
     "iopub.status.busy": "2021-05-19T14:42:17.607174Z",
     "iopub.status.idle": "2021-05-19T14:43:13.501705Z",
     "shell.execute_reply": "2021-05-19T14:43:13.499030Z",
     "shell.execute_reply.started": "2021-05-19T14:42:17.607583Z"
    }
   },
   "outputs": [
    {
     "name": "stdout",
     "output_type": "stream",
     "text": [
      "We have extracted 39 rules\n"
     ]
    }
   ],
   "source": [
    "rufi=RuleFit(rfmode=\"classify\", tree_generator=rf, exp_rand_tree_size=False, lin_standardise=False)\n",
    "\n",
    "rufi.fit(train_cols.values, data['converted'].values, feature_names = train_cols.columns)\n",
    "print(\"We have extracted\", rufi.transform(train_cols.values).shape[1], \"rules\")"
   ]
  },
  {
   "cell_type": "code",
   "execution_count": 57,
   "metadata": {
    "execution": {
     "iopub.execute_input": "2021-05-19T14:43:17.385231Z",
     "iopub.status.busy": "2021-05-19T14:43:17.384904Z",
     "iopub.status.idle": "2021-05-19T14:43:17.405520Z",
     "shell.execute_reply": "2021-05-19T14:43:17.401304Z",
     "shell.execute_reply.started": "2021-05-19T14:43:17.385199Z"
    }
   },
   "outputs": [
    {
     "name": "stdout",
     "output_type": "stream",
     "text": [
      "['operative_system_mac > 0.5 & long > -122.14500045776367'\n",
      " 'operative_system_linux > 0.5 & source_ads_facebook > 0.5'\n",
      " 'operative_system_linux <= 0.5 & source_ads-google > 0.5'\n",
      " 'operative_system_mac > 0.5 & source_ads_facebook <= 0.5'\n",
      " 'operative_system_mac > 0.5 & yearweek <= 10.5']\n"
     ]
    }
   ],
   "source": [
    "# Extract and small of the rules found from by RuleFit\n",
    "output=rufi.get_rules()\n",
    "print(output[output['type']==\"rule\"]['rule'].head().values)"
   ]
  },
  {
   "cell_type": "code",
   "execution_count": 84,
   "metadata": {
    "execution": {
     "iopub.execute_input": "2021-05-19T15:26:53.097526Z",
     "iopub.status.busy": "2021-05-19T15:26:53.097071Z",
     "iopub.status.idle": "2021-05-19T15:26:59.595512Z",
     "shell.execute_reply": "2021-05-19T15:26:59.593629Z",
     "shell.execute_reply.started": "2021-05-19T15:26:53.097485Z"
    }
   },
   "outputs": [
    {
     "data": {
      "text/html": [
       "<div>\n",
       "<style scoped>\n",
       "    .dataframe tbody tr th:only-of-type {\n",
       "        vertical-align: middle;\n",
       "    }\n",
       "\n",
       "    .dataframe tbody tr th {\n",
       "        vertical-align: top;\n",
       "    }\n",
       "\n",
       "    .dataframe thead th {\n",
       "        text-align: right;\n",
       "    }\n",
       "</style>\n",
       "<table border=\"1\" class=\"dataframe\">\n",
       "  <thead>\n",
       "    <tr style=\"text-align: right;\">\n",
       "      <th></th>\n",
       "      <th>rule</th>\n",
       "      <th>type</th>\n",
       "      <th>coef</th>\n",
       "      <th>support</th>\n",
       "      <th>importance</th>\n",
       "    </tr>\n",
       "  </thead>\n",
       "  <tbody>\n",
       "    <tr>\n",
       "      <th>11</th>\n",
       "      <td>source_seo-google</td>\n",
       "      <td>linear</td>\n",
       "      <td>0.137540</td>\n",
       "      <td>1.000000</td>\n",
       "      <td>0.0</td>\n",
       "    </tr>\n",
       "    <tr>\n",
       "      <th>33</th>\n",
       "      <td>operative_system_mac &gt; 0.5 &amp; yearweek &lt;= 10.5</td>\n",
       "      <td>rule</td>\n",
       "      <td>0.122350</td>\n",
       "      <td>0.005908</td>\n",
       "      <td>0.0</td>\n",
       "    </tr>\n",
       "    <tr>\n",
       "      <th>50</th>\n",
       "      <td>source_friend_referral &lt;= 0.5 &amp; operative_system_windows &gt; 0.5</td>\n",
       "      <td>rule</td>\n",
       "      <td>0.093609</td>\n",
       "      <td>0.298183</td>\n",
       "      <td>0.0</td>\n",
       "    </tr>\n",
       "    <tr>\n",
       "      <th>10</th>\n",
       "      <td>source_seo-bing</td>\n",
       "      <td>linear</td>\n",
       "      <td>0.091739</td>\n",
       "      <td>1.000000</td>\n",
       "      <td>0.0</td>\n",
       "    </tr>\n",
       "    <tr>\n",
       "      <th>28</th>\n",
       "      <td>month_May</td>\n",
       "      <td>linear</td>\n",
       "      <td>0.077974</td>\n",
       "      <td>1.000000</td>\n",
       "      <td>0.0</td>\n",
       "    </tr>\n",
       "    <tr>\n",
       "      <th>14</th>\n",
       "      <td>source_seo_facebook</td>\n",
       "      <td>linear</td>\n",
       "      <td>0.065753</td>\n",
       "      <td>1.000000</td>\n",
       "      <td>0.0</td>\n",
       "    </tr>\n",
       "    <tr>\n",
       "      <th>36</th>\n",
       "      <td>operative_system_mac &gt; 0.5 &amp; long &lt;= -122.14500045776367</td>\n",
       "      <td>rule</td>\n",
       "      <td>0.047379</td>\n",
       "      <td>0.003906</td>\n",
       "      <td>0.0</td>\n",
       "    </tr>\n",
       "    <tr>\n",
       "      <th>13</th>\n",
       "      <td>source_seo-yahoo</td>\n",
       "      <td>linear</td>\n",
       "      <td>0.040126</td>\n",
       "      <td>1.000000</td>\n",
       "      <td>0.0</td>\n",
       "    </tr>\n",
       "    <tr>\n",
       "      <th>12</th>\n",
       "      <td>source_seo-other</td>\n",
       "      <td>linear</td>\n",
       "      <td>0.015472</td>\n",
       "      <td>1.000000</td>\n",
       "      <td>0.0</td>\n",
       "    </tr>\n",
       "    <tr>\n",
       "      <th>34</th>\n",
       "      <td>long &lt;= -89.18999862670898 &amp; source_friend_referral &gt; 0.5</td>\n",
       "      <td>rule</td>\n",
       "      <td>0.010735</td>\n",
       "      <td>0.032391</td>\n",
       "      <td>0.0</td>\n",
       "    </tr>\n",
       "    <tr>\n",
       "      <th>51</th>\n",
       "      <td>operative_system_windows &lt;= 0.5 &amp; source_ads-google &gt; 0.5</td>\n",
       "      <td>rule</td>\n",
       "      <td>-0.116872</td>\n",
       "      <td>0.127826</td>\n",
       "      <td>0.0</td>\n",
       "    </tr>\n",
       "    <tr>\n",
       "      <th>15</th>\n",
       "      <td>device_web</td>\n",
       "      <td>linear</td>\n",
       "      <td>-0.146222</td>\n",
       "      <td>1.000000</td>\n",
       "      <td>0.0</td>\n",
       "    </tr>\n",
       "    <tr>\n",
       "      <th>27</th>\n",
       "      <td>month_March</td>\n",
       "      <td>linear</td>\n",
       "      <td>-0.151680</td>\n",
       "      <td>1.000000</td>\n",
       "      <td>0.0</td>\n",
       "    </tr>\n",
       "    <tr>\n",
       "      <th>46</th>\n",
       "      <td>operative_system_iOS &lt;= 0.5 &amp; source_ads-google &lt;= 0.5</td>\n",
       "      <td>rule</td>\n",
       "      <td>-0.175891</td>\n",
       "      <td>0.568452</td>\n",
       "      <td>0.0</td>\n",
       "    </tr>\n",
       "    <tr>\n",
       "      <th>66</th>\n",
       "      <td>operative_system_mac &lt;= 0.5 &amp; source_direct_traffic &gt; 0.5</td>\n",
       "      <td>rule</td>\n",
       "      <td>-0.181839</td>\n",
       "      <td>0.175862</td>\n",
       "      <td>0.0</td>\n",
       "    </tr>\n",
       "    <tr>\n",
       "      <th>29</th>\n",
       "      <td>operative_system_mac &gt; 0.5 &amp; long &gt; -122.14500045776367</td>\n",
       "      <td>rule</td>\n",
       "      <td>-0.188607</td>\n",
       "      <td>0.075226</td>\n",
       "      <td>0.0</td>\n",
       "    </tr>\n",
       "    <tr>\n",
       "      <th>64</th>\n",
       "      <td>operative_system_windows &lt;= 0.5 &amp; source_ads-google &lt;= 0.5</td>\n",
       "      <td>rule</td>\n",
       "      <td>-0.193994</td>\n",
       "      <td>0.553679</td>\n",
       "      <td>0.0</td>\n",
       "    </tr>\n",
       "    <tr>\n",
       "      <th>17</th>\n",
       "      <td>operative_system_linux</td>\n",
       "      <td>linear</td>\n",
       "      <td>-0.214518</td>\n",
       "      <td>1.000000</td>\n",
       "      <td>0.0</td>\n",
       "    </tr>\n",
       "    <tr>\n",
       "      <th>37</th>\n",
       "      <td>source_ads_facebook &lt;= 0.5 &amp; operative_system_mac &lt;= 0.5</td>\n",
       "      <td>rule</td>\n",
       "      <td>-0.225821</td>\n",
       "      <td>0.765469</td>\n",
       "      <td>0.0</td>\n",
       "    </tr>\n",
       "    <tr>\n",
       "      <th>58</th>\n",
       "      <td>long &lt;= -70.96500015258789 &amp; source_ads-google &lt;= 0.5</td>\n",
       "      <td>rule</td>\n",
       "      <td>-0.243591</td>\n",
       "      <td>0.805397</td>\n",
       "      <td>0.0</td>\n",
       "    </tr>\n",
       "    <tr>\n",
       "      <th>57</th>\n",
       "      <td>source_friend_referral &lt;= 0.5 &amp; operative_system_iOS &lt;= 0.5</td>\n",
       "      <td>rule</td>\n",
       "      <td>-0.296750</td>\n",
       "      <td>0.653077</td>\n",
       "      <td>0.0</td>\n",
       "    </tr>\n",
       "    <tr>\n",
       "      <th>47</th>\n",
       "      <td>operative_system_mac &lt;= 0.5 &amp; source_ads_facebook &gt; 0.5</td>\n",
       "      <td>rule</td>\n",
       "      <td>-0.299845</td>\n",
       "      <td>0.155398</td>\n",
       "      <td>0.0</td>\n",
       "    </tr>\n",
       "    <tr>\n",
       "      <th>63</th>\n",
       "      <td>yearweek &lt;= 21.5 &amp; source_ads_facebook &gt; 0.5</td>\n",
       "      <td>rule</td>\n",
       "      <td>-0.396848</td>\n",
       "      <td>0.155576</td>\n",
       "      <td>0.0</td>\n",
       "    </tr>\n",
       "    <tr>\n",
       "      <th>54</th>\n",
       "      <td>operative_system_mac &lt;= 0.5 &amp; operative_system_other &lt;= 0.5</td>\n",
       "      <td>rule</td>\n",
       "      <td>-0.621648</td>\n",
       "      <td>0.869665</td>\n",
       "      <td>0.0</td>\n",
       "    </tr>\n",
       "    <tr>\n",
       "      <th>19</th>\n",
       "      <td>operative_system_other</td>\n",
       "      <td>linear</td>\n",
       "      <td>-0.748850</td>\n",
       "      <td>1.000000</td>\n",
       "      <td>0.0</td>\n",
       "    </tr>\n",
       "    <tr>\n",
       "      <th>39</th>\n",
       "      <td>source_friend_referral &lt;= 0.5 &amp; source_ads_facebook &lt;= 0.5</td>\n",
       "      <td>rule</td>\n",
       "      <td>-0.825356</td>\n",
       "      <td>0.766683</td>\n",
       "      <td>0.0</td>\n",
       "    </tr>\n",
       "  </tbody>\n",
       "</table>\n",
       "</div>"
      ],
      "text/plain": [
       "                                                              rule    type      coef   support  \\\n",
       "11  source_seo-google                                               linear  0.137540  1.000000   \n",
       "33  operative_system_mac > 0.5 & yearweek <= 10.5                   rule    0.122350  0.005908   \n",
       "50  source_friend_referral <= 0.5 & operative_system_windows > 0.5  rule    0.093609  0.298183   \n",
       "10  source_seo-bing                                                 linear  0.091739  1.000000   \n",
       "28  month_May                                                       linear  0.077974  1.000000   \n",
       "14  source_seo_facebook                                             linear  0.065753  1.000000   \n",
       "36  operative_system_mac > 0.5 & long <= -122.14500045776367        rule    0.047379  0.003906   \n",
       "13  source_seo-yahoo                                                linear  0.040126  1.000000   \n",
       "12  source_seo-other                                                linear  0.015472  1.000000   \n",
       "34  long <= -89.18999862670898 & source_friend_referral > 0.5       rule    0.010735  0.032391   \n",
       "51  operative_system_windows <= 0.5 & source_ads-google > 0.5       rule   -0.116872  0.127826   \n",
       "15  device_web                                                      linear -0.146222  1.000000   \n",
       "27  month_March                                                     linear -0.151680  1.000000   \n",
       "46  operative_system_iOS <= 0.5 & source_ads-google <= 0.5          rule   -0.175891  0.568452   \n",
       "66  operative_system_mac <= 0.5 & source_direct_traffic > 0.5       rule   -0.181839  0.175862   \n",
       "29  operative_system_mac > 0.5 & long > -122.14500045776367         rule   -0.188607  0.075226   \n",
       "64  operative_system_windows <= 0.5 & source_ads-google <= 0.5      rule   -0.193994  0.553679   \n",
       "17  operative_system_linux                                          linear -0.214518  1.000000   \n",
       "37  source_ads_facebook <= 0.5 & operative_system_mac <= 0.5        rule   -0.225821  0.765469   \n",
       "58  long <= -70.96500015258789 & source_ads-google <= 0.5           rule   -0.243591  0.805397   \n",
       "57  source_friend_referral <= 0.5 & operative_system_iOS <= 0.5     rule   -0.296750  0.653077   \n",
       "47  operative_system_mac <= 0.5 & source_ads_facebook > 0.5         rule   -0.299845  0.155398   \n",
       "63  yearweek <= 21.5 & source_ads_facebook > 0.5                    rule   -0.396848  0.155576   \n",
       "54  operative_system_mac <= 0.5 & operative_system_other <= 0.5     rule   -0.621648  0.869665   \n",
       "19  operative_system_other                                          linear -0.748850  1.000000   \n",
       "39  source_friend_referral <= 0.5 & source_ads_facebook <= 0.5      rule   -0.825356  0.766683   \n",
       "\n",
       "    importance  \n",
       "11  0.0         \n",
       "33  0.0         \n",
       "50  0.0         \n",
       "10  0.0         \n",
       "28  0.0         \n",
       "14  0.0         \n",
       "36  0.0         \n",
       "13  0.0         \n",
       "12  0.0         \n",
       "34  0.0         \n",
       "51  0.0         \n",
       "15  0.0         \n",
       "27  0.0         \n",
       "46  0.0         \n",
       "66  0.0         \n",
       "29  0.0         \n",
       "64  0.0         \n",
       "17  0.0         \n",
       "37  0.0         \n",
       "58  0.0         \n",
       "57  0.0         \n",
       "47  0.0         \n",
       "63  0.0         \n",
       "54  0.0         \n",
       "19  0.0         \n",
       "39  0.0         "
      ]
     },
     "execution_count": 84,
     "metadata": {},
     "output_type": "execute_result"
    }
   ],
   "source": [
    "#X_concat is the new dataset given by the original variables (train_cols.values)  as well as the new rules extracted from the trees (rufi.transform(train_cols.values))\n",
    "X_concat = np.concatenate((train_cols, rufi.transform(train_cols.values)), axis=1)\n",
    "#Build the logistic regression with penalty. This will set low coefficients to zero, so only the relevant ones will survive\n",
    "log = LogisticRegression(penalty='l1', solver='liblinear', C=0.1)\n",
    "log.fit(X_concat, data['converted'])\n",
    "#get the full output with variables, coefficients, and support\n",
    "output.iloc[:,2] = np.transpose(log.coef_)\n",
    "output[(output['coef'] > 0.01) | (output['coef'] < -0.1)].sort_values('coef', ascending = False )\n",
    "# output[output['coef'] != 0].sort_values('coef', ascending = False )"
   ]
  },
  {
   "cell_type": "code",
   "execution_count": null,
   "metadata": {},
   "outputs": [],
   "source": []
  }
 ],
 "metadata": {
  "kernelspec": {
   "display_name": "Python 3",
   "language": "python",
   "name": "python3"
  },
  "language_info": {
   "codemirror_mode": {
    "name": "ipython",
    "version": 3
   },
   "file_extension": ".py",
   "mimetype": "text/x-python",
   "name": "python",
   "nbconvert_exporter": "python",
   "pygments_lexer": "ipython3",
   "version": "3.7.7"
  }
 },
 "nbformat": 4,
 "nbformat_minor": 4
}
