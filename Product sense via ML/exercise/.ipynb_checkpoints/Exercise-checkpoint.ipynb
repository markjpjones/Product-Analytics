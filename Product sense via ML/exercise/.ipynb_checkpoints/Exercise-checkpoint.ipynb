{
 "cells": [
  {
   "cell_type": "markdown",
   "metadata": {},
   "source": [
    "### Context\n",
    "\n",
    "The VP of Product is interested in having a holistic view of conversion rate, especially focusing on actionable insights. What are your main findings looking at the data and what would be your top 3 product ideas to increase conversion rate? \n",
    "\n",
    "**Tasks**\n",
    "\n",
    "1. What are my main findings when looking at the data in relation to conversion rate?\n",
    "2. What 3 ideas would I recommend exploring further to increase the conversion rate?\n",
    "\n"
   ]
  },
  {
   "cell_type": "markdown",
   "metadata": {},
   "source": [
    "### Approach\n",
    "- Perform summary analysis to understand the data at a high level\n",
    "- I will review numerical data to see if it makes sense to define categorical groupings, which could help make extracting insights easier\n",
    "- Random Forests model to predict conversions, with the conversion being defined as the Target Variable. I will not seek to optimise the model in this exercise\n",
    "- I will use 2 approaches to extract insights\n",
    "    - PDP: to identify which values of variables lead to the highest conversions in relation to the base values.\n",
    "    - RuleFit: to identify interesting rules/variables that could increase conversion rate\n"
   ]
  },
  {
   "cell_type": "markdown",
   "metadata": {},
   "source": [
    "---"
   ]
  },
  {
   "cell_type": "code",
   "execution_count": 89,
   "metadata": {
    "execution": {
     "iopub.execute_input": "2021-05-21T11:10:20.024330Z",
     "iopub.status.busy": "2021-05-21T11:10:20.023777Z",
     "iopub.status.idle": "2021-05-21T11:10:20.059029Z",
     "shell.execute_reply": "2021-05-21T11:10:20.055289Z",
     "shell.execute_reply.started": "2021-05-21T11:10:20.024271Z"
    }
   },
   "outputs": [],
   "source": [
    "import pandas as pd\n",
    "import numpy as np\n",
    "import matplotlib.pyplot as plt\n",
    "from pdpbox import pdp, info_plots\n",
    "from sklearn.ensemble import RandomForestClassifier\n",
    "from sklearn.linear_model import LogisticRegression\n",
    "from rulefit import RuleFit\n",
    "pd.set_option('display.max_columns', 10)\n",
    "pd.set_option('display.width', 100)\n",
    "pd.set_option('display.max_colwidth', -1)\n",
    "np.random.seed(4684)"
   ]
  },
  {
   "cell_type": "code",
   "execution_count": 90,
   "metadata": {
    "execution": {
     "iopub.execute_input": "2021-05-21T11:10:20.070129Z",
     "iopub.status.busy": "2021-05-21T11:10:20.063294Z",
     "iopub.status.idle": "2021-05-21T11:10:20.403314Z",
     "shell.execute_reply": "2021-05-21T11:10:20.402484Z",
     "shell.execute_reply.started": "2021-05-21T11:10:20.070073Z"
    }
   },
   "outputs": [],
   "source": [
    "# read exercise data into a DataFrame\n",
    "data = pd.read_csv('exercise data.csv')"
   ]
  },
  {
   "cell_type": "markdown",
   "metadata": {},
   "source": [
    "### Perform summary analysis to understand the data at a high level"
   ]
  },
  {
   "cell_type": "code",
   "execution_count": 91,
   "metadata": {
    "execution": {
     "iopub.execute_input": "2021-05-21T11:10:20.406573Z",
     "iopub.status.busy": "2021-05-21T11:10:20.405535Z",
     "iopub.status.idle": "2021-05-21T11:10:20.415367Z",
     "shell.execute_reply": "2021-05-21T11:10:20.412585Z",
     "shell.execute_reply.started": "2021-05-21T11:10:20.406015Z"
    }
   },
   "outputs": [
    {
     "data": {
      "text/plain": [
       "(275616, 9)"
      ]
     },
     "execution_count": 91,
     "metadata": {},
     "output_type": "execute_result"
    }
   ],
   "source": [
    "data.shape"
   ]
  },
  {
   "cell_type": "code",
   "execution_count": 92,
   "metadata": {
    "execution": {
     "iopub.execute_input": "2021-05-21T11:10:20.420000Z",
     "iopub.status.busy": "2021-05-21T11:10:20.419612Z",
     "iopub.status.idle": "2021-05-21T11:10:20.454873Z",
     "shell.execute_reply": "2021-05-21T11:10:20.454062Z",
     "shell.execute_reply.started": "2021-05-21T11:10:20.419966Z"
    }
   },
   "outputs": [
    {
     "data": {
      "text/html": [
       "<div>\n",
       "<style scoped>\n",
       "    .dataframe tbody tr th:only-of-type {\n",
       "        vertical-align: middle;\n",
       "    }\n",
       "\n",
       "    .dataframe tbody tr th {\n",
       "        vertical-align: top;\n",
       "    }\n",
       "\n",
       "    .dataframe thead th {\n",
       "        text-align: right;\n",
       "    }\n",
       "</style>\n",
       "<table border=\"1\" class=\"dataframe\">\n",
       "  <thead>\n",
       "    <tr style=\"text-align: right;\">\n",
       "      <th></th>\n",
       "      <th>user_id</th>\n",
       "      <th>source</th>\n",
       "      <th>device</th>\n",
       "      <th>operative_system</th>\n",
       "      <th>lat</th>\n",
       "      <th>long</th>\n",
       "      <th>weekday</th>\n",
       "      <th>yearweek</th>\n",
       "      <th>converted</th>\n",
       "    </tr>\n",
       "  </thead>\n",
       "  <tbody>\n",
       "    <tr>\n",
       "      <th>0</th>\n",
       "      <td>3</td>\n",
       "      <td>seo_facebook</td>\n",
       "      <td>web</td>\n",
       "      <td>mac</td>\n",
       "      <td>38.89</td>\n",
       "      <td>-94.81</td>\n",
       "      <td>Friday</td>\n",
       "      <td>16</td>\n",
       "      <td>0</td>\n",
       "    </tr>\n",
       "    <tr>\n",
       "      <th>1</th>\n",
       "      <td>9</td>\n",
       "      <td>seo-google</td>\n",
       "      <td>mobile</td>\n",
       "      <td>android</td>\n",
       "      <td>41.68</td>\n",
       "      <td>-72.94</td>\n",
       "      <td>Friday</td>\n",
       "      <td>18</td>\n",
       "      <td>0</td>\n",
       "    </tr>\n",
       "    <tr>\n",
       "      <th>2</th>\n",
       "      <td>14</td>\n",
       "      <td>friend_referral</td>\n",
       "      <td>mobile</td>\n",
       "      <td>iOS</td>\n",
       "      <td>39.74</td>\n",
       "      <td>-75.53</td>\n",
       "      <td>Saturday</td>\n",
       "      <td>13</td>\n",
       "      <td>0</td>\n",
       "    </tr>\n",
       "    <tr>\n",
       "      <th>3</th>\n",
       "      <td>16</td>\n",
       "      <td>ads-google</td>\n",
       "      <td>mobile</td>\n",
       "      <td>android</td>\n",
       "      <td>37.99</td>\n",
       "      <td>-121.80</td>\n",
       "      <td>Friday</td>\n",
       "      <td>21</td>\n",
       "      <td>0</td>\n",
       "    </tr>\n",
       "    <tr>\n",
       "      <th>4</th>\n",
       "      <td>19</td>\n",
       "      <td>ads-google</td>\n",
       "      <td>mobile</td>\n",
       "      <td>android</td>\n",
       "      <td>41.08</td>\n",
       "      <td>-81.52</td>\n",
       "      <td>Wednesday</td>\n",
       "      <td>14</td>\n",
       "      <td>0</td>\n",
       "    </tr>\n",
       "  </tbody>\n",
       "</table>\n",
       "</div>"
      ],
      "text/plain": [
       "   user_id           source  device operative_system    lat    long    weekday  yearweek  \\\n",
       "0  3        seo_facebook     web     mac              38.89 -94.81   Friday     16         \n",
       "1  9        seo-google       mobile  android          41.68 -72.94   Friday     18         \n",
       "2  14       friend_referral  mobile  iOS              39.74 -75.53   Saturday   13         \n",
       "3  16       ads-google       mobile  android          37.99 -121.80  Friday     21         \n",
       "4  19       ads-google       mobile  android          41.08 -81.52   Wednesday  14         \n",
       "\n",
       "   converted  \n",
       "0  0          \n",
       "1  0          \n",
       "2  0          \n",
       "3  0          \n",
       "4  0          "
      ]
     },
     "execution_count": 92,
     "metadata": {},
     "output_type": "execute_result"
    }
   ],
   "source": [
    "data.head()"
   ]
  },
  {
   "cell_type": "code",
   "execution_count": 93,
   "metadata": {
    "execution": {
     "iopub.execute_input": "2021-05-21T11:10:20.459339Z",
     "iopub.status.busy": "2021-05-21T11:10:20.458419Z",
     "iopub.status.idle": "2021-05-21T11:10:20.714135Z",
     "shell.execute_reply": "2021-05-21T11:10:20.713190Z",
     "shell.execute_reply.started": "2021-05-21T11:10:20.459292Z"
    }
   },
   "outputs": [
    {
     "data": {
      "text/html": [
       "<div>\n",
       "<style scoped>\n",
       "    .dataframe tbody tr th:only-of-type {\n",
       "        vertical-align: middle;\n",
       "    }\n",
       "\n",
       "    .dataframe tbody tr th {\n",
       "        vertical-align: top;\n",
       "    }\n",
       "\n",
       "    .dataframe thead th {\n",
       "        text-align: right;\n",
       "    }\n",
       "</style>\n",
       "<table border=\"1\" class=\"dataframe\">\n",
       "  <thead>\n",
       "    <tr style=\"text-align: right;\">\n",
       "      <th></th>\n",
       "      <th>user_id</th>\n",
       "      <th>source</th>\n",
       "      <th>device</th>\n",
       "      <th>operative_system</th>\n",
       "      <th>lat</th>\n",
       "      <th>long</th>\n",
       "      <th>weekday</th>\n",
       "      <th>yearweek</th>\n",
       "      <th>converted</th>\n",
       "    </tr>\n",
       "  </thead>\n",
       "  <tbody>\n",
       "    <tr>\n",
       "      <th>count</th>\n",
       "      <td>275616.000000</td>\n",
       "      <td>275616</td>\n",
       "      <td>275616</td>\n",
       "      <td>275616</td>\n",
       "      <td>275616.000000</td>\n",
       "      <td>275616.000000</td>\n",
       "      <td>275616</td>\n",
       "      <td>275616.000000</td>\n",
       "      <td>275616.000000</td>\n",
       "    </tr>\n",
       "    <tr>\n",
       "      <th>unique</th>\n",
       "      <td>NaN</td>\n",
       "      <td>12</td>\n",
       "      <td>2</td>\n",
       "      <td>6</td>\n",
       "      <td>NaN</td>\n",
       "      <td>NaN</td>\n",
       "      <td>7</td>\n",
       "      <td>NaN</td>\n",
       "      <td>NaN</td>\n",
       "    </tr>\n",
       "    <tr>\n",
       "      <th>top</th>\n",
       "      <td>NaN</td>\n",
       "      <td>direct_traffic</td>\n",
       "      <td>mobile</td>\n",
       "      <td>windows</td>\n",
       "      <td>NaN</td>\n",
       "      <td>NaN</td>\n",
       "      <td>Friday</td>\n",
       "      <td>NaN</td>\n",
       "      <td>NaN</td>\n",
       "    </tr>\n",
       "    <tr>\n",
       "      <th>freq</th>\n",
       "      <td>NaN</td>\n",
       "      <td>52594</td>\n",
       "      <td>162321</td>\n",
       "      <td>87721</td>\n",
       "      <td>NaN</td>\n",
       "      <td>NaN</td>\n",
       "      <td>80047</td>\n",
       "      <td>NaN</td>\n",
       "      <td>NaN</td>\n",
       "    </tr>\n",
       "    <tr>\n",
       "      <th>mean</th>\n",
       "      <td>499245.801521</td>\n",
       "      <td>NaN</td>\n",
       "      <td>NaN</td>\n",
       "      <td>NaN</td>\n",
       "      <td>37.111680</td>\n",
       "      <td>-93.981772</td>\n",
       "      <td>NaN</td>\n",
       "      <td>15.986245</td>\n",
       "      <td>0.018210</td>\n",
       "    </tr>\n",
       "    <tr>\n",
       "      <th>std</th>\n",
       "      <td>288533.458944</td>\n",
       "      <td>NaN</td>\n",
       "      <td>NaN</td>\n",
       "      <td>NaN</td>\n",
       "      <td>5.209627</td>\n",
       "      <td>18.086486</td>\n",
       "      <td>NaN</td>\n",
       "      <td>3.740836</td>\n",
       "      <td>0.133711</td>\n",
       "    </tr>\n",
       "    <tr>\n",
       "      <th>min</th>\n",
       "      <td>3.000000</td>\n",
       "      <td>NaN</td>\n",
       "      <td>NaN</td>\n",
       "      <td>NaN</td>\n",
       "      <td>19.700000</td>\n",
       "      <td>-157.800000</td>\n",
       "      <td>NaN</td>\n",
       "      <td>10.000000</td>\n",
       "      <td>0.000000</td>\n",
       "    </tr>\n",
       "    <tr>\n",
       "      <th>25%</th>\n",
       "      <td>249544.500000</td>\n",
       "      <td>NaN</td>\n",
       "      <td>NaN</td>\n",
       "      <td>NaN</td>\n",
       "      <td>33.660000</td>\n",
       "      <td>-112.200000</td>\n",
       "      <td>NaN</td>\n",
       "      <td>13.000000</td>\n",
       "      <td>0.000000</td>\n",
       "    </tr>\n",
       "    <tr>\n",
       "      <th>50%</th>\n",
       "      <td>498861.000000</td>\n",
       "      <td>NaN</td>\n",
       "      <td>NaN</td>\n",
       "      <td>NaN</td>\n",
       "      <td>37.740000</td>\n",
       "      <td>-88.930000</td>\n",
       "      <td>NaN</td>\n",
       "      <td>16.000000</td>\n",
       "      <td>0.000000</td>\n",
       "    </tr>\n",
       "    <tr>\n",
       "      <th>75%</th>\n",
       "      <td>748856.500000</td>\n",
       "      <td>NaN</td>\n",
       "      <td>NaN</td>\n",
       "      <td>NaN</td>\n",
       "      <td>40.700000</td>\n",
       "      <td>-78.910000</td>\n",
       "      <td>NaN</td>\n",
       "      <td>19.000000</td>\n",
       "      <td>0.000000</td>\n",
       "    </tr>\n",
       "    <tr>\n",
       "      <th>max</th>\n",
       "      <td>999999.000000</td>\n",
       "      <td>NaN</td>\n",
       "      <td>NaN</td>\n",
       "      <td>NaN</td>\n",
       "      <td>61.180000</td>\n",
       "      <td>30.310000</td>\n",
       "      <td>NaN</td>\n",
       "      <td>22.000000</td>\n",
       "      <td>1.000000</td>\n",
       "    </tr>\n",
       "  </tbody>\n",
       "</table>\n",
       "</div>"
      ],
      "text/plain": [
       "              user_id          source  device operative_system            lat           long  \\\n",
       "count   275616.000000  275616          275616  275616           275616.000000  275616.000000   \n",
       "unique NaN             12              2       6               NaN            NaN              \n",
       "top    NaN             direct_traffic  mobile  windows         NaN            NaN              \n",
       "freq   NaN             52594           162321  87721           NaN            NaN              \n",
       "mean    499245.801521  NaN             NaN     NaN              37.111680     -93.981772       \n",
       "std     288533.458944  NaN             NaN     NaN              5.209627       18.086486       \n",
       "min     3.000000       NaN             NaN     NaN              19.700000     -157.800000      \n",
       "25%     249544.500000  NaN             NaN     NaN              33.660000     -112.200000      \n",
       "50%     498861.000000  NaN             NaN     NaN              37.740000     -88.930000       \n",
       "75%     748856.500000  NaN             NaN     NaN              40.700000     -78.910000       \n",
       "max     999999.000000  NaN             NaN     NaN              61.180000      30.310000       \n",
       "\n",
       "       weekday       yearweek      converted  \n",
       "count   275616  275616.000000  275616.000000  \n",
       "unique  7      NaN            NaN             \n",
       "top     Friday NaN            NaN             \n",
       "freq    80047  NaN            NaN             \n",
       "mean    NaN     15.986245      0.018210       \n",
       "std     NaN     3.740836       0.133711       \n",
       "min     NaN     10.000000      0.000000       \n",
       "25%     NaN     13.000000      0.000000       \n",
       "50%     NaN     16.000000      0.000000       \n",
       "75%     NaN     19.000000      0.000000       \n",
       "max     NaN     22.000000      1.000000       "
      ]
     },
     "execution_count": 93,
     "metadata": {},
     "output_type": "execute_result"
    }
   ],
   "source": [
    "# how are data in the columns distributed\n",
    "data.describe(include='all')"
   ]
  },
  {
   "cell_type": "code",
   "execution_count": 94,
   "metadata": {
    "execution": {
     "iopub.execute_input": "2021-05-21T11:10:20.720551Z",
     "iopub.status.busy": "2021-05-21T11:10:20.719813Z",
     "iopub.status.idle": "2021-05-21T11:10:20.819464Z",
     "shell.execute_reply": "2021-05-21T11:10:20.810658Z",
     "shell.execute_reply.started": "2021-05-21T11:10:20.720510Z"
    }
   },
   "outputs": [
    {
     "name": "stdout",
     "output_type": "stream",
     "text": [
      "<class 'pandas.core.frame.DataFrame'>\n",
      "RangeIndex: 275616 entries, 0 to 275615\n",
      "Data columns (total 9 columns):\n",
      " #   Column            Non-Null Count   Dtype  \n",
      "---  ------            --------------   -----  \n",
      " 0   user_id           275616 non-null  int64  \n",
      " 1   source            275616 non-null  object \n",
      " 2   device            275616 non-null  object \n",
      " 3   operative_system  275616 non-null  object \n",
      " 4   lat               275616 non-null  float64\n",
      " 5   long              275616 non-null  float64\n",
      " 6   weekday           275616 non-null  object \n",
      " 7   yearweek          275616 non-null  int64  \n",
      " 8   converted         275616 non-null  int64  \n",
      "dtypes: float64(2), int64(3), object(4)\n",
      "memory usage: 18.9+ MB\n"
     ]
    }
   ],
   "source": [
    "data.info()"
   ]
  },
  {
   "cell_type": "code",
   "execution_count": 95,
   "metadata": {
    "execution": {
     "iopub.execute_input": "2021-05-21T11:10:20.821504Z",
     "iopub.status.busy": "2021-05-21T11:10:20.820883Z",
     "iopub.status.idle": "2021-05-21T11:10:20.855296Z",
     "shell.execute_reply": "2021-05-21T11:10:20.853343Z",
     "shell.execute_reply.started": "2021-05-21T11:10:20.821444Z"
    }
   },
   "outputs": [
    {
     "data": {
      "text/plain": [
       "0    0.98179\n",
       "1    0.01821\n",
       "Name: converted, dtype: float64"
      ]
     },
     "execution_count": 95,
     "metadata": {},
     "output_type": "execute_result"
    }
   ],
   "source": [
    "# check distribution of target variable\n",
    "data.converted.value_counts(normalize=True)"
   ]
  },
  {
   "cell_type": "markdown",
   "metadata": {},
   "source": [
    "Based on the above I cannot see any data quality issues. "
   ]
  },
  {
   "cell_type": "markdown",
   "metadata": {},
   "source": [
    "### Create PDP"
   ]
  },
  {
   "cell_type": "markdown",
   "metadata": {},
   "source": [
    "1. create dummy and target variables\n",
    "2. create RF model - don't optimise just create for now\n",
    "\n",
    "Remember that all the values on a PDP are in relation to the base value for a given feature."
   ]
  },
  {
   "cell_type": "code",
   "execution_count": 96,
   "metadata": {
    "execution": {
     "iopub.execute_input": "2021-05-21T11:10:20.867135Z",
     "iopub.status.busy": "2021-05-21T11:10:20.866089Z",
     "iopub.status.idle": "2021-05-21T11:10:20.979473Z",
     "shell.execute_reply": "2021-05-21T11:10:20.976807Z",
     "shell.execute_reply.started": "2021-05-21T11:10:20.867083Z"
    }
   },
   "outputs": [
    {
     "name": "stdout",
     "output_type": "stream",
     "text": [
      "source              ads-bing\n",
      "device              mobile  \n",
      "operative_system    android \n",
      "weekday             Friday  \n",
      "dtype: object\n"
     ]
    }
   ],
   "source": [
    "# seleect categorical variables\n",
    "data_categorical = data.select_dtypes(['object']).astype(\"category\")\n",
    "\n",
    "# find base values\n",
    "print(data_categorical.apply(lambda x: x.cat.categories[0]))"
   ]
  },
  {
   "cell_type": "code",
   "execution_count": 97,
   "metadata": {
    "execution": {
     "iopub.execute_input": "2021-05-21T11:10:20.990637Z",
     "iopub.status.busy": "2021-05-21T11:10:20.989711Z",
     "iopub.status.idle": "2021-05-21T11:10:21.147501Z",
     "shell.execute_reply": "2021-05-21T11:10:21.146371Z",
     "shell.execute_reply.started": "2021-05-21T11:10:20.990546Z"
    }
   },
   "outputs": [],
   "source": [
    "# create dummy variables\n",
    "data_dummy = pd.get_dummies(data, drop_first=True)\n",
    "train_cols = data_dummy.drop(columns='converted')"
   ]
  },
  {
   "cell_type": "code",
   "execution_count": 98,
   "metadata": {
    "execution": {
     "iopub.execute_input": "2021-05-21T11:10:21.152649Z",
     "iopub.status.busy": "2021-05-21T11:10:21.150697Z",
     "iopub.status.idle": "2021-05-21T11:10:44.600026Z",
     "shell.execute_reply": "2021-05-21T11:10:44.597051Z",
     "shell.execute_reply.started": "2021-05-21T11:10:21.152591Z"
    }
   },
   "outputs": [
    {
     "data": {
      "text/plain": [
       "RandomForestClassifier(class_weight={0: 0.05, 1: 0.95}, n_estimators=50)"
      ]
     },
     "execution_count": 98,
     "metadata": {},
     "output_type": "execute_result"
    }
   ],
   "source": [
    "# create Decision Tree\n",
    "rf = RandomForestClassifier(class_weight={0:0.05,1:0.95}, n_estimators=50)\n",
    "rf.fit(train_cols, data['converted'])"
   ]
  },
  {
   "cell_type": "code",
   "execution_count": 99,
   "metadata": {
    "execution": {
     "iopub.execute_input": "2021-05-21T11:10:44.602104Z",
     "iopub.status.busy": "2021-05-21T11:10:44.601777Z",
     "iopub.status.idle": "2021-05-21T11:19:45.767739Z",
     "shell.execute_reply": "2021-05-21T11:19:45.766939Z",
     "shell.execute_reply.started": "2021-05-21T11:10:44.602078Z"
    }
   },
   "outputs": [
    {
     "data": {
      "image/png": "[encoded data removed]",
      "text/plain": [
       "<Figure size 432x288 with 1 Axes>"
      ]
     },
     "metadata": {
      "needs_background": "light"
     },
     "output_type": "display_data"
    },
    {
     "data": {
      "image/png": "[encoded data removed]",
      "text/plain": [
       "<Figure size 432x288 with 1 Axes>"
      ]
     },
     "metadata": {
      "needs_background": "light"
     },
     "output_type": "display_data"
    },
    {
     "data": {
      "image/png": "[encoded data removed]",
      "text/plain": [
       "<Figure size 432x288 with 1 Axes>"
      ]
     },
     "metadata": {
      "needs_background": "light"
     },
     "output_type": "display_data"
    },
    {
     "data": {
      "image/png": "[encoded data removed]",
      "text/plain": [
       "<Figure size 432x288 with 1 Axes>"
      ]
     },
     "metadata": {
      "needs_background": "light"
     },
     "output_type": "display_data"
    },
    {
     "data": {
      "image/png": "[encoded data removed]",
      "text/plain": [
       "<Figure size 432x288 with 1 Axes>"
      ]
     },
     "metadata": {
      "needs_background": "light"
     },
     "output_type": "display_data"
    },
    {
     "data": {
      "image/png": "[encoded data removed]",
      "text/plain": [
       "<Figure size 432x288 with 1 Axes>"
      ]
     },
     "metadata": {
      "needs_background": "light"
     },
     "output_type": "display_data"
    },
    {
     "data": {
      "image/png": "[encoded data removed]",
      "text/plain": [
       "<Figure size 432x288 with 1 Axes>"
      ]
     },
     "metadata": {
      "needs_background": "light"
     },
     "output_type": "display_data"
    },
    {
     "data": {
      "image/png": "[encoded data removed]",
      "text/plain": [
       "<Figure size 432x288 with 1 Axes>"
      ]
     },
     "metadata": {
      "needs_background": "light"
     },
     "output_type": "display_data"
    }
   ],
   "source": [
    "feat_original = data.columns.drop('converted')\n",
    "  \n",
    "#plot all variables with a for loop. If a variable is categorical make sure to plot all levels together.\n",
    "for i in range(len(feat_original)):\n",
    "    #get all variables that include the name in feat_original. So, if it is numeric, just take that variable. If it is categorical, take all dummies belonging to the same categorical variable. Since for dummies their name is variable_level, this is easy. Just pick all variables that start with the original variable name. I.e. to get all weekday dummies (weekday_Monday, weekday_Tuesday, etc.), we just look for all variables starting with \"weekday\"\n",
    "    #variables to plot\n",
    "    plot_variable = [e for e in list(train_cols) if e.startswith(feat_original[i])]\n",
    "      \n",
    "    #numeric variables or dummy with just 1 level\n",
    "    if len(plot_variable) == 1:\n",
    "       pdp_iso = pdp.pdp_isolate( model=rf, dataset=train_cols, model_features=list(train_cols), feature=plot_variable[0], num_grid_points=50)\n",
    "       pdp_dataset = pd.Series(pdp_iso.pdp, index=pdp_iso.feature_grids)\n",
    "       pdp_dataset.plot(title=feat_original[i])\n",
    "       plt.show()\n",
    "         \n",
    "    #categorical variables with several levels\n",
    "    else:\n",
    "       pdp_iso = pdp.pdp_isolate( model=rf, dataset=train_cols, model_features=list(train_cols),  feature=plot_variable, num_grid_points=50)\n",
    "       pdp_dataset = pd.Series(pdp_iso.pdp, index=pdp_iso.display_columns)\n",
    "       pdp_dataset.sort_values(ascending=False).plot(kind='bar', title=feat_original[i])\n",
    "       plt.show()\n",
    "        \n",
    "    plt.close()"
   ]
  },
  {
   "cell_type": "markdown",
   "metadata": {},
   "source": [
    "#### Estimating number of users related to the results above"
   ]
  },
  {
   "cell_type": "code",
   "execution_count": 100,
   "metadata": {
    "execution": {
     "iopub.execute_input": "2021-05-21T11:19:45.771627Z",
     "iopub.status.busy": "2021-05-21T11:19:45.770274Z",
     "iopub.status.idle": "2021-05-21T11:19:45.822674Z",
     "shell.execute_reply": "2021-05-21T11:19:45.819942Z",
     "shell.execute_reply.started": "2021-05-21T11:19:45.771458Z"
    }
   },
   "outputs": [
    {
     "data": {
      "text/plain": [
       "14257"
      ]
     },
     "execution_count": 100,
     "metadata": {},
     "output_type": "execute_result"
    }
   ],
   "source": [
    "# users with lat < 28\n",
    "data[data['lat'] < 28]['lat'].count()"
   ]
  },
  {
   "cell_type": "code",
   "execution_count": 101,
   "metadata": {
    "execution": {
     "iopub.execute_input": "2021-05-21T11:19:45.826395Z",
     "iopub.status.busy": "2021-05-21T11:19:45.825163Z",
     "iopub.status.idle": "2021-05-21T11:19:45.848932Z",
     "shell.execute_reply": "2021-05-21T11:19:45.847847Z",
     "shell.execute_reply.started": "2021-05-21T11:19:45.826354Z"
    }
   },
   "outputs": [
    {
     "data": {
      "text/plain": [
       "49235"
      ]
     },
     "execution_count": 101,
     "metadata": {},
     "output_type": "execute_result"
    }
   ],
   "source": [
    "# users with longitude > -75 or < -125\n",
    "data[(data['long'] > -75) | (data['long'] < -125)]['long'].count()"
   ]
  },
  {
   "cell_type": "code",
   "execution_count": 102,
   "metadata": {
    "execution": {
     "iopub.execute_input": "2021-05-21T11:19:45.851557Z",
     "iopub.status.busy": "2021-05-21T11:19:45.851244Z",
     "iopub.status.idle": "2021-05-21T11:19:45.908945Z",
     "shell.execute_reply": "2021-05-21T11:19:45.904597Z",
     "shell.execute_reply.started": "2021-05-21T11:19:45.851535Z"
    }
   },
   "outputs": [
    {
     "data": {
      "text/plain": [
       "18011"
      ]
     },
     "execution_count": 102,
     "metadata": {},
     "output_type": "execute_result"
    }
   ],
   "source": [
    "# users who were referred by friends\n",
    "data[data['source']  == 'friend_referral'].shape[0]"
   ]
  },
  {
   "cell_type": "code",
   "execution_count": 103,
   "metadata": {
    "execution": {
     "iopub.execute_input": "2021-05-21T11:19:45.924298Z",
     "iopub.status.busy": "2021-05-21T11:19:45.920737Z",
     "iopub.status.idle": "2021-05-21T11:19:45.968277Z",
     "shell.execute_reply": "2021-05-21T11:19:45.966082Z",
     "shell.execute_reply.started": "2021-05-21T11:19:45.921267Z"
    }
   },
   "outputs": [
    {
     "data": {
      "text/plain": [
       "mobile    0.588939\n",
       "web       0.411061\n",
       "Name: device, dtype: float64"
      ]
     },
     "execution_count": 103,
     "metadata": {},
     "output_type": "execute_result"
    }
   ],
   "source": [
    "# split of devices\n",
    "data['device'].value_counts(normalize=True)"
   ]
  },
  {
   "cell_type": "code",
   "execution_count": 104,
   "metadata": {
    "execution": {
     "iopub.execute_input": "2021-05-21T11:19:45.970551Z",
     "iopub.status.busy": "2021-05-21T11:19:45.969873Z",
     "iopub.status.idle": "2021-05-21T11:19:46.008861Z",
     "shell.execute_reply": "2021-05-21T11:19:46.002892Z",
     "shell.execute_reply.started": "2021-05-21T11:19:45.970519Z"
    }
   },
   "outputs": [
    {
     "data": {
      "text/plain": [
       "42623"
      ]
     },
     "execution_count": 104,
     "metadata": {},
     "output_type": "execute_result"
    }
   ],
   "source": [
    "# users who visited the site at the beggining of March of end of May\n",
    "data[(data['yearweek'] == 10) | (data['yearweek'] == 22)].shape[0]"
   ]
  },
  {
   "cell_type": "code",
   "execution_count": 105,
   "metadata": {
    "execution": {
     "iopub.execute_input": "2021-05-21T11:19:46.015204Z",
     "iopub.status.busy": "2021-05-21T11:19:46.013918Z",
     "iopub.status.idle": "2021-05-21T11:19:46.063857Z",
     "shell.execute_reply": "2021-05-21T11:19:46.060626Z",
     "shell.execute_reply.started": "2021-05-21T11:19:46.015154Z"
    }
   },
   "outputs": [
    {
     "data": {
      "text/plain": [
       "windows    87721\n",
       "iOS        82982\n",
       "android    65305\n",
       "mac        21831\n",
       "other      14143\n",
       "linux      3634 \n",
       "Name: operative_system, dtype: int64"
      ]
     },
     "execution_count": 105,
     "metadata": {},
     "output_type": "execute_result"
    }
   ],
   "source": [
    "# OS split\n",
    "data['operative_system'].value_counts()"
   ]
  },
  {
   "cell_type": "code",
   "execution_count": 106,
   "metadata": {
    "execution": {
     "iopub.execute_input": "2021-05-21T11:19:46.065929Z",
     "iopub.status.busy": "2021-05-21T11:19:46.065560Z",
     "iopub.status.idle": "2021-05-21T11:19:46.114964Z",
     "shell.execute_reply": "2021-05-21T11:19:46.113556Z",
     "shell.execute_reply.started": "2021-05-21T11:19:46.065879Z"
    }
   },
   "outputs": [
    {
     "data": {
      "text/plain": [
       "direct_traffic     52594\n",
       "ads-google         51576\n",
       "ads_facebook       46365\n",
       "ads_other          26084\n",
       "seo-google         20157\n",
       "ads-bing           19887\n",
       "seo_facebook       18473\n",
       "friend_referral    18011\n",
       "seo-other          8058 \n",
       "ads-yahoo          6576 \n",
       "seo-yahoo          5961 \n",
       "seo-bing           1874 \n",
       "Name: source, dtype: int64"
      ]
     },
     "execution_count": 106,
     "metadata": {},
     "output_type": "execute_result"
    }
   ],
   "source": [
    "# Source split\n",
    "data['source'].value_counts()"
   ]
  },
  {
   "cell_type": "markdown",
   "metadata": {},
   "source": [
    "#### Insights"
   ]
  },
  {
   "cell_type": "markdown",
   "metadata": {},
   "source": [
    "**Base Levels**\n",
    "- Base levels were:\n",
    "- Source: ads-bing\n",
    "- Device: mobile  \n",
    "- Operative_system: android \n",
    "- Weekday: Friday  \n",
    "- Month:  April \n",
    "\n",
    "\n",
    "**Findings**\n",
    "\n",
    "- Looking at the absolute values of the y-scale, I can see that user location (lat, long) has the highest impact on the conversion. However, the absolute number of users this applies to is quite small - lat: ~5% of users (14.5K); long: 0.1% users (327). It would be interesting to see if grouping the results by city, state, the country produces any interesting insights. Perhaps there is an issue with inernational versions of the app?\n",
    "- The next most important variable is the source. Specifically, users who are referred by their friends have a much higher probability of converting. \n",
    "- User_id is potentially interesting. It shows that very early and new users have a higher probability of converting. This could just be noise but is worth some further analysis to see how many users this effect actually relates to. \n",
    "- Mac and iOS have a higher probability for conversion. I wonder why this is? Are there any noticeable differences in acquisition strategies for OSes, or is the sign-up flow different? Etc... This relates to ~38% of users.\n",
    "- Conversions were more likely to occur on days that were not Friday. Whatsmore, the probability of converting was slightly higher on Wednesday, Monday and Thursday.\n",
    "- The yearweek variable shows spikes at the beginning and end of the period in question, which relate to ~15% of users. It would be worthing finding out what happened in these periods.\n",
    "- Finally, the probability of converting was higher on the web than on mobile.\n"
   ]
  },
  {
   "cell_type": "markdown",
   "metadata": {},
   "source": [
    "### Create RuleFit"
   ]
  },
  {
   "cell_type": "code",
   "execution_count": 107,
   "metadata": {
    "execution": {
     "iopub.execute_input": "2021-05-21T11:19:46.118009Z",
     "iopub.status.busy": "2021-05-21T11:19:46.117734Z",
     "iopub.status.idle": "2021-05-21T11:19:46.145257Z",
     "shell.execute_reply": "2021-05-21T11:19:46.127526Z",
     "shell.execute_reply.started": "2021-05-21T11:19:46.117976Z"
    }
   },
   "outputs": [],
   "source": [
    "# create RF model\n",
    "rf = RandomForestClassifier(max_depth=2, n_estimators=20, class_weight={0:0.05,1:0.95})"
   ]
  },
  {
   "cell_type": "code",
   "execution_count": 108,
   "metadata": {
    "execution": {
     "iopub.execute_input": "2021-05-21T11:19:46.150839Z",
     "iopub.status.busy": "2021-05-21T11:19:46.148051Z",
     "iopub.status.idle": "2021-05-21T11:21:31.117741Z",
     "shell.execute_reply": "2021-05-21T11:21:31.115491Z",
     "shell.execute_reply.started": "2021-05-21T11:19:46.150794Z"
    }
   },
   "outputs": [
    {
     "name": "stdout",
     "output_type": "stream",
     "text": [
      "We have extracted 69 rules\n"
     ]
    }
   ],
   "source": [
    "# create RuleFit\n",
    "rufi=RuleFit(rfmode=\"classify\", tree_generator=rf, exp_rand_tree_size=False, lin_standardise=False)\n",
    "\n",
    "rufi.fit(train_cols.values, data['converted'].values, feature_names = train_cols.columns)\n",
    "print(\"We have extracted\", rufi.transform(train_cols.values).shape[1], \"rules\")"
   ]
  },
  {
   "cell_type": "code",
   "execution_count": 110,
   "metadata": {
    "execution": {
     "iopub.execute_input": "2021-05-21T11:27:12.143298Z",
     "iopub.status.busy": "2021-05-21T11:27:12.142872Z",
     "iopub.status.idle": "2021-05-21T11:27:17.086344Z",
     "shell.execute_reply": "2021-05-21T11:27:17.085382Z",
     "shell.execute_reply.started": "2021-05-21T11:27:12.143261Z"
    }
   },
   "outputs": [
    {
     "data": {
      "text/html": [
       "<div>\n",
       "<style scoped>\n",
       "    .dataframe tbody tr th:only-of-type {\n",
       "        vertical-align: middle;\n",
       "    }\n",
       "\n",
       "    .dataframe tbody tr th {\n",
       "        vertical-align: top;\n",
       "    }\n",
       "\n",
       "    .dataframe thead th {\n",
       "        text-align: right;\n",
       "    }\n",
       "</style>\n",
       "<table border=\"1\" class=\"dataframe\">\n",
       "  <thead>\n",
       "    <tr style=\"text-align: right;\">\n",
       "      <th></th>\n",
       "      <th>rule</th>\n",
       "      <th>type</th>\n",
       "      <th>coef</th>\n",
       "      <th>support</th>\n",
       "      <th>importance</th>\n",
       "    </tr>\n",
       "  </thead>\n",
       "  <tbody>\n",
       "    <tr>\n",
       "      <th>54</th>\n",
       "      <td>source_ads_other &gt; 0.5 &amp; operative_system_iOS &gt; 0.5</td>\n",
       "      <td>rule</td>\n",
       "      <td>0.465537</td>\n",
       "      <td>0.027873</td>\n",
       "      <td>0.0</td>\n",
       "    </tr>\n",
       "    <tr>\n",
       "      <th>11</th>\n",
       "      <td>source_seo-google</td>\n",
       "      <td>linear</td>\n",
       "      <td>0.177454</td>\n",
       "      <td>1.000000</td>\n",
       "      <td>0.0</td>\n",
       "    </tr>\n",
       "    <tr>\n",
       "      <th>10</th>\n",
       "      <td>source_seo-bing</td>\n",
       "      <td>linear</td>\n",
       "      <td>0.128280</td>\n",
       "      <td>1.000000</td>\n",
       "      <td>0.0</td>\n",
       "    </tr>\n",
       "    <tr>\n",
       "      <th>14</th>\n",
       "      <td>source_seo_facebook</td>\n",
       "      <td>linear</td>\n",
       "      <td>0.102608</td>\n",
       "      <td>1.000000</td>\n",
       "      <td>0.0</td>\n",
       "    </tr>\n",
       "    <tr>\n",
       "      <th>13</th>\n",
       "      <td>source_seo-yahoo</td>\n",
       "      <td>linear</td>\n",
       "      <td>0.077551</td>\n",
       "      <td>1.000000</td>\n",
       "      <td>0.0</td>\n",
       "    </tr>\n",
       "    <tr>\n",
       "      <th>12</th>\n",
       "      <td>source_seo-other</td>\n",
       "      <td>linear</td>\n",
       "      <td>0.053665</td>\n",
       "      <td>1.000000</td>\n",
       "      <td>0.0</td>\n",
       "    </tr>\n",
       "    <tr>\n",
       "      <th>19</th>\n",
       "      <td>operative_system_other</td>\n",
       "      <td>linear</td>\n",
       "      <td>-0.127264</td>\n",
       "      <td>1.000000</td>\n",
       "      <td>0.0</td>\n",
       "    </tr>\n",
       "    <tr>\n",
       "      <th>35</th>\n",
       "      <td>source_ads-yahoo &lt;= 0.5 &amp; source_friend_referral &lt;= 0.5</td>\n",
       "      <td>rule</td>\n",
       "      <td>-0.128019</td>\n",
       "      <td>0.911126</td>\n",
       "      <td>0.0</td>\n",
       "    </tr>\n",
       "    <tr>\n",
       "      <th>89</th>\n",
       "      <td>source_friend_referral &lt;= 0.5 &amp; source_direct_traffic &lt;= 0.5</td>\n",
       "      <td>rule</td>\n",
       "      <td>-0.138572</td>\n",
       "      <td>0.743269</td>\n",
       "      <td>0.0</td>\n",
       "    </tr>\n",
       "    <tr>\n",
       "      <th>31</th>\n",
       "      <td>operative_system_iOS &lt;= 0.5 &amp; operative_system_other &gt; 0.5</td>\n",
       "      <td>rule</td>\n",
       "      <td>-0.177847</td>\n",
       "      <td>0.051562</td>\n",
       "      <td>0.0</td>\n",
       "    </tr>\n",
       "    <tr>\n",
       "      <th>30</th>\n",
       "      <td>weekday_Tuesday &gt; 0.5 &amp; lat &gt; 30.3149995803833</td>\n",
       "      <td>rule</td>\n",
       "      <td>-0.193340</td>\n",
       "      <td>0.054264</td>\n",
       "      <td>0.0</td>\n",
       "    </tr>\n",
       "    <tr>\n",
       "      <th>78</th>\n",
       "      <td>source_friend_referral &lt;= 0.5 &amp; operative_system_windows &lt;= 0.5</td>\n",
       "      <td>rule</td>\n",
       "      <td>-0.225905</td>\n",
       "      <td>0.638175</td>\n",
       "      <td>0.0</td>\n",
       "    </tr>\n",
       "    <tr>\n",
       "      <th>84</th>\n",
       "      <td>operative_system_iOS &lt;= 0.5 &amp; operative_system_other &lt;= 0.5</td>\n",
       "      <td>rule</td>\n",
       "      <td>-0.227888</td>\n",
       "      <td>0.647025</td>\n",
       "      <td>0.0</td>\n",
       "    </tr>\n",
       "    <tr>\n",
       "      <th>49</th>\n",
       "      <td>source_friend_referral &lt;= 0.5 &amp; operative_system_iOS &lt;= 0.5</td>\n",
       "      <td>rule</td>\n",
       "      <td>-0.276652</td>\n",
       "      <td>0.654041</td>\n",
       "      <td>0.0</td>\n",
       "    </tr>\n",
       "    <tr>\n",
       "      <th>64</th>\n",
       "      <td>source_ads_other &lt;= 0.5 &amp; operative_system_linux &gt; 0.5</td>\n",
       "      <td>rule</td>\n",
       "      <td>-0.372824</td>\n",
       "      <td>0.011980</td>\n",
       "      <td>0.0</td>\n",
       "    </tr>\n",
       "    <tr>\n",
       "      <th>95</th>\n",
       "      <td>source_ads_facebook &lt;= 0.5 &amp; source_friend_referral &lt;= 0.5</td>\n",
       "      <td>rule</td>\n",
       "      <td>-0.406240</td>\n",
       "      <td>0.766921</td>\n",
       "      <td>0.0</td>\n",
       "    </tr>\n",
       "    <tr>\n",
       "      <th>8</th>\n",
       "      <td>source_direct_traffic</td>\n",
       "      <td>linear</td>\n",
       "      <td>-0.408485</td>\n",
       "      <td>1.000000</td>\n",
       "      <td>0.0</td>\n",
       "    </tr>\n",
       "    <tr>\n",
       "      <th>34</th>\n",
       "      <td>source_direct_traffic &lt;= 0.5 &amp; operative_system_mac &lt;= 0.5</td>\n",
       "      <td>rule</td>\n",
       "      <td>-0.425193</td>\n",
       "      <td>0.745160</td>\n",
       "      <td>0.0</td>\n",
       "    </tr>\n",
       "    <tr>\n",
       "      <th>33</th>\n",
       "      <td>source_ads-google &lt;= 0.5 &amp; source_direct_traffic &lt;= 0.5</td>\n",
       "      <td>rule</td>\n",
       "      <td>-0.433207</td>\n",
       "      <td>0.621957</td>\n",
       "      <td>0.0</td>\n",
       "    </tr>\n",
       "    <tr>\n",
       "      <th>72</th>\n",
       "      <td>source_ads_other &lt;= 0.5 &amp; operative_system_iOS &gt; 0.5</td>\n",
       "      <td>rule</td>\n",
       "      <td>-0.571516</td>\n",
       "      <td>0.273541</td>\n",
       "      <td>0.0</td>\n",
       "    </tr>\n",
       "    <tr>\n",
       "      <th>86</th>\n",
       "      <td>user_id &gt; 2701.0 &amp; operative_system_iOS &gt; 0.5</td>\n",
       "      <td>rule</td>\n",
       "      <td>-0.656976</td>\n",
       "      <td>0.299974</td>\n",
       "      <td>0.0</td>\n",
       "    </tr>\n",
       "    <tr>\n",
       "      <th>83</th>\n",
       "      <td>operative_system_mac &lt;= 0.5 &amp; source_direct_traffic &gt; 0.5</td>\n",
       "      <td>rule</td>\n",
       "      <td>-0.698808</td>\n",
       "      <td>0.175714</td>\n",
       "      <td>0.0</td>\n",
       "    </tr>\n",
       "    <tr>\n",
       "      <th>79</th>\n",
       "      <td>source_ads_other &gt; 0.5 &amp; source_direct_traffic &lt;= 0.5</td>\n",
       "      <td>rule</td>\n",
       "      <td>-1.049094</td>\n",
       "      <td>0.095175</td>\n",
       "      <td>0.0</td>\n",
       "    </tr>\n",
       "    <tr>\n",
       "      <th>81</th>\n",
       "      <td>source_ads_other &lt;= 0.5 &amp; operative_system_iOS &lt;= 0.5</td>\n",
       "      <td>rule</td>\n",
       "      <td>-1.192723</td>\n",
       "      <td>0.632092</td>\n",
       "      <td>0.0</td>\n",
       "    </tr>\n",
       "  </tbody>\n",
       "</table>\n",
       "</div>"
      ],
      "text/plain": [
       "                                                               rule    type      coef   support  \\\n",
       "54  source_ads_other > 0.5 & operative_system_iOS > 0.5              rule    0.465537  0.027873   \n",
       "11  source_seo-google                                                linear  0.177454  1.000000   \n",
       "10  source_seo-bing                                                  linear  0.128280  1.000000   \n",
       "14  source_seo_facebook                                              linear  0.102608  1.000000   \n",
       "13  source_seo-yahoo                                                 linear  0.077551  1.000000   \n",
       "12  source_seo-other                                                 linear  0.053665  1.000000   \n",
       "19  operative_system_other                                           linear -0.127264  1.000000   \n",
       "35  source_ads-yahoo <= 0.5 & source_friend_referral <= 0.5          rule   -0.128019  0.911126   \n",
       "89  source_friend_referral <= 0.5 & source_direct_traffic <= 0.5     rule   -0.138572  0.743269   \n",
       "31  operative_system_iOS <= 0.5 & operative_system_other > 0.5       rule   -0.177847  0.051562   \n",
       "30  weekday_Tuesday > 0.5 & lat > 30.3149995803833                   rule   -0.193340  0.054264   \n",
       "78  source_friend_referral <= 0.5 & operative_system_windows <= 0.5  rule   -0.225905  0.638175   \n",
       "84  operative_system_iOS <= 0.5 & operative_system_other <= 0.5      rule   -0.227888  0.647025   \n",
       "49  source_friend_referral <= 0.5 & operative_system_iOS <= 0.5      rule   -0.276652  0.654041   \n",
       "64  source_ads_other <= 0.5 & operative_system_linux > 0.5           rule   -0.372824  0.011980   \n",
       "95  source_ads_facebook <= 0.5 & source_friend_referral <= 0.5       rule   -0.406240  0.766921   \n",
       "8   source_direct_traffic                                            linear -0.408485  1.000000   \n",
       "34  source_direct_traffic <= 0.5 & operative_system_mac <= 0.5       rule   -0.425193  0.745160   \n",
       "33  source_ads-google <= 0.5 & source_direct_traffic <= 0.5          rule   -0.433207  0.621957   \n",
       "72  source_ads_other <= 0.5 & operative_system_iOS > 0.5             rule   -0.571516  0.273541   \n",
       "86  user_id > 2701.0 & operative_system_iOS > 0.5                    rule   -0.656976  0.299974   \n",
       "83  operative_system_mac <= 0.5 & source_direct_traffic > 0.5        rule   -0.698808  0.175714   \n",
       "79  source_ads_other > 0.5 & source_direct_traffic <= 0.5            rule   -1.049094  0.095175   \n",
       "81  source_ads_other <= 0.5 & operative_system_iOS <= 0.5            rule   -1.192723  0.632092   \n",
       "\n",
       "    importance  \n",
       "54  0.0         \n",
       "11  0.0         \n",
       "10  0.0         \n",
       "14  0.0         \n",
       "13  0.0         \n",
       "12  0.0         \n",
       "19  0.0         \n",
       "35  0.0         \n",
       "89  0.0         \n",
       "31  0.0         \n",
       "30  0.0         \n",
       "78  0.0         \n",
       "84  0.0         \n",
       "49  0.0         \n",
       "64  0.0         \n",
       "95  0.0         \n",
       "8   0.0         \n",
       "34  0.0         \n",
       "33  0.0         \n",
       "72  0.0         \n",
       "86  0.0         \n",
       "83  0.0         \n",
       "79  0.0         \n",
       "81  0.0         "
      ]
     },
     "execution_count": 110,
     "metadata": {},
     "output_type": "execute_result"
    }
   ],
   "source": [
    "#X_concat is the new dataset given by the original variables (train_cols.values)  as well as the new rules extracted from the trees (rufi.transform(train_cols.values))\n",
    "X_concat = np.concatenate((train_cols, rufi.transform(train_cols.values)), axis=1)\n",
    "\n",
    "#Build the logistic regression with penalty.\n",
    "log = LogisticRegression(penalty='l1', solver='liblinear', C=0.1)\n",
    "log.fit(X_concat, data['converted'])\n",
    "\n",
    "#get the full output with variables, coefficients, and support\n",
    "output.iloc[:,2] = np.transpose(log.coef_)\n",
    "output[(output['coef'] > 0.01) | (output['coef'] < -0.1)].sort_values('coef', ascending = False )\n",
    "# output[output['coef'] != 0].sort_values('coef', ascending = False )"
   ]
  },
  {
   "cell_type": "markdown",
   "metadata": {},
   "source": [
    "### Insights"
   ]
  },
  {
   "cell_type": "markdown",
   "metadata": {},
   "source": [
    "- The are several rules relating to SEO, which if combined would have the largest +ve coeffiecient\n",
    "\n",
    "\n",
    "**Questions**\n",
    "- Every time I run the logistic regression I get different rules and coefficients, why is this? I would expect it to be broadly similar\n"
   ]
  },
  {
   "cell_type": "markdown",
   "metadata": {},
   "source": [
    "### Recommendations\n",
    "\n",
    "1. Friend referrals lead to a higer probability of conversions, what can we do in the product to encourage this further?\n",
    "2. Why do users on Apple devices have higher conversion rates? Is there something different in the acquaustion strategy, sign-up flow, etc...\n",
    "3. Why do users have a higher chance of converting at the beginning and end of the period? What changed in the intervening period? \n"
   ]
  },
  {
   "cell_type": "code",
   "execution_count": null,
   "metadata": {},
   "outputs": [],
   "source": []
  }
 ],
 "metadata": {
  "kernelspec": {
   "display_name": "Python 3",
   "language": "python",
   "name": "python3"
  },
  "language_info": {
   "codemirror_mode": {
    "name": "ipython",
    "version": 3
   },
   "file_extension": ".py",
   "mimetype": "text/x-python",
   "name": "python",
   "nbconvert_exporter": "python",
   "pygments_lexer": "ipython3",
   "version": "3.7.7"
  }
 },
 "nbformat": 4,
 "nbformat_minor": 4
}
