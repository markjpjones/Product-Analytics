{
 "cells": [
  {
   "cell_type": "code",
   "execution_count": 1,
   "metadata": {
    "execution": {
     "iopub.execute_input": "2021-05-11T15:34:43.690987Z",
     "iopub.status.busy": "2021-05-11T15:34:43.690569Z",
     "iopub.status.idle": "2021-05-11T15:34:53.061689Z",
     "shell.execute_reply": "2021-05-11T15:34:53.060874Z",
     "shell.execute_reply.started": "2021-05-11T15:34:43.690906Z"
    }
   },
   "outputs": [],
   "source": [
    "import pandas\n",
    "import statsmodels.api as sm\n",
    "pandas.set_option('display.max_columns', 10)\n",
    "pandas.set_option('display.width', 350)"
   ]
  },
  {
   "cell_type": "code",
   "execution_count": 5,
   "metadata": {
    "execution": {
     "iopub.execute_input": "2021-05-11T15:36:53.818886Z",
     "iopub.status.busy": "2021-05-11T15:36:53.818599Z",
     "iopub.status.idle": "2021-05-11T15:36:53.925348Z",
     "shell.execute_reply": "2021-05-11T15:36:53.924349Z",
     "shell.execute_reply.started": "2021-05-11T15:36:53.818861Z"
    }
   },
   "outputs": [],
   "source": [
    "#Read from google drive. This is the same dataset described in the previous section\n",
    "data = pandas.read_csv('emails.csv')"
   ]
  },
  {
   "cell_type": "code",
   "execution_count": 6,
   "metadata": {
    "execution": {
     "iopub.execute_input": "2021-05-11T15:36:54.499293Z",
     "iopub.status.busy": "2021-05-11T15:36:54.499014Z",
     "iopub.status.idle": "2021-05-11T15:36:54.532442Z",
     "shell.execute_reply": "2021-05-11T15:36:54.521092Z",
     "shell.execute_reply.started": "2021-05-11T15:36:54.499268Z"
    }
   },
   "outputs": [
    {
     "data": {
      "text/html": [
       "<div>\n",
       "<style scoped>\n",
       "    .dataframe tbody tr th:only-of-type {\n",
       "        vertical-align: middle;\n",
       "    }\n",
       "\n",
       "    .dataframe tbody tr th {\n",
       "        vertical-align: top;\n",
       "    }\n",
       "\n",
       "    .dataframe thead th {\n",
       "        text-align: right;\n",
       "    }\n",
       "</style>\n",
       "<table border=\"1\" class=\"dataframe\">\n",
       "  <thead>\n",
       "    <tr style=\"text-align: right;\">\n",
       "      <th></th>\n",
       "      <th>email_id</th>\n",
       "      <th>email_text</th>\n",
       "      <th>email_version</th>\n",
       "      <th>hour</th>\n",
       "      <th>weekday</th>\n",
       "      <th>user_country</th>\n",
       "      <th>user_past_purchases</th>\n",
       "      <th>clicked</th>\n",
       "    </tr>\n",
       "  </thead>\n",
       "  <tbody>\n",
       "    <tr>\n",
       "      <th>0</th>\n",
       "      <td>8</td>\n",
       "      <td>short_email</td>\n",
       "      <td>generic</td>\n",
       "      <td>9</td>\n",
       "      <td>Thursday</td>\n",
       "      <td>US</td>\n",
       "      <td>3</td>\n",
       "      <td>0</td>\n",
       "    </tr>\n",
       "    <tr>\n",
       "      <th>1</th>\n",
       "      <td>33</td>\n",
       "      <td>long_email</td>\n",
       "      <td>personalized</td>\n",
       "      <td>6</td>\n",
       "      <td>Monday</td>\n",
       "      <td>US</td>\n",
       "      <td>0</td>\n",
       "      <td>0</td>\n",
       "    </tr>\n",
       "    <tr>\n",
       "      <th>2</th>\n",
       "      <td>46</td>\n",
       "      <td>short_email</td>\n",
       "      <td>generic</td>\n",
       "      <td>14</td>\n",
       "      <td>Tuesday</td>\n",
       "      <td>US</td>\n",
       "      <td>3</td>\n",
       "      <td>0</td>\n",
       "    </tr>\n",
       "    <tr>\n",
       "      <th>3</th>\n",
       "      <td>49</td>\n",
       "      <td>long_email</td>\n",
       "      <td>personalized</td>\n",
       "      <td>11</td>\n",
       "      <td>Thursday</td>\n",
       "      <td>US</td>\n",
       "      <td>10</td>\n",
       "      <td>0</td>\n",
       "    </tr>\n",
       "    <tr>\n",
       "      <th>4</th>\n",
       "      <td>65</td>\n",
       "      <td>short_email</td>\n",
       "      <td>generic</td>\n",
       "      <td>8</td>\n",
       "      <td>Wednesday</td>\n",
       "      <td>UK</td>\n",
       "      <td>3</td>\n",
       "      <td>0</td>\n",
       "    </tr>\n",
       "  </tbody>\n",
       "</table>\n",
       "</div>"
      ],
      "text/plain": [
       "   email_id   email_text email_version  hour    weekday user_country  user_past_purchases  clicked\n",
       "0         8  short_email       generic     9   Thursday           US                    3        0\n",
       "1        33   long_email  personalized     6     Monday           US                    0        0\n",
       "2        46  short_email       generic    14    Tuesday           US                    3        0\n",
       "3        49   long_email  personalized    11   Thursday           US                   10        0\n",
       "4        65  short_email       generic     8  Wednesday           UK                    3        0"
      ]
     },
     "execution_count": 6,
     "metadata": {},
     "output_type": "execute_result"
    }
   ],
   "source": [
    "data.head()"
   ]
  },
  {
   "cell_type": "code",
   "execution_count": 7,
   "metadata": {
    "execution": {
     "iopub.execute_input": "2021-05-11T15:36:55.199493Z",
     "iopub.status.busy": "2021-05-11T15:36:55.199184Z",
     "iopub.status.idle": "2021-05-11T15:36:55.217051Z",
     "shell.execute_reply": "2021-05-11T15:36:55.211974Z",
     "shell.execute_reply.started": "2021-05-11T15:36:55.199465Z"
    }
   },
   "outputs": [
    {
     "data": {
      "text/plain": [
       "email_id                int64\n",
       "email_text             object\n",
       "email_version          object\n",
       "hour                    int64\n",
       "weekday                object\n",
       "user_country           object\n",
       "user_past_purchases     int64\n",
       "clicked                 int64\n",
       "dtype: object"
      ]
     },
     "execution_count": 7,
     "metadata": {},
     "output_type": "execute_result"
    }
   ],
   "source": [
    "data.dtypes"
   ]
  },
  {
   "cell_type": "code",
   "execution_count": 8,
   "metadata": {
    "execution": {
     "iopub.execute_input": "2021-05-11T15:37:01.179726Z",
     "iopub.status.busy": "2021-05-11T15:37:01.179415Z",
     "iopub.status.idle": "2021-05-11T15:37:01.246342Z",
     "shell.execute_reply": "2021-05-11T15:37:01.244093Z",
     "shell.execute_reply.started": "2021-05-11T15:37:01.179698Z"
    }
   },
   "outputs": [
    {
     "name": "stdout",
     "output_type": "stream",
     "text": [
      "email_text       long_email\n",
      "email_version       generic\n",
      "weekday              Friday\n",
      "user_country             ES\n",
      "dtype: object\n"
     ]
    }
   ],
   "source": [
    "#Before building the regression, we need to know which ones are the reference levels for the categorical variables\n",
    "\n",
    "#only keep categorical variables\n",
    "data_categorical = data.select_dtypes(['object']).astype(\"category\") # category is just a list of the values in object\n",
    "\n",
    "#find reference level, i.e. the first level\n",
    "print(data_categorical.apply(lambda x: x.cat.categories[0]))"
   ]
  },
  {
   "cell_type": "code",
   "execution_count": 9,
   "metadata": {
    "execution": {
     "iopub.execute_input": "2021-05-11T15:37:04.732006Z",
     "iopub.status.busy": "2021-05-11T15:37:04.731718Z",
     "iopub.status.idle": "2021-05-11T15:37:04.751445Z",
     "shell.execute_reply": "2021-05-11T15:37:04.748117Z",
     "shell.execute_reply.started": "2021-05-11T15:37:04.731981Z"
    }
   },
   "outputs": [
    {
     "data": {
      "text/html": [
       "<div>\n",
       "<style scoped>\n",
       "    .dataframe tbody tr th:only-of-type {\n",
       "        vertical-align: middle;\n",
       "    }\n",
       "\n",
       "    .dataframe tbody tr th {\n",
       "        vertical-align: top;\n",
       "    }\n",
       "\n",
       "    .dataframe thead th {\n",
       "        text-align: right;\n",
       "    }\n",
       "</style>\n",
       "<table border=\"1\" class=\"dataframe\">\n",
       "  <thead>\n",
       "    <tr style=\"text-align: right;\">\n",
       "      <th></th>\n",
       "      <th>email_text</th>\n",
       "      <th>email_version</th>\n",
       "      <th>weekday</th>\n",
       "      <th>user_country</th>\n",
       "    </tr>\n",
       "  </thead>\n",
       "  <tbody>\n",
       "    <tr>\n",
       "      <th>0</th>\n",
       "      <td>short_email</td>\n",
       "      <td>generic</td>\n",
       "      <td>Thursday</td>\n",
       "      <td>US</td>\n",
       "    </tr>\n",
       "    <tr>\n",
       "      <th>1</th>\n",
       "      <td>long_email</td>\n",
       "      <td>personalized</td>\n",
       "      <td>Monday</td>\n",
       "      <td>US</td>\n",
       "    </tr>\n",
       "    <tr>\n",
       "      <th>2</th>\n",
       "      <td>short_email</td>\n",
       "      <td>generic</td>\n",
       "      <td>Tuesday</td>\n",
       "      <td>US</td>\n",
       "    </tr>\n",
       "    <tr>\n",
       "      <th>3</th>\n",
       "      <td>long_email</td>\n",
       "      <td>personalized</td>\n",
       "      <td>Thursday</td>\n",
       "      <td>US</td>\n",
       "    </tr>\n",
       "    <tr>\n",
       "      <th>4</th>\n",
       "      <td>short_email</td>\n",
       "      <td>generic</td>\n",
       "      <td>Wednesday</td>\n",
       "      <td>UK</td>\n",
       "    </tr>\n",
       "  </tbody>\n",
       "</table>\n",
       "</div>"
      ],
      "text/plain": [
       "    email_text email_version    weekday user_country\n",
       "0  short_email       generic   Thursday           US\n",
       "1   long_email  personalized     Monday           US\n",
       "2  short_email       generic    Tuesday           US\n",
       "3   long_email  personalized   Thursday           US\n",
       "4  short_email       generic  Wednesday           UK"
      ]
     },
     "execution_count": 9,
     "metadata": {},
     "output_type": "execute_result"
    }
   ],
   "source": [
    "data_categorical.head()"
   ]
  },
  {
   "cell_type": "code",
   "execution_count": 10,
   "metadata": {
    "execution": {
     "iopub.execute_input": "2021-05-11T15:37:32.357513Z",
     "iopub.status.busy": "2021-05-11T15:37:32.357182Z",
     "iopub.status.idle": "2021-05-11T15:37:32.432055Z",
     "shell.execute_reply": "2021-05-11T15:37:32.431017Z",
     "shell.execute_reply.started": "2021-05-11T15:37:32.357484Z"
    }
   },
   "outputs": [],
   "source": [
    "#make dummy variables from categorical ones. Using one-hot encoding and drop_first=True \n",
    "data = pandas.get_dummies(data, drop_first=True) # drop first, removes first (base) value from each caetgory column"
   ]
  },
  {
   "cell_type": "code",
   "execution_count": 11,
   "metadata": {
    "execution": {
     "iopub.execute_input": "2021-05-11T15:38:32.984476Z",
     "iopub.status.busy": "2021-05-11T15:38:32.984083Z",
     "iopub.status.idle": "2021-05-11T15:38:33.042277Z",
     "shell.execute_reply": "2021-05-11T15:38:33.037134Z",
     "shell.execute_reply.started": "2021-05-11T15:38:32.984415Z"
    }
   },
   "outputs": [
    {
     "data": {
      "text/html": [
       "<div>\n",
       "<style scoped>\n",
       "    .dataframe tbody tr th:only-of-type {\n",
       "        vertical-align: middle;\n",
       "    }\n",
       "\n",
       "    .dataframe tbody tr th {\n",
       "        vertical-align: top;\n",
       "    }\n",
       "\n",
       "    .dataframe thead th {\n",
       "        text-align: right;\n",
       "    }\n",
       "</style>\n",
       "<table border=\"1\" class=\"dataframe\">\n",
       "  <thead>\n",
       "    <tr style=\"text-align: right;\">\n",
       "      <th></th>\n",
       "      <th>email_id</th>\n",
       "      <th>hour</th>\n",
       "      <th>user_past_purchases</th>\n",
       "      <th>clicked</th>\n",
       "      <th>email_text_short_email</th>\n",
       "      <th>...</th>\n",
       "      <th>weekday_Tuesday</th>\n",
       "      <th>weekday_Wednesday</th>\n",
       "      <th>user_country_FR</th>\n",
       "      <th>user_country_UK</th>\n",
       "      <th>user_country_US</th>\n",
       "    </tr>\n",
       "  </thead>\n",
       "  <tbody>\n",
       "    <tr>\n",
       "      <th>0</th>\n",
       "      <td>8</td>\n",
       "      <td>9</td>\n",
       "      <td>3</td>\n",
       "      <td>0</td>\n",
       "      <td>1</td>\n",
       "      <td>...</td>\n",
       "      <td>0</td>\n",
       "      <td>0</td>\n",
       "      <td>0</td>\n",
       "      <td>0</td>\n",
       "      <td>1</td>\n",
       "    </tr>\n",
       "    <tr>\n",
       "      <th>1</th>\n",
       "      <td>33</td>\n",
       "      <td>6</td>\n",
       "      <td>0</td>\n",
       "      <td>0</td>\n",
       "      <td>0</td>\n",
       "      <td>...</td>\n",
       "      <td>0</td>\n",
       "      <td>0</td>\n",
       "      <td>0</td>\n",
       "      <td>0</td>\n",
       "      <td>1</td>\n",
       "    </tr>\n",
       "    <tr>\n",
       "      <th>2</th>\n",
       "      <td>46</td>\n",
       "      <td>14</td>\n",
       "      <td>3</td>\n",
       "      <td>0</td>\n",
       "      <td>1</td>\n",
       "      <td>...</td>\n",
       "      <td>1</td>\n",
       "      <td>0</td>\n",
       "      <td>0</td>\n",
       "      <td>0</td>\n",
       "      <td>1</td>\n",
       "    </tr>\n",
       "    <tr>\n",
       "      <th>3</th>\n",
       "      <td>49</td>\n",
       "      <td>11</td>\n",
       "      <td>10</td>\n",
       "      <td>0</td>\n",
       "      <td>0</td>\n",
       "      <td>...</td>\n",
       "      <td>0</td>\n",
       "      <td>0</td>\n",
       "      <td>0</td>\n",
       "      <td>0</td>\n",
       "      <td>1</td>\n",
       "    </tr>\n",
       "    <tr>\n",
       "      <th>4</th>\n",
       "      <td>65</td>\n",
       "      <td>8</td>\n",
       "      <td>3</td>\n",
       "      <td>0</td>\n",
       "      <td>1</td>\n",
       "      <td>...</td>\n",
       "      <td>0</td>\n",
       "      <td>1</td>\n",
       "      <td>0</td>\n",
       "      <td>1</td>\n",
       "      <td>0</td>\n",
       "    </tr>\n",
       "  </tbody>\n",
       "</table>\n",
       "<p>5 rows × 15 columns</p>\n",
       "</div>"
      ],
      "text/plain": [
       "   email_id  hour  user_past_purchases  clicked  email_text_short_email  ...  weekday_Tuesday  weekday_Wednesday  user_country_FR  user_country_UK  user_country_US\n",
       "0         8     9                    3        0                       1  ...                0                  0                0                0                1\n",
       "1        33     6                    0        0                       0  ...                0                  0                0                0                1\n",
       "2        46    14                    3        0                       1  ...                1                  0                0                0                1\n",
       "3        49    11                   10        0                       0  ...                0                  0                0                0                1\n",
       "4        65     8                    3        0                       1  ...                0                  1                0                1                0\n",
       "\n",
       "[5 rows x 15 columns]"
      ]
     },
     "execution_count": 11,
     "metadata": {},
     "output_type": "execute_result"
    }
   ],
   "source": [
    "data.head()"
   ]
  },
  {
   "cell_type": "code",
   "execution_count": 12,
   "metadata": {
    "execution": {
     "iopub.execute_input": "2021-05-11T15:39:01.467849Z",
     "iopub.status.busy": "2021-05-11T15:39:01.467440Z",
     "iopub.status.idle": "2021-05-11T15:39:01.494952Z",
     "shell.execute_reply": "2021-05-11T15:39:01.483703Z",
     "shell.execute_reply.started": "2021-05-11T15:39:01.467805Z"
    }
   },
   "outputs": [
    {
     "data": {
      "text/plain": [
       "Index(['email_id', 'hour', 'user_past_purchases', 'clicked', 'email_text_short_email', 'email_version_personalized', 'weekday_Monday', 'weekday_Saturday', 'weekday_Sunday', 'weekday_Thursday', 'weekday_Tuesday', 'weekday_Wednesday', 'user_country_FR', 'user_country_UK', 'user_country_US'], dtype='object')"
      ]
     },
     "execution_count": 12,
     "metadata": {},
     "output_type": "execute_result"
    }
   ],
   "source": [
    "data.columns"
   ]
  },
  {
   "cell_type": "code",
   "execution_count": 13,
   "metadata": {
    "execution": {
     "iopub.execute_input": "2021-05-11T15:39:13.608631Z",
     "iopub.status.busy": "2021-05-11T15:39:13.608316Z",
     "iopub.status.idle": "2021-05-11T15:39:13.973855Z",
     "shell.execute_reply": "2021-05-11T15:39:13.971385Z",
     "shell.execute_reply.started": "2021-05-11T15:39:13.608604Z"
    }
   },
   "outputs": [
    {
     "name": "stdout",
     "output_type": "stream",
     "text": [
      "Optimization terminated successfully.\n",
      "         Current function value: 0.092770\n",
      "         Iterations 9\n"
     ]
    }
   ],
   "source": [
    "#add intercept\n",
    "data['intercept'] = 1\n",
    "#drop the label\n",
    "train_cols = data.drop('clicked', axis=1)\n",
    "  \n",
    "#Build Logistic Regression\n",
    "logit = sm.Logit(data['clicked'], train_cols)\n",
    "output = logit.fit()"
   ]
  },
  {
   "cell_type": "code",
   "execution_count": 14,
   "metadata": {
    "execution": {
     "iopub.execute_input": "2021-05-11T15:39:18.243816Z",
     "iopub.status.busy": "2021-05-11T15:39:18.243507Z",
     "iopub.status.idle": "2021-05-11T15:39:18.263319Z",
     "shell.execute_reply": "2021-05-11T15:39:18.256213Z",
     "shell.execute_reply.started": "2021-05-11T15:39:18.243788Z"
    }
   },
   "outputs": [
    {
     "name": "stdout",
     "output_type": "stream",
     "text": [
      "                            coefficients            SE          z       p_values\n",
      "email_id                   -3.848609e-08  7.780379e-08  -0.494656   6.208432e-01\n",
      "hour                        1.670684e-02  5.005879e-03   3.337445   8.455247e-04\n",
      "user_past_purchases         1.878107e-01  5.725787e-03  32.800855  5.725039e-236\n",
      "email_text_short_email      2.793085e-01  4.530477e-02   6.165101   7.043829e-10\n",
      "email_version_personalized  6.387251e-01  4.691461e-02  13.614631   3.277989e-42\n",
      "weekday_Monday              5.410326e-01  9.341014e-02   5.792011   6.954864e-09\n",
      "weekday_Saturday            2.828638e-01  9.777629e-02   2.892969   3.816190e-03\n",
      "weekday_Sunday              1.836278e-01  1.001194e-01   1.834088   6.664099e-02\n",
      "weekday_Thursday            6.254040e-01  9.233999e-02   6.772839   1.262790e-11\n",
      "weekday_Tuesday             6.162222e-01  9.237223e-02   6.671077   2.539336e-11\n",
      "weekday_Wednesday           7.554637e-01  9.084515e-02   8.315950   9.102053e-17\n",
      "user_country_FR            -7.864563e-02  1.625969e-01  -0.483685   6.286097e-01\n",
      "user_country_UK             1.155255e+00  1.220603e-01   9.464618   2.946372e-21\n",
      "user_country_US             1.141360e+00  1.159626e-01   9.842487   7.386228e-23\n",
      "intercept                  -6.880922e+00  1.560666e-01 -44.089646   0.000000e+00\n"
     ]
    }
   ],
   "source": [
    "output_table = pandas.DataFrame(dict(coefficients = output.params, SE = output.bse, z = output.tvalues, p_values = output.pvalues))\n",
    "#get coefficients and pvalues\n",
    "print(output_table)"
   ]
  },
  {
   "cell_type": "code",
   "execution_count": 33,
   "metadata": {
    "execution": {
     "iopub.execute_input": "2021-05-10T14:51:09.230397Z",
     "iopub.status.busy": "2021-05-10T14:51:09.229309Z",
     "iopub.status.idle": "2021-05-10T14:51:09.353431Z",
     "shell.execute_reply": "2021-05-10T14:51:09.352212Z",
     "shell.execute_reply.started": "2021-05-10T14:51:09.230338Z"
    }
   },
   "outputs": [
    {
     "name": "stdout",
     "output_type": "stream",
     "text": [
      "                            coefficients        SE          z       p_values\n",
      "user_country_UK                 1.155255  0.122060   9.464618   2.946372e-21\n",
      "user_country_US                 1.141360  0.115963   9.842487   7.386228e-23\n",
      "weekday_Wednesday               0.755464  0.090845   8.315950   9.102053e-17\n",
      "email_version_personalized      0.638725  0.046915  13.614631   3.277989e-42\n",
      "weekday_Thursday                0.625404  0.092340   6.772839   1.262790e-11\n",
      "weekday_Tuesday                 0.616222  0.092372   6.671077   2.539336e-11\n",
      "weekday_Monday                  0.541033  0.093410   5.792011   6.954864e-09\n",
      "weekday_Saturday                0.282864  0.097776   2.892969   3.816190e-03\n",
      "email_text_short_email          0.279308  0.045305   6.165101   7.043829e-10\n",
      "user_past_purchases             0.187811  0.005726  32.800855  5.725039e-236\n",
      "hour                            0.016707  0.005006   3.337445   8.455247e-04\n",
      "intercept                      -6.880922  0.156067 -44.089646   0.000000e+00\n"
     ]
    }
   ],
   "source": [
    "#only keep significant variables and order results by coefficient value\n",
    "print(output_table.loc[output_table['p_values'] < 0.05].sort_values(\"coefficients\", ascending=False))"
   ]
  },
  {
   "cell_type": "code",
   "execution_count": null,
   "metadata": {},
   "outputs": [],
   "source": []
  }
 ],
 "metadata": {
  "kernelspec": {
   "display_name": "Python 3",
   "language": "python",
   "name": "python3"
  },
  "language_info": {
   "codemirror_mode": {
    "name": "ipython",
    "version": 3
   },
   "file_extension": ".py",
   "mimetype": "text/x-python",
   "name": "python",
   "nbconvert_exporter": "python",
   "pygments_lexer": "ipython3",
   "version": "3.7.7"
  }
 },
 "nbformat": 4,
 "nbformat_minor": 4
}
