{
 "cells": [
  {
   "cell_type": "code",
   "execution_count": 2,
   "metadata": {
    "execution": {
     "iopub.execute_input": "2021-05-28T13:50:28.236761Z",
     "iopub.status.busy": "2021-05-28T13:50:28.236482Z",
     "iopub.status.idle": "2021-05-28T13:50:28.243332Z",
     "shell.execute_reply": "2021-05-28T13:50:28.241491Z",
     "shell.execute_reply.started": "2021-05-28T13:50:28.236737Z"
    }
   },
   "outputs": [],
   "source": [
    "import pandas as pd\n",
    "import numpy as np\n",
    "import graphviz\n",
    "from sklearn.ensemble import RandomForestClassifier\n",
    "from sklearn.metrics import confusion_matrix\n",
    "from sklearn.model_selection import train_test_split\n",
    "from sklearn.tree import DecisionTreeClassifier\n",
    "from sklearn.tree import export_graphviz\n",
    "from graphviz import Source\n",
    "from scipy import stats\n",
    "  \n",
    "pd.set_option('display.max_columns', 20)\n",
    "pd.set_option('display.width', 350)"
   ]
  },
  {
   "cell_type": "code",
   "execution_count": 4,
   "metadata": {
    "execution": {
     "iopub.execute_input": "2021-05-28T13:50:56.971512Z",
     "iopub.status.busy": "2021-05-28T13:50:56.971214Z",
     "iopub.status.idle": "2021-05-28T13:50:57.095291Z",
     "shell.execute_reply": "2021-05-28T13:50:57.094319Z",
     "shell.execute_reply.started": "2021-05-28T13:50:56.971486Z"
    }
   },
   "outputs": [],
   "source": [
    "#set seed to be able to reproduce the results\n",
    "np.random.seed(4684)\n",
    "\n",
    "#read from google drive. Again, it is always the email dataset\n",
    "data = pd.read_csv('emails.csv')"
   ]
  },
  {
   "cell_type": "code",
   "execution_count": 6,
   "metadata": {
    "execution": {
     "iopub.execute_input": "2021-05-28T13:52:35.868279Z",
     "iopub.status.busy": "2021-05-28T13:52:35.867977Z",
     "iopub.status.idle": "2021-05-28T13:52:38.874507Z",
     "shell.execute_reply": "2021-05-28T13:52:38.871507Z",
     "shell.execute_reply.started": "2021-05-28T13:52:35.868253Z"
    }
   },
   "outputs": [
    {
     "data": {
      "text/plain": [
       "'tree.dot.pdf'"
      ]
     },
     "execution_count": 6,
     "metadata": {},
     "output_type": "execute_result"
    }
   ],
   "source": [
    "#get dummy variables from categorical ones\n",
    "data_dummy = pd.get_dummies(data, drop_first=True).drop('email_id', axis=1)\n",
    "  \n",
    "#split into train and test to avoid overfitting\n",
    "train, test = train_test_split(data_dummy, test_size = 0.34)\n",
    "  \n",
    "#build the model. We choose a single decision tree here, but this issue might apply to all models.\n",
    "#we have a split if impurity (think about it as loss) improves by at least 0.001, which is a very low number, forcing the tree to split pretty much always except for clearly useless splits\n",
    "tree=DecisionTreeClassifier(min_impurity_decrease=0.001)\n",
    "tree.fit(train.drop('clicked', axis=1),train['clicked'])\n",
    "  \n",
    "#visualize it\n",
    "export_graphviz(tree, out_file=\"tree.dot\", feature_names=train.drop('clicked', axis=1).columns, proportion=True, rotate=True)\n",
    "with open(\"tree.dot\") as f:\n",
    "    dot_graph = f.read()\n",
    "s = Source.from_file(\"tree.dot\")\n",
    "s.view()"
   ]
  },
  {
   "cell_type": "code",
   "execution_count": 8,
   "metadata": {
    "execution": {
     "iopub.execute_input": "2021-05-28T13:53:06.326695Z",
     "iopub.status.busy": "2021-05-28T13:53:06.326385Z",
     "iopub.status.idle": "2021-05-28T13:53:06.343129Z",
     "shell.execute_reply": "2021-05-28T13:53:06.342073Z",
     "shell.execute_reply.started": "2021-05-28T13:53:06.326670Z"
    }
   },
   "outputs": [
    {
     "data": {
      "text/plain": [
       "DescribeResult(nobs=33983, minmax=(0.020555732411660376, 0.020555732411660376), mean=0.020555732411660376, variance=0.0, skewness=0.0, kurtosis=-3.0)"
      ]
     },
     "execution_count": 8,
     "metadata": {},
     "output_type": "execute_result"
    }
   ],
   "source": [
    "tree_probabilities = tree.predict_proba(test.drop('clicked', axis=1))[:,1]\n",
    "stats.describe(tree_probabilities)"
   ]
  },
  {
   "cell_type": "code",
   "execution_count": 12,
   "metadata": {
    "execution": {
     "iopub.execute_input": "2021-05-28T13:53:58.597093Z",
     "iopub.status.busy": "2021-05-28T13:53:58.596819Z",
     "iopub.status.idle": "2021-05-28T13:53:58.625436Z",
     "shell.execute_reply": "2021-05-28T13:53:58.624402Z",
     "shell.execute_reply.started": "2021-05-28T13:53:58.597070Z"
    }
   },
   "outputs": [
    {
     "data": {
      "text/html": [
       "<div>\n",
       "<style scoped>\n",
       "    .dataframe tbody tr th:only-of-type {\n",
       "        vertical-align: middle;\n",
       "    }\n",
       "\n",
       "    .dataframe tbody tr th {\n",
       "        vertical-align: top;\n",
       "    }\n",
       "\n",
       "    .dataframe thead th {\n",
       "        text-align: right;\n",
       "    }\n",
       "</style>\n",
       "<table border=\"1\" class=\"dataframe\">\n",
       "  <thead>\n",
       "    <tr style=\"text-align: right;\">\n",
       "      <th></th>\n",
       "      <th>count</th>\n",
       "      <th>mean</th>\n",
       "      <th>std</th>\n",
       "      <th>min</th>\n",
       "      <th>25%</th>\n",
       "      <th>50%</th>\n",
       "      <th>75%</th>\n",
       "      <th>max</th>\n",
       "    </tr>\n",
       "  </thead>\n",
       "  <tbody>\n",
       "    <tr>\n",
       "      <th>0</th>\n",
       "      <td>33983.0</td>\n",
       "      <td>0.020556</td>\n",
       "      <td>8.087400e-15</td>\n",
       "      <td>0.020556</td>\n",
       "      <td>0.020556</td>\n",
       "      <td>0.020556</td>\n",
       "      <td>0.020556</td>\n",
       "      <td>0.020556</td>\n",
       "    </tr>\n",
       "  </tbody>\n",
       "</table>\n",
       "</div>"
      ],
      "text/plain": [
       "     count      mean           std       min       25%       50%       75%       max\n",
       "0  33983.0  0.020556  8.087400e-15  0.020556  0.020556  0.020556  0.020556  0.020556"
      ]
     },
     "execution_count": 12,
     "metadata": {},
     "output_type": "execute_result"
    }
   ],
   "source": [
    "pd.DataFrame(tree_probabilities).describe().T"
   ]
  },
  {
   "cell_type": "markdown",
   "metadata": {},
   "source": [
    "### Changing class weights"
   ]
  },
  {
   "cell_type": "code",
   "execution_count": 15,
   "metadata": {
    "execution": {
     "iopub.execute_input": "2021-05-28T13:56:16.921858Z",
     "iopub.status.busy": "2021-05-28T13:56:16.921555Z",
     "iopub.status.idle": "2021-05-28T13:56:53.194852Z",
     "shell.execute_reply": "2021-05-28T13:56:53.193457Z",
     "shell.execute_reply.started": "2021-05-28T13:56:16.921819Z"
    }
   },
   "outputs": [
    {
     "data": {
      "text/html": [
       "<div>\n",
       "<style scoped>\n",
       "    .dataframe tbody tr th:only-of-type {\n",
       "        vertical-align: middle;\n",
       "    }\n",
       "\n",
       "    .dataframe tbody tr th {\n",
       "        vertical-align: top;\n",
       "    }\n",
       "\n",
       "    .dataframe thead th {\n",
       "        text-align: right;\n",
       "    }\n",
       "</style>\n",
       "<table border=\"1\" class=\"dataframe\">\n",
       "  <thead>\n",
       "    <tr style=\"text-align: right;\">\n",
       "      <th></th>\n",
       "      <th>minority_class_weight</th>\n",
       "      <th>class0_error</th>\n",
       "      <th>class1_error</th>\n",
       "      <th>accuracy</th>\n",
       "    </tr>\n",
       "  </thead>\n",
       "  <tbody>\n",
       "    <tr>\n",
       "      <th>0</th>\n",
       "      <td>10</td>\n",
       "      <td>0.030268</td>\n",
       "      <td>0.964937</td>\n",
       "      <td>0.950122</td>\n",
       "    </tr>\n",
       "    <tr>\n",
       "      <th>1</th>\n",
       "      <td>20</td>\n",
       "      <td>0.050526</td>\n",
       "      <td>0.931276</td>\n",
       "      <td>0.930995</td>\n",
       "    </tr>\n",
       "    <tr>\n",
       "      <th>2</th>\n",
       "      <td>30</td>\n",
       "      <td>0.063781</td>\n",
       "      <td>0.907433</td>\n",
       "      <td>0.918518</td>\n",
       "    </tr>\n",
       "    <tr>\n",
       "      <th>3</th>\n",
       "      <td>40</td>\n",
       "      <td>0.075894</td>\n",
       "      <td>0.889201</td>\n",
       "      <td>0.907042</td>\n",
       "    </tr>\n",
       "    <tr>\n",
       "      <th>4</th>\n",
       "      <td>50</td>\n",
       "      <td>0.080944</td>\n",
       "      <td>0.890603</td>\n",
       "      <td>0.902069</td>\n",
       "    </tr>\n",
       "    <tr>\n",
       "      <th>5</th>\n",
       "      <td>60</td>\n",
       "      <td>0.084521</td>\n",
       "      <td>0.889201</td>\n",
       "      <td>0.898596</td>\n",
       "    </tr>\n",
       "    <tr>\n",
       "      <th>6</th>\n",
       "      <td>70</td>\n",
       "      <td>0.087887</td>\n",
       "      <td>0.886396</td>\n",
       "      <td>0.895359</td>\n",
       "    </tr>\n",
       "    <tr>\n",
       "      <th>7</th>\n",
       "      <td>80</td>\n",
       "      <td>0.087827</td>\n",
       "      <td>0.883590</td>\n",
       "      <td>0.895477</td>\n",
       "    </tr>\n",
       "    <tr>\n",
       "      <th>8</th>\n",
       "      <td>90</td>\n",
       "      <td>0.085242</td>\n",
       "      <td>0.884993</td>\n",
       "      <td>0.897978</td>\n",
       "    </tr>\n",
       "    <tr>\n",
       "      <th>9</th>\n",
       "      <td>100</td>\n",
       "      <td>0.090201</td>\n",
       "      <td>0.880785</td>\n",
       "      <td>0.893211</td>\n",
       "    </tr>\n",
       "    <tr>\n",
       "      <th>10</th>\n",
       "      <td>110</td>\n",
       "      <td>0.087917</td>\n",
       "      <td>0.889201</td>\n",
       "      <td>0.895271</td>\n",
       "    </tr>\n",
       "    <tr>\n",
       "      <th>11</th>\n",
       "      <td>120</td>\n",
       "      <td>0.089240</td>\n",
       "      <td>0.883590</td>\n",
       "      <td>0.894094</td>\n",
       "    </tr>\n",
       "    <tr>\n",
       "      <th>12</th>\n",
       "      <td>130</td>\n",
       "      <td>0.091253</td>\n",
       "      <td>0.883590</td>\n",
       "      <td>0.892123</td>\n",
       "    </tr>\n",
       "    <tr>\n",
       "      <th>13</th>\n",
       "      <td>140</td>\n",
       "      <td>0.091313</td>\n",
       "      <td>0.883590</td>\n",
       "      <td>0.892064</td>\n",
       "    </tr>\n",
       "    <tr>\n",
       "      <th>14</th>\n",
       "      <td>150</td>\n",
       "      <td>0.090953</td>\n",
       "      <td>0.883590</td>\n",
       "      <td>0.892417</td>\n",
       "    </tr>\n",
       "    <tr>\n",
       "      <th>15</th>\n",
       "      <td>160</td>\n",
       "      <td>0.093147</td>\n",
       "      <td>0.880785</td>\n",
       "      <td>0.890328</td>\n",
       "    </tr>\n",
       "    <tr>\n",
       "      <th>16</th>\n",
       "      <td>170</td>\n",
       "      <td>0.092907</td>\n",
       "      <td>0.880785</td>\n",
       "      <td>0.890563</td>\n",
       "    </tr>\n",
       "    <tr>\n",
       "      <th>17</th>\n",
       "      <td>180</td>\n",
       "      <td>0.090712</td>\n",
       "      <td>0.877980</td>\n",
       "      <td>0.892770</td>\n",
       "    </tr>\n",
       "    <tr>\n",
       "      <th>18</th>\n",
       "      <td>190</td>\n",
       "      <td>0.092967</td>\n",
       "      <td>0.876578</td>\n",
       "      <td>0.890592</td>\n",
       "    </tr>\n",
       "    <tr>\n",
       "      <th>19</th>\n",
       "      <td>200</td>\n",
       "      <td>0.090833</td>\n",
       "      <td>0.882188</td>\n",
       "      <td>0.892564</td>\n",
       "    </tr>\n",
       "  </tbody>\n",
       "</table>\n",
       "</div>"
      ],
      "text/plain": [
       "    minority_class_weight  class0_error  class1_error  accuracy\n",
       "0                      10      0.030268      0.964937  0.950122\n",
       "1                      20      0.050526      0.931276  0.930995\n",
       "2                      30      0.063781      0.907433  0.918518\n",
       "3                      40      0.075894      0.889201  0.907042\n",
       "4                      50      0.080944      0.890603  0.902069\n",
       "5                      60      0.084521      0.889201  0.898596\n",
       "6                      70      0.087887      0.886396  0.895359\n",
       "7                      80      0.087827      0.883590  0.895477\n",
       "8                      90      0.085242      0.884993  0.897978\n",
       "9                     100      0.090201      0.880785  0.893211\n",
       "10                    110      0.087917      0.889201  0.895271\n",
       "11                    120      0.089240      0.883590  0.894094\n",
       "12                    130      0.091253      0.883590  0.892123\n",
       "13                    140      0.091313      0.883590  0.892064\n",
       "14                    150      0.090953      0.883590  0.892417\n",
       "15                    160      0.093147      0.880785  0.890328\n",
       "16                    170      0.092907      0.880785  0.890563\n",
       "17                    180      0.090712      0.877980  0.892770\n",
       "18                    190      0.092967      0.876578  0.890592\n",
       "19                    200      0.090833      0.882188  0.892564"
      ]
     },
     "execution_count": 15,
     "metadata": {},
     "output_type": "execute_result"
    }
   ],
   "source": [
    "# RF weights can be passed as class weights inside RandomForestClassifier. \n",
    "#Then, for each weight configuration, we save class errors and accuracy. \n",
    "#Finally, pick the best combination of both class errors \n",
    "  \n",
    "#Build 20 RF models with different weights\n",
    "class0_error = []\n",
    "class1_error = []\n",
    "accuracy = []\n",
    "  \n",
    "#apply weights from 10 to 200 with 10 as a step\n",
    "for i in range(10,210,10):\n",
    "    rf = RandomForestClassifier(n_estimators=50, oob_score=True, class_weight={0:1,1:i})\n",
    "    rf.fit(train.drop('clicked', axis=1), train['clicked'])\n",
    "    #let's get confusion matrix\n",
    "    conf_matrix = pd.DataFrame(confusion_matrix(test['clicked'], rf.predict(test.drop('clicked', axis=1)), labels=[0, 1]))\n",
    "    #class0/1 errors are 1 -  (correctly classified events/total events belonging to that class)\n",
    "    class0_error.append( 1 - conf_matrix.loc[0,0]/(conf_matrix.loc[0,0]+conf_matrix.loc[0,1]))\n",
    "    class1_error.append( 1 - conf_matrix.loc[1,1]/(conf_matrix.loc[1,0]+conf_matrix.loc[1,1]))\n",
    "    accuracy.append((conf_matrix.loc[1,1]+conf_matrix.loc[0,0])/conf_matrix.values.sum())\n",
    "  \n",
    "\n",
    "dataset_weights = pd.DataFrame ({'minority_class_weight': pd.Series(range(10,210,10)),\n",
    "                                     'class0_error': pd.Series(class0_error),\n",
    "                                     'class1_error': pd.Series(class1_error),\n",
    "                                     'accuracy':     pd.Series(accuracy)\n",
    "                                   })\n",
    "  \n",
    "dataset_weights"
   ]
  },
  {
   "cell_type": "code",
   "execution_count": 17,
   "metadata": {
    "execution": {
     "iopub.execute_input": "2021-05-28T13:57:40.960245Z",
     "iopub.status.busy": "2021-05-28T13:57:40.959957Z",
     "iopub.status.idle": "2021-05-28T13:57:40.975922Z",
     "shell.execute_reply": "2021-05-28T13:57:40.973981Z",
     "shell.execute_reply.started": "2021-05-28T13:57:40.960218Z"
    }
   },
   "outputs": [
    {
     "data": {
      "text/html": [
       "<div>\n",
       "<style scoped>\n",
       "    .dataframe tbody tr th:only-of-type {\n",
       "        vertical-align: middle;\n",
       "    }\n",
       "\n",
       "    .dataframe tbody tr th {\n",
       "        vertical-align: top;\n",
       "    }\n",
       "\n",
       "    .dataframe thead th {\n",
       "        text-align: right;\n",
       "    }\n",
       "</style>\n",
       "<table border=\"1\" class=\"dataframe\">\n",
       "  <thead>\n",
       "    <tr style=\"text-align: right;\">\n",
       "      <th></th>\n",
       "      <th>minority_class_weight</th>\n",
       "      <th>class0_error</th>\n",
       "      <th>class1_error</th>\n",
       "      <th>accuracy</th>\n",
       "      <th>optimal_value</th>\n",
       "    </tr>\n",
       "  </thead>\n",
       "  <tbody>\n",
       "    <tr>\n",
       "      <th>3</th>\n",
       "      <td>40</td>\n",
       "      <td>0.075894</td>\n",
       "      <td>0.889201</td>\n",
       "      <td>0.907042</td>\n",
       "      <td>0.034905</td>\n",
       "    </tr>\n",
       "  </tbody>\n",
       "</table>\n",
       "</div>"
      ],
      "text/plain": [
       "   minority_class_weight  class0_error  class1_error  accuracy  optimal_value\n",
       "3                     40      0.075894      0.889201  0.907042       0.034905"
      ]
     },
     "execution_count": 17,
     "metadata": {},
     "output_type": "execute_result"
    }
   ],
   "source": [
    "#Calculate trade-ff between class errors\n",
    "dataset_weights['optimal_value'] = 1 - dataset_weights['class1_error'] - dataset_weights['class0_error']\n",
    "  \n",
    "#Order by optimal_value and pick the first row\n",
    "dataset_weights.sort_values('optimal_value', ascending=False).head(1)"
   ]
  },
  {
   "cell_type": "code",
   "execution_count": null,
   "metadata": {},
   "outputs": [],
   "source": []
  }
 ],
 "metadata": {
  "kernelspec": {
   "display_name": "Python 3",
   "language": "python",
   "name": "python3"
  },
  "language_info": {
   "codemirror_mode": {
    "name": "ipython",
    "version": 3
   },
   "file_extension": ".py",
   "mimetype": "text/x-python",
   "name": "python",
   "nbconvert_exporter": "python",
   "pygments_lexer": "ipython3",
   "version": "3.7.7"
  }
 },
 "nbformat": 4,
 "nbformat_minor": 4
}
