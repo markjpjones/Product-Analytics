{
 "cells": [
  {
   "cell_type": "code",
   "execution_count": 1,
   "metadata": {
    "execution": {
     "iopub.execute_input": "2021-05-31T14:41:45.920465Z",
     "iopub.status.busy": "2021-05-31T14:41:45.919816Z",
     "iopub.status.idle": "2021-05-31T14:42:05.576176Z",
     "shell.execute_reply": "2021-05-31T14:42:05.575237Z",
     "shell.execute_reply.started": "2021-05-31T14:41:45.920346Z"
    }
   },
   "outputs": [],
   "source": [
    "import pandas as pd\n",
    "import numpy as np\n",
    "from sklearn.ensemble import RandomForestClassifier\n",
    "from sklearn.metrics import confusion_matrix\n",
    "from sklearn.model_selection import train_test_split\n",
    "from tqdm import tqdm\n",
    "pd.set_option('display.max_columns', 20)\n",
    "pd.set_option('display.width', 350)"
   ]
  },
  {
   "cell_type": "code",
   "execution_count": 2,
   "metadata": {
    "execution": {
     "iopub.execute_input": "2021-05-31T14:42:05.580478Z",
     "iopub.status.busy": "2021-05-31T14:42:05.578362Z",
     "iopub.status.idle": "2021-05-31T14:42:05.969609Z",
     "shell.execute_reply": "2021-05-31T14:42:05.968691Z",
     "shell.execute_reply.started": "2021-05-31T14:42:05.579887Z"
    }
   },
   "outputs": [],
   "source": [
    "# read exercise data\n",
    "data = pd.read_csv('exercise data.csv')"
   ]
  },
  {
   "cell_type": "code",
   "execution_count": 3,
   "metadata": {
    "execution": {
     "iopub.execute_input": "2021-05-31T14:42:05.973179Z",
     "iopub.status.busy": "2021-05-31T14:42:05.972375Z",
     "iopub.status.idle": "2021-05-31T14:42:06.008122Z",
     "shell.execute_reply": "2021-05-31T14:42:06.005759Z",
     "shell.execute_reply.started": "2021-05-31T14:42:05.973137Z"
    }
   },
   "outputs": [
    {
     "data": {
      "text/html": [
       "<div>\n",
       "<style scoped>\n",
       "    .dataframe tbody tr th:only-of-type {\n",
       "        vertical-align: middle;\n",
       "    }\n",
       "\n",
       "    .dataframe tbody tr th {\n",
       "        vertical-align: top;\n",
       "    }\n",
       "\n",
       "    .dataframe thead th {\n",
       "        text-align: right;\n",
       "    }\n",
       "</style>\n",
       "<table border=\"1\" class=\"dataframe\">\n",
       "  <thead>\n",
       "    <tr style=\"text-align: right;\">\n",
       "      <th></th>\n",
       "      <th>user_id</th>\n",
       "      <th>source</th>\n",
       "      <th>device</th>\n",
       "      <th>operative_system</th>\n",
       "      <th>lat</th>\n",
       "      <th>long</th>\n",
       "      <th>weekday</th>\n",
       "      <th>yearweek</th>\n",
       "      <th>converted</th>\n",
       "    </tr>\n",
       "  </thead>\n",
       "  <tbody>\n",
       "    <tr>\n",
       "      <th>0</th>\n",
       "      <td>3</td>\n",
       "      <td>seo_facebook</td>\n",
       "      <td>web</td>\n",
       "      <td>mac</td>\n",
       "      <td>38.89</td>\n",
       "      <td>-94.81</td>\n",
       "      <td>Friday</td>\n",
       "      <td>16</td>\n",
       "      <td>0</td>\n",
       "    </tr>\n",
       "    <tr>\n",
       "      <th>1</th>\n",
       "      <td>9</td>\n",
       "      <td>seo-google</td>\n",
       "      <td>mobile</td>\n",
       "      <td>android</td>\n",
       "      <td>41.68</td>\n",
       "      <td>-72.94</td>\n",
       "      <td>Friday</td>\n",
       "      <td>18</td>\n",
       "      <td>0</td>\n",
       "    </tr>\n",
       "    <tr>\n",
       "      <th>2</th>\n",
       "      <td>14</td>\n",
       "      <td>friend_referral</td>\n",
       "      <td>mobile</td>\n",
       "      <td>iOS</td>\n",
       "      <td>39.74</td>\n",
       "      <td>-75.53</td>\n",
       "      <td>Saturday</td>\n",
       "      <td>13</td>\n",
       "      <td>0</td>\n",
       "    </tr>\n",
       "    <tr>\n",
       "      <th>3</th>\n",
       "      <td>16</td>\n",
       "      <td>ads-google</td>\n",
       "      <td>mobile</td>\n",
       "      <td>android</td>\n",
       "      <td>37.99</td>\n",
       "      <td>-121.80</td>\n",
       "      <td>Friday</td>\n",
       "      <td>21</td>\n",
       "      <td>0</td>\n",
       "    </tr>\n",
       "    <tr>\n",
       "      <th>4</th>\n",
       "      <td>19</td>\n",
       "      <td>ads-google</td>\n",
       "      <td>mobile</td>\n",
       "      <td>android</td>\n",
       "      <td>41.08</td>\n",
       "      <td>-81.52</td>\n",
       "      <td>Wednesday</td>\n",
       "      <td>14</td>\n",
       "      <td>0</td>\n",
       "    </tr>\n",
       "  </tbody>\n",
       "</table>\n",
       "</div>"
      ],
      "text/plain": [
       "   user_id           source  device operative_system    lat    long    weekday  yearweek  converted\n",
       "0        3     seo_facebook     web              mac  38.89  -94.81     Friday        16          0\n",
       "1        9       seo-google  mobile          android  41.68  -72.94     Friday        18          0\n",
       "2       14  friend_referral  mobile              iOS  39.74  -75.53   Saturday        13          0\n",
       "3       16       ads-google  mobile          android  37.99 -121.80     Friday        21          0\n",
       "4       19       ads-google  mobile          android  41.08  -81.52  Wednesday        14          0"
      ]
     },
     "execution_count": 3,
     "metadata": {},
     "output_type": "execute_result"
    }
   ],
   "source": [
    "data.head()"
   ]
  },
  {
   "cell_type": "markdown",
   "metadata": {},
   "source": [
    "### Build model"
   ]
  },
  {
   "cell_type": "code",
   "execution_count": 4,
   "metadata": {
    "execution": {
     "iopub.execute_input": "2021-05-31T14:42:06.015291Z",
     "iopub.status.busy": "2021-05-31T14:42:06.014859Z",
     "iopub.status.idle": "2021-05-31T14:42:24.698608Z",
     "shell.execute_reply": "2021-05-31T14:42:24.697758Z",
     "shell.execute_reply.started": "2021-05-31T14:42:06.015253Z"
    }
   },
   "outputs": [
    {
     "data": {
      "text/plain": [
       "RandomForestClassifier(n_estimators=50, oob_score=True)"
      ]
     },
     "execution_count": 4,
     "metadata": {},
     "output_type": "execute_result"
    }
   ],
   "source": [
    "# create dummy variables for categorical variables\n",
    "data_dummy = pd.get_dummies(data, drop_first=True)\n",
    "  \n",
    "#split into train and test\n",
    "train, test = train_test_split(data_dummy, test_size = 0.34)\n",
    "  \n",
    "# build & fit model\n",
    "rf = RandomForestClassifier(n_estimators=50, oob_score=True)\n",
    "rf.fit(train.drop('converted', axis=1), train['converted'])"
   ]
  },
  {
   "cell_type": "code",
   "execution_count": 5,
   "metadata": {
    "execution": {
     "iopub.execute_input": "2021-05-31T14:42:24.701007Z",
     "iopub.status.busy": "2021-05-31T14:42:24.700286Z",
     "iopub.status.idle": "2021-05-31T14:42:25.823037Z",
     "shell.execute_reply": "2021-05-31T14:42:25.809553Z",
     "shell.execute_reply.started": "2021-05-31T14:42:24.700968Z"
    }
   },
   "outputs": [
    {
     "data": {
      "text/html": [
       "<div>\n",
       "<style scoped>\n",
       "    .dataframe tbody tr th:only-of-type {\n",
       "        vertical-align: middle;\n",
       "    }\n",
       "\n",
       "    .dataframe tbody tr th {\n",
       "        vertical-align: top;\n",
       "    }\n",
       "\n",
       "    .dataframe thead th {\n",
       "        text-align: right;\n",
       "    }\n",
       "</style>\n",
       "<table border=\"1\" class=\"dataframe\">\n",
       "  <thead>\n",
       "    <tr style=\"text-align: right;\">\n",
       "      <th></th>\n",
       "      <th>oob_accuracy</th>\n",
       "      <th>test_set_accuracy</th>\n",
       "    </tr>\n",
       "  </thead>\n",
       "  <tbody>\n",
       "    <tr>\n",
       "      <th>0</th>\n",
       "      <td>0.98126</td>\n",
       "      <td>0.982008</td>\n",
       "    </tr>\n",
       "  </tbody>\n",
       "</table>\n",
       "</div>"
      ],
      "text/plain": [
       "   oob_accuracy  test_set_accuracy\n",
       "0       0.98126           0.982008"
      ]
     },
     "execution_count": 5,
     "metadata": {},
     "output_type": "execute_result"
    }
   ],
   "source": [
    "# print accuracy scores for training and test sets\n",
    "pd.DataFrame ({'oob_accuracy': [rf.oob_score_], \n",
    "                'test_set_accuracy' : [rf.score(test.drop('converted', axis=1), test['converted'])]})\n",
    "\n",
    "         "
   ]
  },
  {
   "cell_type": "code",
   "execution_count": 6,
   "metadata": {
    "execution": {
     "iopub.execute_input": "2021-05-31T14:42:25.826775Z",
     "iopub.status.busy": "2021-05-31T14:42:25.826397Z",
     "iopub.status.idle": "2021-05-31T14:42:25.906636Z",
     "shell.execute_reply": "2021-05-31T14:42:25.905693Z",
     "shell.execute_reply.started": "2021-05-31T14:42:25.826739Z"
    }
   },
   "outputs": [
    {
     "data": {
      "text/plain": [
       "0    0.982115\n",
       "1    0.017885\n",
       "Name: converted, dtype: float64"
      ]
     },
     "execution_count": 6,
     "metadata": {},
     "output_type": "execute_result"
    }
   ],
   "source": [
    "# what would be the accuracy if we assigned everything to the majority class (class 0)\n",
    "test['converted'].value_counts(normalize=True)"
   ]
  },
  {
   "cell_type": "markdown",
   "metadata": {},
   "source": [
    "### Question\n",
    "\n",
    "**Are you happy with those results? If you are not, how would you improve your model?**"
   ]
  },
  {
   "cell_type": "markdown",
   "metadata": {},
   "source": [
    "Assuming we want our model to accurately predict class 1 events, the accuracy alone is not enough to understand how well the model is doing this. Instead, we should look at the confusion matrix"
   ]
  },
  {
   "cell_type": "code",
   "execution_count": 7,
   "metadata": {
    "execution": {
     "iopub.execute_input": "2021-05-31T14:42:25.908362Z",
     "iopub.status.busy": "2021-05-31T14:42:25.907885Z",
     "iopub.status.idle": "2021-05-31T14:42:26.950289Z",
     "shell.execute_reply": "2021-05-31T14:42:26.947728Z",
     "shell.execute_reply.started": "2021-05-31T14:42:25.908324Z"
    }
   },
   "outputs": [
    {
     "data": {
      "text/html": [
       "<div>\n",
       "<style scoped>\n",
       "    .dataframe tbody tr th:only-of-type {\n",
       "        vertical-align: middle;\n",
       "    }\n",
       "\n",
       "    .dataframe tbody tr th {\n",
       "        vertical-align: top;\n",
       "    }\n",
       "\n",
       "    .dataframe thead th {\n",
       "        text-align: right;\n",
       "    }\n",
       "</style>\n",
       "<table border=\"1\" class=\"dataframe\">\n",
       "  <thead>\n",
       "    <tr style=\"text-align: right;\">\n",
       "      <th></th>\n",
       "      <th>0</th>\n",
       "      <th>1</th>\n",
       "    </tr>\n",
       "  </thead>\n",
       "  <tbody>\n",
       "    <tr>\n",
       "      <th>0</th>\n",
       "      <td>92023</td>\n",
       "      <td>11</td>\n",
       "    </tr>\n",
       "    <tr>\n",
       "      <th>1</th>\n",
       "      <td>1675</td>\n",
       "      <td>1</td>\n",
       "    </tr>\n",
       "  </tbody>\n",
       "</table>\n",
       "</div>"
      ],
      "text/plain": [
       "       0   1\n",
       "0  92023  11\n",
       "1   1675   1"
      ]
     },
     "execution_count": 7,
     "metadata": {},
     "output_type": "execute_result"
    }
   ],
   "source": [
    "# confusion matrix\n",
    "pd.DataFrame(confusion_matrix(test['converted'], rf.predict(test.drop('converted', axis=1)), labels=[0,1]))"
   ]
  },
  {
   "cell_type": "markdown",
   "metadata": {},
   "source": [
    "Looking at the results above, we can see that the model is not doing a good job at predicing class 1 events (conversions). In fact, it has predicted many of the class 1 events incorrectly!"
   ]
  },
  {
   "cell_type": "markdown",
   "metadata": {},
   "source": [
    "To force the model to predict more class 1 events, I could either alter the the *class weights* or adjust the model *cut-off point*."
   ]
  },
  {
   "cell_type": "markdown",
   "metadata": {},
   "source": [
    "### Adjusting class weights"
   ]
  },
  {
   "cell_type": "code",
   "execution_count": 21,
   "metadata": {
    "execution": {
     "iopub.execute_input": "2021-05-31T15:03:10.191672Z",
     "iopub.status.busy": "2021-05-31T15:03:10.190744Z",
     "iopub.status.idle": "2021-05-31T15:03:10.207169Z",
     "shell.execute_reply": "2021-05-31T15:03:10.205484Z",
     "shell.execute_reply.started": "2021-05-31T15:03:10.191632Z"
    }
   },
   "outputs": [
    {
     "data": {
      "text/plain": [
       "0    270597\n",
       "1      5019\n",
       "Name: converted, dtype: int64"
      ]
     },
     "execution_count": 21,
     "metadata": {},
     "output_type": "execute_result"
    }
   ],
   "source": [
    "data['converted'].value_counts()"
   ]
  },
  {
   "cell_type": "markdown",
   "metadata": {},
   "source": [
    "1673:90199 (class_1: class_0)\n",
    "\n",
    "Based on ratio between classes, I would expect to achieve a balanced dataset if the weight for class_1 was increased by ~50."
   ]
  },
  {
   "cell_type": "code",
   "execution_count": 23,
   "metadata": {
    "execution": {
     "iopub.execute_input": "2021-05-31T15:06:05.613649Z",
     "iopub.status.busy": "2021-05-31T15:06:05.613261Z",
     "iopub.status.idle": "2021-05-31T15:08:21.273498Z",
     "shell.execute_reply": "2021-05-31T15:08:21.272078Z",
     "shell.execute_reply.started": "2021-05-31T15:06:05.613608Z"
    }
   },
   "outputs": [
    {
     "name": "stderr",
     "output_type": "stream",
     "text": [
      "100%|██████████| 10/10 [02:15<00:00, 13.56s/it]\n"
     ]
    },
    {
     "data": {
      "text/html": [
       "<div>\n",
       "<style scoped>\n",
       "    .dataframe tbody tr th:only-of-type {\n",
       "        vertical-align: middle;\n",
       "    }\n",
       "\n",
       "    .dataframe tbody tr th {\n",
       "        vertical-align: top;\n",
       "    }\n",
       "\n",
       "    .dataframe thead th {\n",
       "        text-align: right;\n",
       "    }\n",
       "</style>\n",
       "<table border=\"1\" class=\"dataframe\">\n",
       "  <thead>\n",
       "    <tr style=\"text-align: right;\">\n",
       "      <th></th>\n",
       "      <th>minority_class_weight</th>\n",
       "      <th>class0_error</th>\n",
       "      <th>class1_error</th>\n",
       "      <th>accuracy</th>\n",
       "    </tr>\n",
       "  </thead>\n",
       "  <tbody>\n",
       "    <tr>\n",
       "      <th>0</th>\n",
       "      <td>10</td>\n",
       "      <td>0.000174</td>\n",
       "      <td>0.999403</td>\n",
       "      <td>0.981955</td>\n",
       "    </tr>\n",
       "    <tr>\n",
       "      <th>1</th>\n",
       "      <td>30</td>\n",
       "      <td>0.000098</td>\n",
       "      <td>1.000000</td>\n",
       "      <td>0.982019</td>\n",
       "    </tr>\n",
       "    <tr>\n",
       "      <th>2</th>\n",
       "      <td>50</td>\n",
       "      <td>0.000098</td>\n",
       "      <td>1.000000</td>\n",
       "      <td>0.982019</td>\n",
       "    </tr>\n",
       "    <tr>\n",
       "      <th>3</th>\n",
       "      <td>70</td>\n",
       "      <td>0.000174</td>\n",
       "      <td>1.000000</td>\n",
       "      <td>0.981944</td>\n",
       "    </tr>\n",
       "    <tr>\n",
       "      <th>4</th>\n",
       "      <td>90</td>\n",
       "      <td>0.000130</td>\n",
       "      <td>1.000000</td>\n",
       "      <td>0.981987</td>\n",
       "    </tr>\n",
       "    <tr>\n",
       "      <th>5</th>\n",
       "      <td>110</td>\n",
       "      <td>0.000130</td>\n",
       "      <td>1.000000</td>\n",
       "      <td>0.981987</td>\n",
       "    </tr>\n",
       "    <tr>\n",
       "      <th>6</th>\n",
       "      <td>130</td>\n",
       "      <td>0.000098</td>\n",
       "      <td>1.000000</td>\n",
       "      <td>0.982019</td>\n",
       "    </tr>\n",
       "    <tr>\n",
       "      <th>7</th>\n",
       "      <td>150</td>\n",
       "      <td>0.000130</td>\n",
       "      <td>0.999403</td>\n",
       "      <td>0.981998</td>\n",
       "    </tr>\n",
       "    <tr>\n",
       "      <th>8</th>\n",
       "      <td>170</td>\n",
       "      <td>0.000141</td>\n",
       "      <td>1.000000</td>\n",
       "      <td>0.981976</td>\n",
       "    </tr>\n",
       "    <tr>\n",
       "      <th>9</th>\n",
       "      <td>190</td>\n",
       "      <td>0.000174</td>\n",
       "      <td>1.000000</td>\n",
       "      <td>0.981944</td>\n",
       "    </tr>\n",
       "  </tbody>\n",
       "</table>\n",
       "</div>"
      ],
      "text/plain": [
       "   minority_class_weight  class0_error  class1_error  accuracy\n",
       "0                     10      0.000174      0.999403  0.981955\n",
       "1                     30      0.000098      1.000000  0.982019\n",
       "2                     50      0.000098      1.000000  0.982019\n",
       "3                     70      0.000174      1.000000  0.981944\n",
       "4                     90      0.000130      1.000000  0.981987\n",
       "5                    110      0.000130      1.000000  0.981987\n",
       "6                    130      0.000098      1.000000  0.982019\n",
       "7                    150      0.000130      0.999403  0.981998\n",
       "8                    170      0.000141      1.000000  0.981976\n",
       "9                    190      0.000174      1.000000  0.981944"
      ]
     },
     "execution_count": 23,
     "metadata": {},
     "output_type": "execute_result"
    }
   ],
   "source": [
    "#Build 20 RF models with different weights\n",
    "class0_error = []\n",
    "class1_error = []\n",
    "accuracy = []\n",
    "  \n",
    "#apply weights from 10 to 210 with 20 as a step\n",
    "for i in tqdm(range(10,210,20)):\n",
    "    rf = RandomForestClassifier(n_estimators=50, oob_score=True, class_weight={0:1,1:i})\n",
    "    rf.fit(train.drop('converted', axis=1), train['converted'])\n",
    "    \n",
    "    conf_matrix = pd.DataFrame(confusion_matrix(test['converted'], rf.predict(test.drop('converted', axis=1)), labels=[0, 1]))\n",
    "    \n",
    "    class0_error.append( 1 - conf_matrix.loc[0,0]/(conf_matrix.loc[0,0]+conf_matrix.loc[0,1]))\n",
    "    class1_error.append( 1 - conf_matrix.loc[1,1]/(conf_matrix.loc[1,0]+conf_matrix.loc[1,1]))\n",
    "    accuracy.append((conf_matrix.loc[1,1]+conf_matrix.loc[0,0])/conf_matrix.values.sum())\n",
    "  \n",
    "\n",
    "dataset_weights = pd.DataFrame ({'minority_class_weight': pd.Series(range(10,210,20)),\n",
    "                                     'class0_error': pd.Series(class0_error),\n",
    "                                     'class1_error': pd.Series(class1_error),\n",
    "                                     'accuracy':     pd.Series(accuracy)\n",
    "                                   })\n",
    "  \n",
    "dataset_weights"
   ]
  },
  {
   "cell_type": "markdown",
   "metadata": {},
   "source": [
    "The results above indicate that the model is finding it difficult to seperate the classes despite the increasing weight of class 1.\n",
    "\n",
    "I thought it would be interesting to understand how confident the model is in the predictions it is making for the different classes. Looking at the plot and summary statistics below, the model is still extremely sure in it's predicitons, as the vast majority of class 0 predictions have probabiltihy >0.98.\n",
    "\n",
    "\n",
    "What I an surmise from this is that class 0 and class 1 events are very similar, so the model is finding it hard to differentiate classes. As the result, simply increasing the weight of class 1 will not help to imrpve the class 1 predictions."
   ]
  },
  {
   "cell_type": "code",
   "execution_count": 26,
   "metadata": {
    "execution": {
     "iopub.execute_input": "2021-05-31T15:11:23.222698Z",
     "iopub.status.busy": "2021-05-31T15:11:23.222344Z",
     "iopub.status.idle": "2021-05-31T15:11:24.477003Z",
     "shell.execute_reply": "2021-05-31T15:11:24.475909Z",
     "shell.execute_reply.started": "2021-05-31T15:11:23.222668Z"
    }
   },
   "outputs": [
    {
     "data": {
      "text/plain": [
       "<matplotlib.axes._subplots.AxesSubplot at 0x7f9c24576b10>"
      ]
     },
     "execution_count": 26,
     "metadata": {},
     "output_type": "execute_result"
    },
    {
     "data": {
      "image/png": "[encoded data removed]",
      "text/plain": [
       "<Figure size 432x288 with 1 Axes>"
      ]
     },
     "metadata": {
      "needs_background": "light"
     },
     "output_type": "display_data"
    }
   ],
   "source": [
    "pd.DataFrame(rf.predict_proba(test.drop('converted', axis=1))).plot(kind='hist')"
   ]
  },
  {
   "cell_type": "markdown",
   "metadata": {},
   "source": [
    "adjusting the class weights is not causing a change in the predictions. Try adjust the cut-off point instead"
   ]
  },
  {
   "cell_type": "code",
   "execution_count": 16,
   "metadata": {
    "execution": {
     "iopub.execute_input": "2021-05-31T14:57:08.437641Z",
     "iopub.status.busy": "2021-05-31T14:57:08.433793Z",
     "iopub.status.idle": "2021-05-31T14:57:09.477976Z",
     "shell.execute_reply": "2021-05-31T14:57:09.476953Z",
     "shell.execute_reply.started": "2021-05-31T14:57:08.437596Z"
    }
   },
   "outputs": [
    {
     "data": {
      "text/html": [
       "<div>\n",
       "<style scoped>\n",
       "    .dataframe tbody tr th:only-of-type {\n",
       "        vertical-align: middle;\n",
       "    }\n",
       "\n",
       "    .dataframe tbody tr th {\n",
       "        vertical-align: top;\n",
       "    }\n",
       "\n",
       "    .dataframe thead th {\n",
       "        text-align: right;\n",
       "    }\n",
       "</style>\n",
       "<table border=\"1\" class=\"dataframe\">\n",
       "  <thead>\n",
       "    <tr style=\"text-align: right;\">\n",
       "      <th></th>\n",
       "      <th>0</th>\n",
       "      <th>1</th>\n",
       "    </tr>\n",
       "  </thead>\n",
       "  <tbody>\n",
       "    <tr>\n",
       "      <th>count</th>\n",
       "      <td>93710.000000</td>\n",
       "      <td>93710.000000</td>\n",
       "    </tr>\n",
       "    <tr>\n",
       "      <th>mean</th>\n",
       "      <td>0.984875</td>\n",
       "      <td>0.015125</td>\n",
       "    </tr>\n",
       "    <tr>\n",
       "      <th>std</th>\n",
       "      <td>0.033625</td>\n",
       "      <td>0.033625</td>\n",
       "    </tr>\n",
       "    <tr>\n",
       "      <th>min</th>\n",
       "      <td>0.340000</td>\n",
       "      <td>0.000000</td>\n",
       "    </tr>\n",
       "    <tr>\n",
       "      <th>25%</th>\n",
       "      <td>0.980000</td>\n",
       "      <td>0.000000</td>\n",
       "    </tr>\n",
       "    <tr>\n",
       "      <th>50%</th>\n",
       "      <td>1.000000</td>\n",
       "      <td>0.000000</td>\n",
       "    </tr>\n",
       "    <tr>\n",
       "      <th>75%</th>\n",
       "      <td>1.000000</td>\n",
       "      <td>0.020000</td>\n",
       "    </tr>\n",
       "    <tr>\n",
       "      <th>max</th>\n",
       "      <td>1.000000</td>\n",
       "      <td>0.660000</td>\n",
       "    </tr>\n",
       "  </tbody>\n",
       "</table>\n",
       "</div>"
      ],
      "text/plain": [
       "                  0             1\n",
       "count  93710.000000  93710.000000\n",
       "mean       0.984875      0.015125\n",
       "std        0.033625      0.033625\n",
       "min        0.340000      0.000000\n",
       "25%        0.980000      0.000000\n",
       "50%        1.000000      0.000000\n",
       "75%        1.000000      0.020000\n",
       "max        1.000000      0.660000"
      ]
     },
     "execution_count": 16,
     "metadata": {},
     "output_type": "execute_result"
    }
   ],
   "source": [
    "pd.DataFrame(rf.predict_proba(test.drop('converted', axis=1))).describe()"
   ]
  },
  {
   "cell_type": "markdown",
   "metadata": {
    "execution": {
     "iopub.execute_input": "2021-05-31T15:04:12.991997Z",
     "iopub.status.busy": "2021-05-31T15:04:12.991712Z",
     "iopub.status.idle": "2021-05-31T15:04:12.997578Z",
     "shell.execute_reply": "2021-05-31T15:04:12.995220Z",
     "shell.execute_reply.started": "2021-05-31T15:04:12.991972Z"
    }
   },
   "source": [
    "### Adjusting model cut-off point"
   ]
  },
  {
   "cell_type": "code",
   "execution_count": 27,
   "metadata": {
    "execution": {
     "iopub.execute_input": "2021-05-31T15:24:07.164943Z",
     "iopub.status.busy": "2021-05-31T15:24:07.163463Z",
     "iopub.status.idle": "2021-05-31T15:24:19.615475Z",
     "shell.execute_reply": "2021-05-31T15:24:19.613907Z",
     "shell.execute_reply.started": "2021-05-31T15:24:07.164853Z"
    }
   },
   "outputs": [
    {
     "data": {
      "text/plain": [
       "RandomForestClassifier(n_estimators=50, oob_score=True)"
      ]
     },
     "execution_count": 27,
     "metadata": {},
     "output_type": "execute_result"
    }
   ],
   "source": [
    "# build & fit model\n",
    "rf = RandomForestClassifier(n_estimators=50, oob_score=True)\n",
    "rf.fit(train.drop('converted', axis=1), train['converted'])"
   ]
  },
  {
   "cell_type": "code",
   "execution_count": 38,
   "metadata": {
    "execution": {
     "iopub.execute_input": "2021-05-31T15:44:21.281665Z",
     "iopub.status.busy": "2021-05-31T15:44:21.281385Z",
     "iopub.status.idle": "2021-05-31T15:44:22.317582Z",
     "shell.execute_reply": "2021-05-31T15:44:22.316286Z",
     "shell.execute_reply.started": "2021-05-31T15:44:21.281641Z"
    }
   },
   "outputs": [
    {
     "data": {
      "text/html": [
       "<div>\n",
       "<style scoped>\n",
       "    .dataframe tbody tr th:only-of-type {\n",
       "        vertical-align: middle;\n",
       "    }\n",
       "\n",
       "    .dataframe tbody tr th {\n",
       "        vertical-align: top;\n",
       "    }\n",
       "\n",
       "    .dataframe thead th {\n",
       "        text-align: right;\n",
       "    }\n",
       "</style>\n",
       "<table border=\"1\" class=\"dataframe\">\n",
       "  <thead>\n",
       "    <tr style=\"text-align: right;\">\n",
       "      <th></th>\n",
       "      <th>cutoff</th>\n",
       "      <th>class0_error</th>\n",
       "      <th>class1_error</th>\n",
       "      <th>accuracy</th>\n",
       "    </tr>\n",
       "  </thead>\n",
       "  <tbody>\n",
       "    <tr>\n",
       "      <th>0</th>\n",
       "      <td>1.68</td>\n",
       "      <td>0.000000</td>\n",
       "      <td>1.000000</td>\n",
       "      <td>0.982115</td>\n",
       "    </tr>\n",
       "    <tr>\n",
       "      <th>1</th>\n",
       "      <td>0.68</td>\n",
       "      <td>0.000011</td>\n",
       "      <td>1.000000</td>\n",
       "      <td>0.982104</td>\n",
       "    </tr>\n",
       "    <tr>\n",
       "      <th>2</th>\n",
       "      <td>0.60</td>\n",
       "      <td>0.000033</td>\n",
       "      <td>1.000000</td>\n",
       "      <td>0.982083</td>\n",
       "    </tr>\n",
       "    <tr>\n",
       "      <th>3</th>\n",
       "      <td>0.58</td>\n",
       "      <td>0.000033</td>\n",
       "      <td>0.999403</td>\n",
       "      <td>0.982094</td>\n",
       "    </tr>\n",
       "    <tr>\n",
       "      <th>4</th>\n",
       "      <td>0.54</td>\n",
       "      <td>0.000076</td>\n",
       "      <td>0.999403</td>\n",
       "      <td>0.982051</td>\n",
       "    </tr>\n",
       "    <tr>\n",
       "      <th>5</th>\n",
       "      <td>0.52</td>\n",
       "      <td>0.000163</td>\n",
       "      <td>0.999403</td>\n",
       "      <td>0.981966</td>\n",
       "    </tr>\n",
       "    <tr>\n",
       "      <th>6</th>\n",
       "      <td>0.50</td>\n",
       "      <td>0.000206</td>\n",
       "      <td>0.998807</td>\n",
       "      <td>0.981934</td>\n",
       "    </tr>\n",
       "    <tr>\n",
       "      <th>7</th>\n",
       "      <td>0.48</td>\n",
       "      <td>0.000293</td>\n",
       "      <td>0.998807</td>\n",
       "      <td>0.981848</td>\n",
       "    </tr>\n",
       "    <tr>\n",
       "      <th>8</th>\n",
       "      <td>0.46</td>\n",
       "      <td>0.000369</td>\n",
       "      <td>0.998807</td>\n",
       "      <td>0.981774</td>\n",
       "    </tr>\n",
       "    <tr>\n",
       "      <th>9</th>\n",
       "      <td>0.44</td>\n",
       "      <td>0.000413</td>\n",
       "      <td>0.998210</td>\n",
       "      <td>0.981742</td>\n",
       "    </tr>\n",
       "    <tr>\n",
       "      <th>10</th>\n",
       "      <td>0.42</td>\n",
       "      <td>0.000576</td>\n",
       "      <td>0.998210</td>\n",
       "      <td>0.981581</td>\n",
       "    </tr>\n",
       "    <tr>\n",
       "      <th>11</th>\n",
       "      <td>0.40</td>\n",
       "      <td>0.000685</td>\n",
       "      <td>0.998210</td>\n",
       "      <td>0.981475</td>\n",
       "    </tr>\n",
       "    <tr>\n",
       "      <th>12</th>\n",
       "      <td>0.38</td>\n",
       "      <td>0.000837</td>\n",
       "      <td>0.998210</td>\n",
       "      <td>0.981325</td>\n",
       "    </tr>\n",
       "    <tr>\n",
       "      <th>13</th>\n",
       "      <td>0.36</td>\n",
       "      <td>0.001173</td>\n",
       "      <td>0.997613</td>\n",
       "      <td>0.981005</td>\n",
       "    </tr>\n",
       "    <tr>\n",
       "      <th>14</th>\n",
       "      <td>0.34</td>\n",
       "      <td>0.001423</td>\n",
       "      <td>0.997017</td>\n",
       "      <td>0.980770</td>\n",
       "    </tr>\n",
       "    <tr>\n",
       "      <th>15</th>\n",
       "      <td>0.32</td>\n",
       "      <td>0.001782</td>\n",
       "      <td>0.996420</td>\n",
       "      <td>0.980429</td>\n",
       "    </tr>\n",
       "    <tr>\n",
       "      <th>16</th>\n",
       "      <td>0.30</td>\n",
       "      <td>0.002303</td>\n",
       "      <td>0.995823</td>\n",
       "      <td>0.979927</td>\n",
       "    </tr>\n",
       "    <tr>\n",
       "      <th>17</th>\n",
       "      <td>0.28</td>\n",
       "      <td>0.002771</td>\n",
       "      <td>0.994630</td>\n",
       "      <td>0.979490</td>\n",
       "    </tr>\n",
       "    <tr>\n",
       "      <th>18</th>\n",
       "      <td>0.26</td>\n",
       "      <td>0.003357</td>\n",
       "      <td>0.993437</td>\n",
       "      <td>0.978935</td>\n",
       "    </tr>\n",
       "    <tr>\n",
       "      <th>19</th>\n",
       "      <td>0.24</td>\n",
       "      <td>0.004292</td>\n",
       "      <td>0.992243</td>\n",
       "      <td>0.978039</td>\n",
       "    </tr>\n",
       "    <tr>\n",
       "      <th>20</th>\n",
       "      <td>0.22</td>\n",
       "      <td>0.005628</td>\n",
       "      <td>0.990453</td>\n",
       "      <td>0.976758</td>\n",
       "    </tr>\n",
       "    <tr>\n",
       "      <th>21</th>\n",
       "      <td>0.20</td>\n",
       "      <td>0.007269</td>\n",
       "      <td>0.987470</td>\n",
       "      <td>0.975200</td>\n",
       "    </tr>\n",
       "    <tr>\n",
       "      <th>22</th>\n",
       "      <td>0.18</td>\n",
       "      <td>0.009616</td>\n",
       "      <td>0.982697</td>\n",
       "      <td>0.972980</td>\n",
       "    </tr>\n",
       "    <tr>\n",
       "      <th>23</th>\n",
       "      <td>0.16</td>\n",
       "      <td>0.012789</td>\n",
       "      <td>0.979117</td>\n",
       "      <td>0.969929</td>\n",
       "    </tr>\n",
       "    <tr>\n",
       "      <th>24</th>\n",
       "      <td>0.14</td>\n",
       "      <td>0.017374</td>\n",
       "      <td>0.970764</td>\n",
       "      <td>0.965575</td>\n",
       "    </tr>\n",
       "    <tr>\n",
       "      <th>25</th>\n",
       "      <td>0.12</td>\n",
       "      <td>0.025110</td>\n",
       "      <td>0.955251</td>\n",
       "      <td>0.958254</td>\n",
       "    </tr>\n",
       "    <tr>\n",
       "      <th>26</th>\n",
       "      <td>0.10</td>\n",
       "      <td>0.037497</td>\n",
       "      <td>0.934964</td>\n",
       "      <td>0.946452</td>\n",
       "    </tr>\n",
       "    <tr>\n",
       "      <th>27</th>\n",
       "      <td>0.08</td>\n",
       "      <td>0.058294</td>\n",
       "      <td>0.904535</td>\n",
       "      <td>0.926571</td>\n",
       "    </tr>\n",
       "    <tr>\n",
       "      <th>28</th>\n",
       "      <td>0.06</td>\n",
       "      <td>0.098485</td>\n",
       "      <td>0.847255</td>\n",
       "      <td>0.888123</td>\n",
       "    </tr>\n",
       "    <tr>\n",
       "      <th>29</th>\n",
       "      <td>0.04</td>\n",
       "      <td>0.183334</td>\n",
       "      <td>0.741647</td>\n",
       "      <td>0.806680</td>\n",
       "    </tr>\n",
       "    <tr>\n",
       "      <th>30</th>\n",
       "      <td>0.02</td>\n",
       "      <td>0.394213</td>\n",
       "      <td>0.520883</td>\n",
       "      <td>0.603522</td>\n",
       "    </tr>\n",
       "    <tr>\n",
       "      <th>31</th>\n",
       "      <td>0.00</td>\n",
       "      <td>1.000000</td>\n",
       "      <td>0.000000</td>\n",
       "      <td>0.017885</td>\n",
       "    </tr>\n",
       "  </tbody>\n",
       "</table>\n",
       "</div>"
      ],
      "text/plain": [
       "    cutoff  class0_error  class1_error  accuracy\n",
       "0     1.68      0.000000      1.000000  0.982115\n",
       "1     0.68      0.000011      1.000000  0.982104\n",
       "2     0.60      0.000033      1.000000  0.982083\n",
       "3     0.58      0.000033      0.999403  0.982094\n",
       "4     0.54      0.000076      0.999403  0.982051\n",
       "5     0.52      0.000163      0.999403  0.981966\n",
       "6     0.50      0.000206      0.998807  0.981934\n",
       "7     0.48      0.000293      0.998807  0.981848\n",
       "8     0.46      0.000369      0.998807  0.981774\n",
       "9     0.44      0.000413      0.998210  0.981742\n",
       "10    0.42      0.000576      0.998210  0.981581\n",
       "11    0.40      0.000685      0.998210  0.981475\n",
       "12    0.38      0.000837      0.998210  0.981325\n",
       "13    0.36      0.001173      0.997613  0.981005\n",
       "14    0.34      0.001423      0.997017  0.980770\n",
       "15    0.32      0.001782      0.996420  0.980429\n",
       "16    0.30      0.002303      0.995823  0.979927\n",
       "17    0.28      0.002771      0.994630  0.979490\n",
       "18    0.26      0.003357      0.993437  0.978935\n",
       "19    0.24      0.004292      0.992243  0.978039\n",
       "20    0.22      0.005628      0.990453  0.976758\n",
       "21    0.20      0.007269      0.987470  0.975200\n",
       "22    0.18      0.009616      0.982697  0.972980\n",
       "23    0.16      0.012789      0.979117  0.969929\n",
       "24    0.14      0.017374      0.970764  0.965575\n",
       "25    0.12      0.025110      0.955251  0.958254\n",
       "26    0.10      0.037497      0.934964  0.946452\n",
       "27    0.08      0.058294      0.904535  0.926571\n",
       "28    0.06      0.098485      0.847255  0.888123\n",
       "29    0.04      0.183334      0.741647  0.806680\n",
       "30    0.02      0.394213      0.520883  0.603522\n",
       "31    0.00      1.000000      0.000000  0.017885"
      ]
     },
     "execution_count": 38,
     "metadata": {},
     "output_type": "execute_result"
    }
   ],
   "source": [
    "from sklearn.metrics import roc_curve\n",
    "  \n",
    "#get test set predictions as a probability\n",
    "pred_prob=rf.predict_proba(test.drop('converted', axis=1))[:,1]\n",
    "\n",
    "#get false positive rate and true positive rate, for different cut-off points\n",
    "#and let's save them in a dataset. \n",
    "fpr, tpr, thresholds = roc_curve(test['converted'],pred_prob)\n",
    "\n",
    "error_cutoff=pd.DataFrame({'cutoff':pd.Series(thresholds),\n",
    "                               'class0_error':pd.Series(fpr),\n",
    "                               'class1_error': 1 - pd.Series(tpr)\n",
    "                                })\n",
    "\n",
    "error_cutoff['accuracy']=((1-error_cutoff['class0_error'])*sum(test['converted']==0)+(1-error_cutoff['class1_error'])*sum(test['converted']==1))/len(test['converted'])\n",
    "  \n",
    "error_cutoff"
   ]
  },
  {
   "cell_type": "code",
   "execution_count": 40,
   "metadata": {
    "execution": {
     "iopub.execute_input": "2021-05-31T15:56:40.315931Z",
     "iopub.status.busy": "2021-05-31T15:56:40.315106Z",
     "iopub.status.idle": "2021-05-31T15:56:40.336521Z",
     "shell.execute_reply": "2021-05-31T15:56:40.335013Z",
     "shell.execute_reply.started": "2021-05-31T15:56:40.315887Z"
    }
   },
   "outputs": [
    {
     "data": {
      "text/html": [
       "<div>\n",
       "<style scoped>\n",
       "    .dataframe tbody tr th:only-of-type {\n",
       "        vertical-align: middle;\n",
       "    }\n",
       "\n",
       "    .dataframe tbody tr th {\n",
       "        vertical-align: top;\n",
       "    }\n",
       "\n",
       "    .dataframe thead th {\n",
       "        text-align: right;\n",
       "    }\n",
       "</style>\n",
       "<table border=\"1\" class=\"dataframe\">\n",
       "  <thead>\n",
       "    <tr style=\"text-align: right;\">\n",
       "      <th></th>\n",
       "      <th>cutoff</th>\n",
       "      <th>class0_error</th>\n",
       "      <th>class1_error</th>\n",
       "      <th>accuracy</th>\n",
       "      <th>optimal_value</th>\n",
       "    </tr>\n",
       "  </thead>\n",
       "  <tbody>\n",
       "    <tr>\n",
       "      <th>30</th>\n",
       "      <td>0.02</td>\n",
       "      <td>0.394213</td>\n",
       "      <td>0.520883</td>\n",
       "      <td>0.603522</td>\n",
       "      <td>0.084904</td>\n",
       "    </tr>\n",
       "    <tr>\n",
       "      <th>29</th>\n",
       "      <td>0.04</td>\n",
       "      <td>0.183334</td>\n",
       "      <td>0.741647</td>\n",
       "      <td>0.806680</td>\n",
       "      <td>0.075019</td>\n",
       "    </tr>\n",
       "    <tr>\n",
       "      <th>28</th>\n",
       "      <td>0.06</td>\n",
       "      <td>0.098485</td>\n",
       "      <td>0.847255</td>\n",
       "      <td>0.888123</td>\n",
       "      <td>0.054259</td>\n",
       "    </tr>\n",
       "    <tr>\n",
       "      <th>27</th>\n",
       "      <td>0.08</td>\n",
       "      <td>0.058294</td>\n",
       "      <td>0.904535</td>\n",
       "      <td>0.926571</td>\n",
       "      <td>0.037172</td>\n",
       "    </tr>\n",
       "    <tr>\n",
       "      <th>26</th>\n",
       "      <td>0.10</td>\n",
       "      <td>0.037497</td>\n",
       "      <td>0.934964</td>\n",
       "      <td>0.946452</td>\n",
       "      <td>0.027539</td>\n",
       "    </tr>\n",
       "    <tr>\n",
       "      <th>25</th>\n",
       "      <td>0.12</td>\n",
       "      <td>0.025110</td>\n",
       "      <td>0.955251</td>\n",
       "      <td>0.958254</td>\n",
       "      <td>0.019639</td>\n",
       "    </tr>\n",
       "    <tr>\n",
       "      <th>24</th>\n",
       "      <td>0.14</td>\n",
       "      <td>0.017374</td>\n",
       "      <td>0.970764</td>\n",
       "      <td>0.965575</td>\n",
       "      <td>0.011862</td>\n",
       "    </tr>\n",
       "    <tr>\n",
       "      <th>23</th>\n",
       "      <td>0.16</td>\n",
       "      <td>0.012789</td>\n",
       "      <td>0.979117</td>\n",
       "      <td>0.969929</td>\n",
       "      <td>0.008094</td>\n",
       "    </tr>\n",
       "    <tr>\n",
       "      <th>22</th>\n",
       "      <td>0.18</td>\n",
       "      <td>0.009616</td>\n",
       "      <td>0.982697</td>\n",
       "      <td>0.972980</td>\n",
       "      <td>0.007687</td>\n",
       "    </tr>\n",
       "    <tr>\n",
       "      <th>21</th>\n",
       "      <td>0.20</td>\n",
       "      <td>0.007269</td>\n",
       "      <td>0.987470</td>\n",
       "      <td>0.975200</td>\n",
       "      <td>0.005261</td>\n",
       "    </tr>\n",
       "  </tbody>\n",
       "</table>\n",
       "</div>"
      ],
      "text/plain": [
       "    cutoff  class0_error  class1_error  accuracy  optimal_value\n",
       "30    0.02      0.394213      0.520883  0.603522       0.084904\n",
       "29    0.04      0.183334      0.741647  0.806680       0.075019\n",
       "28    0.06      0.098485      0.847255  0.888123       0.054259\n",
       "27    0.08      0.058294      0.904535  0.926571       0.037172\n",
       "26    0.10      0.037497      0.934964  0.946452       0.027539\n",
       "25    0.12      0.025110      0.955251  0.958254       0.019639\n",
       "24    0.14      0.017374      0.970764  0.965575       0.011862\n",
       "23    0.16      0.012789      0.979117  0.969929       0.008094\n",
       "22    0.18      0.009616      0.982697  0.972980       0.007687\n",
       "21    0.20      0.007269      0.987470  0.975200       0.005261"
      ]
     },
     "execution_count": 40,
     "metadata": {},
     "output_type": "execute_result"
    }
   ],
   "source": [
    "#let's check best combination of class0 and class1 errors\n",
    "error_cutoff['optimal_value'] = 1 - error_cutoff['class1_error'] - error_cutoff['class0_error']\n",
    "  \n",
    "error_cutoff.sort_values('optimal_value', ascending=False).head(10)"
   ]
  },
  {
   "cell_type": "markdown",
   "metadata": {},
   "source": [
    "Looking at the above, a cut-off value of 0.02 has the best combination of class 0 and class 1 errors. However, the accuracy has dropped to 60% and the class 0 error has risen to ~40%. From a business perspective, I would not think this would be optimal. At the end of the day, I still want a model that predicts both classes (with a certain degree of accuracy). As a result, a cut-off point between 0.04-0.08 provides a better balance between decreasing the class 1 error, while still maintaining a relatively high degree of accruracy. \n"
   ]
  },
  {
   "cell_type": "code",
   "execution_count": 41,
   "metadata": {
    "execution": {
     "iopub.execute_input": "2021-05-31T15:56:42.152828Z",
     "iopub.status.busy": "2021-05-31T15:56:42.152495Z",
     "iopub.status.idle": "2021-05-31T15:56:42.250891Z",
     "shell.execute_reply": "2021-05-31T15:56:42.249758Z",
     "shell.execute_reply.started": "2021-05-31T15:56:42.152801Z"
    }
   },
   "outputs": [
    {
     "data": {
      "text/html": [
       "<div>\n",
       "<style scoped>\n",
       "    .dataframe tbody tr th:only-of-type {\n",
       "        vertical-align: middle;\n",
       "    }\n",
       "\n",
       "    .dataframe tbody tr th {\n",
       "        vertical-align: top;\n",
       "    }\n",
       "\n",
       "    .dataframe thead th {\n",
       "        text-align: right;\n",
       "    }\n",
       "</style>\n",
       "<table border=\"1\" class=\"dataframe\">\n",
       "  <thead>\n",
       "    <tr style=\"text-align: right;\">\n",
       "      <th></th>\n",
       "      <th>0</th>\n",
       "      <th>1</th>\n",
       "    </tr>\n",
       "  </thead>\n",
       "  <tbody>\n",
       "    <tr>\n",
       "      <th>0</th>\n",
       "      <td>75161</td>\n",
       "      <td>16873</td>\n",
       "    </tr>\n",
       "    <tr>\n",
       "      <th>1</th>\n",
       "      <td>1243</td>\n",
       "      <td>433</td>\n",
       "    </tr>\n",
       "  </tbody>\n",
       "</table>\n",
       "</div>"
      ],
      "text/plain": [
       "       0      1\n",
       "0  75161  16873\n",
       "1   1243    433"
      ]
     },
     "execution_count": 41,
     "metadata": {},
     "output_type": "execute_result"
    }
   ],
   "source": [
    "#  select 0.04 as the optimal cut-off point\n",
    "best_cutoff = error_cutoff.sort_values('optimal_value', ascending=False)['cutoff'].values[1]\n",
    "predictions=np.where(pred_prob>=best_cutoff,1,0)\n",
    "\n",
    "conf_matrix_new = pd.DataFrame(confusion_matrix(test['converted'], predictions, labels=[0, 1]))\n",
    "conf_matrix_new"
   ]
  },
  {
   "cell_type": "code",
   "execution_count": 42,
   "metadata": {
    "execution": {
     "iopub.execute_input": "2021-05-31T15:56:44.051040Z",
     "iopub.status.busy": "2021-05-31T15:56:44.050766Z",
     "iopub.status.idle": "2021-05-31T15:56:45.104553Z",
     "shell.execute_reply": "2021-05-31T15:56:45.101626Z",
     "shell.execute_reply.started": "2021-05-31T15:56:44.051015Z"
    }
   },
   "outputs": [
    {
     "data": {
      "text/html": [
       "<div>\n",
       "<style scoped>\n",
       "    .dataframe tbody tr th:only-of-type {\n",
       "        vertical-align: middle;\n",
       "    }\n",
       "\n",
       "    .dataframe tbody tr th {\n",
       "        vertical-align: top;\n",
       "    }\n",
       "\n",
       "    .dataframe thead th {\n",
       "        text-align: right;\n",
       "    }\n",
       "</style>\n",
       "<table border=\"1\" class=\"dataframe\">\n",
       "  <thead>\n",
       "    <tr style=\"text-align: right;\">\n",
       "      <th></th>\n",
       "      <th>0</th>\n",
       "      <th>1</th>\n",
       "    </tr>\n",
       "  </thead>\n",
       "  <tbody>\n",
       "    <tr>\n",
       "      <th>0</th>\n",
       "      <td>92019</td>\n",
       "      <td>15</td>\n",
       "    </tr>\n",
       "    <tr>\n",
       "      <th>1</th>\n",
       "      <td>1675</td>\n",
       "      <td>1</td>\n",
       "    </tr>\n",
       "  </tbody>\n",
       "</table>\n",
       "</div>"
      ],
      "text/plain": [
       "       0   1\n",
       "0  92019  15\n",
       "1   1675   1"
      ]
     },
     "execution_count": 42,
     "metadata": {},
     "output_type": "execute_result"
    }
   ],
   "source": [
    "# original confusion matrix\n",
    "pd.DataFrame(confusion_matrix(test['converted'], rf.predict(test.drop('converted', axis=1)), labels=[0,1]))"
   ]
  },
  {
   "cell_type": "code",
   "execution_count": null,
   "metadata": {},
   "outputs": [],
   "source": []
  }
 ],
 "metadata": {
  "kernelspec": {
   "display_name": "Python 3",
   "language": "python",
   "name": "python3"
  },
  "language_info": {
   "codemirror_mode": {
    "name": "ipython",
    "version": 3
   },
   "file_extension": ".py",
   "mimetype": "text/x-python",
   "name": "python",
   "nbconvert_exporter": "python",
   "pygments_lexer": "ipython3",
   "version": "3.7.7"
  }
 },
 "nbformat": 4,
 "nbformat_minor": 4
}
