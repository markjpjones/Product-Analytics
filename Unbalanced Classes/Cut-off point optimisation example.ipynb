{
 "cells": [
  {
   "cell_type": "code",
   "execution_count": 4,
   "metadata": {
    "execution": {
     "iopub.execute_input": "2021-05-28T13:11:15.827276Z",
     "iopub.status.busy": "2021-05-28T13:11:15.826994Z",
     "iopub.status.idle": "2021-05-28T13:11:15.833711Z",
     "shell.execute_reply": "2021-05-28T13:11:15.830841Z",
     "shell.execute_reply.started": "2021-05-28T13:11:15.827251Z"
    }
   },
   "outputs": [],
   "source": [
    "import pandas as pd\n",
    "import numpy as np\n",
    "from sklearn.ensemble import RandomForestClassifier\n",
    "from sklearn.metrics import confusion_matrix\n",
    "from sklearn.model_selection import train_test_split\n",
    "pd.set_option('display.max_columns', 20)\n",
    "pd.set_option('display.width', 350)"
   ]
  },
  {
   "cell_type": "markdown",
   "metadata": {},
   "source": [
    "### Understanding the output of a confusion matrix!"
   ]
  },
  {
   "cell_type": "code",
   "execution_count": 5,
   "metadata": {
    "execution": {
     "iopub.execute_input": "2021-05-28T13:11:19.058169Z",
     "iopub.status.busy": "2021-05-28T13:11:19.057870Z",
     "iopub.status.idle": "2021-05-28T13:11:19.063592Z",
     "shell.execute_reply": "2021-05-28T13:11:19.062599Z",
     "shell.execute_reply.started": "2021-05-28T13:11:19.058144Z"
    }
   },
   "outputs": [],
   "source": [
    "y_true = [0, 1, 0, 1, 0, 1, 0]\n",
    "y_pred = [1, 1, 1, 0, 1, 0, 1]\n",
    "\n",
    "# TN = 0\n",
    "# FP = 4\n",
    "# FN = 2\n",
    "# TP = 1"
   ]
  },
  {
   "cell_type": "code",
   "execution_count": 6,
   "metadata": {
    "execution": {
     "iopub.execute_input": "2021-05-28T13:11:19.244933Z",
     "iopub.status.busy": "2021-05-28T13:11:19.244629Z",
     "iopub.status.idle": "2021-05-28T13:11:19.264445Z",
     "shell.execute_reply": "2021-05-28T13:11:19.263421Z",
     "shell.execute_reply.started": "2021-05-28T13:11:19.244906Z"
    }
   },
   "outputs": [
    {
     "data": {
      "text/plain": [
       "array([[0, 4],\n",
       "       [2, 1]])"
      ]
     },
     "execution_count": 6,
     "metadata": {},
     "output_type": "execute_result"
    }
   ],
   "source": [
    "confusion_matrix(y_true, y_pred)"
   ]
  },
  {
   "cell_type": "code",
   "execution_count": 7,
   "metadata": {
    "execution": {
     "iopub.execute_input": "2021-05-28T13:11:19.435114Z",
     "iopub.status.busy": "2021-05-28T13:11:19.434683Z",
     "iopub.status.idle": "2021-05-28T13:11:19.439519Z",
     "shell.execute_reply": "2021-05-28T13:11:19.438254Z",
     "shell.execute_reply.started": "2021-05-28T13:11:19.435076Z"
    }
   },
   "outputs": [],
   "source": [
    "# TN, FP\n",
    "# FN, TP"
   ]
  },
  {
   "cell_type": "code",
   "execution_count": 8,
   "metadata": {
    "execution": {
     "iopub.execute_input": "2021-05-28T13:11:19.621473Z",
     "iopub.status.busy": "2021-05-28T13:11:19.621161Z",
     "iopub.status.idle": "2021-05-28T13:11:21.796505Z",
     "shell.execute_reply": "2021-05-28T13:11:21.795319Z",
     "shell.execute_reply.started": "2021-05-28T13:11:19.621446Z"
    }
   },
   "outputs": [
    {
     "data": {
      "text/html": [
       "<div>\n",
       "<style scoped>\n",
       "    .dataframe tbody tr th:only-of-type {\n",
       "        vertical-align: middle;\n",
       "    }\n",
       "\n",
       "    .dataframe tbody tr th {\n",
       "        vertical-align: top;\n",
       "    }\n",
       "\n",
       "    .dataframe thead th {\n",
       "        text-align: right;\n",
       "    }\n",
       "</style>\n",
       "<table border=\"1\" class=\"dataframe\">\n",
       "  <thead>\n",
       "    <tr style=\"text-align: right;\">\n",
       "      <th></th>\n",
       "      <th>0</th>\n",
       "      <th>1</th>\n",
       "    </tr>\n",
       "  </thead>\n",
       "  <tbody>\n",
       "    <tr>\n",
       "      <th>0</th>\n",
       "      <td>64342</td>\n",
       "      <td>269</td>\n",
       "    </tr>\n",
       "    <tr>\n",
       "      <th>1</th>\n",
       "      <td>1342</td>\n",
       "      <td>14</td>\n",
       "    </tr>\n",
       "  </tbody>\n",
       "</table>\n",
       "</div>"
      ],
      "text/plain": [
       "       0    1\n",
       "0  64342  269\n",
       "1   1342   14"
      ]
     },
     "execution_count": 8,
     "metadata": {},
     "output_type": "execute_result"
    }
   ],
   "source": [
    "#set seed to be able to reproduce the results\n",
    "np.random.seed(4684)\n",
    "\n",
    "#read from google drive. Again, it is always the email dataset\n",
    "data = pd.read_csv('emails.csv')\n",
    "  \n",
    "#get dummy variables from categorical ones\n",
    "data_dummy = pd.get_dummies(data, drop_first=True).drop('email_id', axis=1)\n",
    "  \n",
    "#split into train and test to avoid overfitting\n",
    "train, test = train_test_split(data_dummy, test_size = 0.34)\n",
    "  \n",
    "#build the model. We choose a RF, but this issues applies to pretty much all models\n",
    "rf = RandomForestClassifier(n_estimators=50, oob_score=True)\n",
    "rf.fit(train.drop('clicked', axis=1), train['clicked'])\n",
    "\n",
    "#let's print OOB confusion matrix\n",
    "pd.DataFrame(confusion_matrix(train['clicked'], rf.oob_decision_function_[:,1].round(), labels=[0, 1]))"
   ]
  },
  {
   "cell_type": "code",
   "execution_count": 9,
   "metadata": {
    "execution": {
     "iopub.execute_input": "2021-05-28T13:12:42.690894Z",
     "iopub.status.busy": "2021-05-28T13:12:42.690621Z",
     "iopub.status.idle": "2021-05-28T13:12:42.965038Z",
     "shell.execute_reply": "2021-05-28T13:12:42.963850Z",
     "shell.execute_reply.started": "2021-05-28T13:12:42.690871Z"
    }
   },
   "outputs": [
    {
     "data": {
      "text/html": [
       "<div>\n",
       "<style scoped>\n",
       "    .dataframe tbody tr th:only-of-type {\n",
       "        vertical-align: middle;\n",
       "    }\n",
       "\n",
       "    .dataframe tbody tr th {\n",
       "        vertical-align: top;\n",
       "    }\n",
       "\n",
       "    .dataframe thead th {\n",
       "        text-align: right;\n",
       "    }\n",
       "</style>\n",
       "<table border=\"1\" class=\"dataframe\">\n",
       "  <thead>\n",
       "    <tr style=\"text-align: right;\">\n",
       "      <th></th>\n",
       "      <th>0</th>\n",
       "      <th>1</th>\n",
       "    </tr>\n",
       "  </thead>\n",
       "  <tbody>\n",
       "    <tr>\n",
       "      <th>0</th>\n",
       "      <td>33126</td>\n",
       "      <td>144</td>\n",
       "    </tr>\n",
       "    <tr>\n",
       "      <th>1</th>\n",
       "      <td>706</td>\n",
       "      <td>7</td>\n",
       "    </tr>\n",
       "  </tbody>\n",
       "</table>\n",
       "</div>"
      ],
      "text/plain": [
       "       0    1\n",
       "0  33126  144\n",
       "1    706    7"
      ]
     },
     "execution_count": 9,
     "metadata": {},
     "output_type": "execute_result"
    }
   ],
   "source": [
    "#and let's print test set confusion matrix\n",
    "pd.DataFrame(confusion_matrix(test['clicked'], rf.predict(test.drop('clicked', axis=1)), labels=[0, 1]))"
   ]
  },
  {
   "cell_type": "code",
   "execution_count": 10,
   "metadata": {
    "execution": {
     "iopub.execute_input": "2021-05-28T13:13:22.132582Z",
     "iopub.status.busy": "2021-05-28T13:13:22.132306Z",
     "iopub.status.idle": "2021-05-28T13:13:22.430445Z",
     "shell.execute_reply": "2021-05-28T13:13:22.426626Z",
     "shell.execute_reply.started": "2021-05-28T13:13:22.132557Z"
    }
   },
   "outputs": [
    {
     "data": {
      "text/html": [
       "<div>\n",
       "<style scoped>\n",
       "    .dataframe tbody tr th:only-of-type {\n",
       "        vertical-align: middle;\n",
       "    }\n",
       "\n",
       "    .dataframe tbody tr th {\n",
       "        vertical-align: top;\n",
       "    }\n",
       "\n",
       "    .dataframe thead th {\n",
       "        text-align: right;\n",
       "    }\n",
       "</style>\n",
       "<table border=\"1\" class=\"dataframe\">\n",
       "  <thead>\n",
       "    <tr style=\"text-align: right;\">\n",
       "      <th></th>\n",
       "      <th>test_class0_error</th>\n",
       "      <th>test_class1_error</th>\n",
       "    </tr>\n",
       "  </thead>\n",
       "  <tbody>\n",
       "    <tr>\n",
       "      <th>0</th>\n",
       "      <td>0.004328</td>\n",
       "      <td>0.990182</td>\n",
       "    </tr>\n",
       "  </tbody>\n",
       "</table>\n",
       "</div>"
      ],
      "text/plain": [
       "   test_class0_error  test_class1_error\n",
       "0           0.004328           0.990182"
      ]
     },
     "execution_count": 10,
     "metadata": {},
     "output_type": "execute_result"
    }
   ],
   "source": [
    "#confusion matrix test set\n",
    "conf_matrix = pd.DataFrame(confusion_matrix(test['clicked'], rf.predict(test.drop('clicked', axis=1)), labels=[0, 1]))\n",
    "\n",
    "#class0/1 errors are 1 -  (correctly classified events/total events belonging to that class)\n",
    "class0_error = 1 - conf_matrix.loc[0,0]/(conf_matrix.loc[0,0]+conf_matrix.loc[0,1])\n",
    "class1_error = 1 - conf_matrix.loc[1,1]/(conf_matrix.loc[1,0]+conf_matrix.loc[1,1])\n",
    "  \n",
    "pd.DataFrame( {'test_class0_error':[class0_error],\n",
    "                        'test_class1_error':[class1_error]\n",
    "              })"
   ]
  },
  {
   "cell_type": "markdown",
   "metadata": {},
   "source": [
    "### Playing with classification thresholds"
   ]
  },
  {
   "cell_type": "code",
   "execution_count": 13,
   "metadata": {
    "execution": {
     "iopub.execute_input": "2021-05-28T13:15:10.272514Z",
     "iopub.status.busy": "2021-05-28T13:15:10.272233Z",
     "iopub.status.idle": "2021-05-28T13:15:10.605569Z",
     "shell.execute_reply": "2021-05-28T13:15:10.604152Z",
     "shell.execute_reply.started": "2021-05-28T13:15:10.272489Z"
    }
   },
   "outputs": [
    {
     "data": {
      "text/html": [
       "<div>\n",
       "<style scoped>\n",
       "    .dataframe tbody tr th:only-of-type {\n",
       "        vertical-align: middle;\n",
       "    }\n",
       "\n",
       "    .dataframe tbody tr th {\n",
       "        vertical-align: top;\n",
       "    }\n",
       "\n",
       "    .dataframe thead th {\n",
       "        text-align: right;\n",
       "    }\n",
       "</style>\n",
       "<table border=\"1\" class=\"dataframe\">\n",
       "  <thead>\n",
       "    <tr style=\"text-align: right;\">\n",
       "      <th></th>\n",
       "      <th>cutoff</th>\n",
       "      <th>class0_error</th>\n",
       "      <th>class1_error</th>\n",
       "      <th>accuracy</th>\n",
       "    </tr>\n",
       "  </thead>\n",
       "  <tbody>\n",
       "    <tr>\n",
       "      <th>0</th>\n",
       "      <td>1.960000</td>\n",
       "      <td>0.000000</td>\n",
       "      <td>1.000000</td>\n",
       "      <td>0.979019</td>\n",
       "    </tr>\n",
       "    <tr>\n",
       "      <th>1</th>\n",
       "      <td>0.960000</td>\n",
       "      <td>0.000030</td>\n",
       "      <td>1.000000</td>\n",
       "      <td>0.978989</td>\n",
       "    </tr>\n",
       "    <tr>\n",
       "      <th>2</th>\n",
       "      <td>0.944000</td>\n",
       "      <td>0.000090</td>\n",
       "      <td>1.000000</td>\n",
       "      <td>0.978931</td>\n",
       "    </tr>\n",
       "    <tr>\n",
       "      <th>3</th>\n",
       "      <td>0.900000</td>\n",
       "      <td>0.000120</td>\n",
       "      <td>1.000000</td>\n",
       "      <td>0.978901</td>\n",
       "    </tr>\n",
       "    <tr>\n",
       "      <th>4</th>\n",
       "      <td>0.860000</td>\n",
       "      <td>0.000180</td>\n",
       "      <td>1.000000</td>\n",
       "      <td>0.978842</td>\n",
       "    </tr>\n",
       "    <tr>\n",
       "      <th>...</th>\n",
       "      <td>...</td>\n",
       "      <td>...</td>\n",
       "      <td>...</td>\n",
       "      <td>...</td>\n",
       "    </tr>\n",
       "    <tr>\n",
       "      <th>1178</th>\n",
       "      <td>0.001429</td>\n",
       "      <td>0.188127</td>\n",
       "      <td>0.674614</td>\n",
       "      <td>0.801666</td>\n",
       "    </tr>\n",
       "    <tr>\n",
       "      <th>1179</th>\n",
       "      <td>0.001176</td>\n",
       "      <td>0.188157</td>\n",
       "      <td>0.674614</td>\n",
       "      <td>0.801636</td>\n",
       "    </tr>\n",
       "    <tr>\n",
       "      <th>1180</th>\n",
       "      <td>0.001053</td>\n",
       "      <td>0.188218</td>\n",
       "      <td>0.674614</td>\n",
       "      <td>0.801577</td>\n",
       "    </tr>\n",
       "    <tr>\n",
       "      <th>1181</th>\n",
       "      <td>0.000909</td>\n",
       "      <td>0.188248</td>\n",
       "      <td>0.674614</td>\n",
       "      <td>0.801548</td>\n",
       "    </tr>\n",
       "    <tr>\n",
       "      <th>1182</th>\n",
       "      <td>0.000000</td>\n",
       "      <td>1.000000</td>\n",
       "      <td>0.000000</td>\n",
       "      <td>0.020981</td>\n",
       "    </tr>\n",
       "  </tbody>\n",
       "</table>\n",
       "<p>1183 rows × 4 columns</p>\n",
       "</div>"
      ],
      "text/plain": [
       "        cutoff  class0_error  class1_error  accuracy\n",
       "0     1.960000      0.000000      1.000000  0.979019\n",
       "1     0.960000      0.000030      1.000000  0.978989\n",
       "2     0.944000      0.000090      1.000000  0.978931\n",
       "3     0.900000      0.000120      1.000000  0.978901\n",
       "4     0.860000      0.000180      1.000000  0.978842\n",
       "...        ...           ...           ...       ...\n",
       "1178  0.001429      0.188127      0.674614  0.801666\n",
       "1179  0.001176      0.188157      0.674614  0.801636\n",
       "1180  0.001053      0.188218      0.674614  0.801577\n",
       "1181  0.000909      0.188248      0.674614  0.801548\n",
       "1182  0.000000      1.000000      0.000000  0.020981\n",
       "\n",
       "[1183 rows x 4 columns]"
      ]
     },
     "execution_count": 13,
     "metadata": {},
     "output_type": "execute_result"
    }
   ],
   "source": [
    "from sklearn.metrics import roc_curve\n",
    "  \n",
    "#get test set predictions as a probability\n",
    "pred_prob=rf.predict_proba(test.drop('clicked', axis=1))[:,1]\n",
    "\n",
    "#get false positive rate and true positive rate, for different cut-off points\n",
    "#and let's save them in a dataset. \n",
    "fpr, tpr, thresholds = roc_curve(test['clicked'],pred_prob)\n",
    "#For consistency with R, we will focus on class errors, defined as\n",
    "# class0_error = fpr and class1_error = 1 - tpr\n",
    "error_cutoff=pd.DataFrame({'cutoff':pd.Series(thresholds),\n",
    "                               'class0_error':pd.Series(fpr),\n",
    "                               'class1_error': 1 - pd.Series(tpr)\n",
    "                                })\n",
    "#let's also add accuracy to the dataset, i.e. overall correctly classified events.\n",
    "#This is: (tpr * positives samples in the test set + tnr * positive samples in the dataset)/total_events_in_the_data_set\n",
    "error_cutoff['accuracy']=((1-error_cutoff['class0_error'])*sum(test['clicked']==0)+(1-error_cutoff['class1_error'])*sum(test['clicked']==1))/len(test['clicked'])\n",
    "  \n",
    "error_cutoff"
   ]
  },
  {
   "cell_type": "code",
   "execution_count": 16,
   "metadata": {
    "execution": {
     "iopub.execute_input": "2021-05-28T13:18:48.288495Z",
     "iopub.status.busy": "2021-05-28T13:18:48.288204Z",
     "iopub.status.idle": "2021-05-28T13:18:48.320421Z",
     "shell.execute_reply": "2021-05-28T13:18:48.318718Z",
     "shell.execute_reply.started": "2021-05-28T13:18:48.288470Z"
    }
   },
   "outputs": [
    {
     "data": {
      "text/html": [
       "<div>\n",
       "<style scoped>\n",
       "    .dataframe tbody tr th:only-of-type {\n",
       "        vertical-align: middle;\n",
       "    }\n",
       "\n",
       "    .dataframe tbody tr th {\n",
       "        vertical-align: top;\n",
       "    }\n",
       "\n",
       "    .dataframe thead th {\n",
       "        text-align: right;\n",
       "    }\n",
       "</style>\n",
       "<table border=\"1\" class=\"dataframe\">\n",
       "  <thead>\n",
       "    <tr style=\"text-align: right;\">\n",
       "      <th></th>\n",
       "      <th>cutoff</th>\n",
       "      <th>class0_error</th>\n",
       "      <th>class1_error</th>\n",
       "      <th>accuracy</th>\n",
       "      <th>optimal_value</th>\n",
       "    </tr>\n",
       "  </thead>\n",
       "  <tbody>\n",
       "    <tr>\n",
       "      <th>1172</th>\n",
       "      <td>0.002500</td>\n",
       "      <td>0.186444</td>\n",
       "      <td>0.676017</td>\n",
       "      <td>0.803284</td>\n",
       "      <td>0.137539</td>\n",
       "    </tr>\n",
       "    <tr>\n",
       "      <th>1178</th>\n",
       "      <td>0.001429</td>\n",
       "      <td>0.188127</td>\n",
       "      <td>0.674614</td>\n",
       "      <td>0.801666</td>\n",
       "      <td>0.137258</td>\n",
       "    </tr>\n",
       "    <tr>\n",
       "      <th>1179</th>\n",
       "      <td>0.001176</td>\n",
       "      <td>0.188157</td>\n",
       "      <td>0.674614</td>\n",
       "      <td>0.801636</td>\n",
       "      <td>0.137228</td>\n",
       "    </tr>\n",
       "    <tr>\n",
       "      <th>1180</th>\n",
       "      <td>0.001053</td>\n",
       "      <td>0.188218</td>\n",
       "      <td>0.674614</td>\n",
       "      <td>0.801577</td>\n",
       "      <td>0.137168</td>\n",
       "    </tr>\n",
       "    <tr>\n",
       "      <th>1181</th>\n",
       "      <td>0.000909</td>\n",
       "      <td>0.188248</td>\n",
       "      <td>0.674614</td>\n",
       "      <td>0.801548</td>\n",
       "      <td>0.137138</td>\n",
       "    </tr>\n",
       "    <tr>\n",
       "      <th>1173</th>\n",
       "      <td>0.002222</td>\n",
       "      <td>0.186865</td>\n",
       "      <td>0.676017</td>\n",
       "      <td>0.802872</td>\n",
       "      <td>0.137118</td>\n",
       "    </tr>\n",
       "    <tr>\n",
       "      <th>1174</th>\n",
       "      <td>0.002000</td>\n",
       "      <td>0.187136</td>\n",
       "      <td>0.676017</td>\n",
       "      <td>0.802607</td>\n",
       "      <td>0.136848</td>\n",
       "    </tr>\n",
       "    <tr>\n",
       "      <th>1171</th>\n",
       "      <td>0.002857</td>\n",
       "      <td>0.185993</td>\n",
       "      <td>0.677419</td>\n",
       "      <td>0.803696</td>\n",
       "      <td>0.136587</td>\n",
       "    </tr>\n",
       "    <tr>\n",
       "      <th>1175</th>\n",
       "      <td>0.001818</td>\n",
       "      <td>0.187647</td>\n",
       "      <td>0.676017</td>\n",
       "      <td>0.802107</td>\n",
       "      <td>0.136337</td>\n",
       "    </tr>\n",
       "    <tr>\n",
       "      <th>1176</th>\n",
       "      <td>0.001667</td>\n",
       "      <td>0.187767</td>\n",
       "      <td>0.676017</td>\n",
       "      <td>0.801989</td>\n",
       "      <td>0.136216</td>\n",
       "    </tr>\n",
       "    <tr>\n",
       "      <th>1177</th>\n",
       "      <td>0.001538</td>\n",
       "      <td>0.188037</td>\n",
       "      <td>0.676017</td>\n",
       "      <td>0.801724</td>\n",
       "      <td>0.135946</td>\n",
       "    </tr>\n",
       "    <tr>\n",
       "      <th>1169</th>\n",
       "      <td>0.003125</td>\n",
       "      <td>0.185813</td>\n",
       "      <td>0.678822</td>\n",
       "      <td>0.803843</td>\n",
       "      <td>0.135365</td>\n",
       "    </tr>\n",
       "    <tr>\n",
       "      <th>1170</th>\n",
       "      <td>0.003077</td>\n",
       "      <td>0.185873</td>\n",
       "      <td>0.678822</td>\n",
       "      <td>0.803784</td>\n",
       "      <td>0.135305</td>\n",
       "    </tr>\n",
       "    <tr>\n",
       "      <th>1165</th>\n",
       "      <td>0.003636</td>\n",
       "      <td>0.184491</td>\n",
       "      <td>0.680224</td>\n",
       "      <td>0.805108</td>\n",
       "      <td>0.135285</td>\n",
       "    </tr>\n",
       "    <tr>\n",
       "      <th>1166</th>\n",
       "      <td>0.003529</td>\n",
       "      <td>0.184551</td>\n",
       "      <td>0.680224</td>\n",
       "      <td>0.805050</td>\n",
       "      <td>0.135225</td>\n",
       "    </tr>\n",
       "  </tbody>\n",
       "</table>\n",
       "</div>"
      ],
      "text/plain": [
       "        cutoff  class0_error  class1_error  accuracy  optimal_value\n",
       "1172  0.002500      0.186444      0.676017  0.803284       0.137539\n",
       "1178  0.001429      0.188127      0.674614  0.801666       0.137258\n",
       "1179  0.001176      0.188157      0.674614  0.801636       0.137228\n",
       "1180  0.001053      0.188218      0.674614  0.801577       0.137168\n",
       "1181  0.000909      0.188248      0.674614  0.801548       0.137138\n",
       "1173  0.002222      0.186865      0.676017  0.802872       0.137118\n",
       "1174  0.002000      0.187136      0.676017  0.802607       0.136848\n",
       "1171  0.002857      0.185993      0.677419  0.803696       0.136587\n",
       "1175  0.001818      0.187647      0.676017  0.802107       0.136337\n",
       "1176  0.001667      0.187767      0.676017  0.801989       0.136216\n",
       "1177  0.001538      0.188037      0.676017  0.801724       0.135946\n",
       "1169  0.003125      0.185813      0.678822  0.803843       0.135365\n",
       "1170  0.003077      0.185873      0.678822  0.803784       0.135305\n",
       "1165  0.003636      0.184491      0.680224  0.805108       0.135285\n",
       "1166  0.003529      0.184551      0.680224  0.805050       0.135225"
      ]
     },
     "execution_count": 16,
     "metadata": {},
     "output_type": "execute_result"
    }
   ],
   "source": [
    "#let's check best combination of class0 and class1 errors\n",
    "error_cutoff['optimal_value'] = 1 - error_cutoff['class1_error'] - error_cutoff['class0_error']\n",
    "  \n",
    "error_cutoff.sort_values('optimal_value', ascending=False).head(15)"
   ]
  },
  {
   "cell_type": "code",
   "execution_count": 29,
   "metadata": {
    "execution": {
     "iopub.execute_input": "2021-05-28T13:21:11.597054Z",
     "iopub.status.busy": "2021-05-28T13:21:11.596756Z",
     "iopub.status.idle": "2021-05-28T13:21:11.641673Z",
     "shell.execute_reply": "2021-05-28T13:21:11.640365Z",
     "shell.execute_reply.started": "2021-05-28T13:21:11.597028Z"
    }
   },
   "outputs": [
    {
     "data": {
      "text/html": [
       "<div>\n",
       "<style scoped>\n",
       "    .dataframe tbody tr th:only-of-type {\n",
       "        vertical-align: middle;\n",
       "    }\n",
       "\n",
       "    .dataframe tbody tr th {\n",
       "        vertical-align: top;\n",
       "    }\n",
       "\n",
       "    .dataframe thead th {\n",
       "        text-align: right;\n",
       "    }\n",
       "</style>\n",
       "<table border=\"1\" class=\"dataframe\">\n",
       "  <thead>\n",
       "    <tr style=\"text-align: right;\">\n",
       "      <th></th>\n",
       "      <th>0</th>\n",
       "      <th>1</th>\n",
       "    </tr>\n",
       "  </thead>\n",
       "  <tbody>\n",
       "    <tr>\n",
       "      <th>0</th>\n",
       "      <td>27067</td>\n",
       "      <td>6203</td>\n",
       "    </tr>\n",
       "    <tr>\n",
       "      <th>1</th>\n",
       "      <td>482</td>\n",
       "      <td>231</td>\n",
       "    </tr>\n",
       "  </tbody>\n",
       "</table>\n",
       "</div>"
      ],
      "text/plain": [
       "       0     1\n",
       "0  27067  6203\n",
       "1    482   231"
      ]
     },
     "execution_count": 29,
     "metadata": {},
     "output_type": "execute_result"
    }
   ],
   "source": [
    "#we already have predicted probabilities from the previous step, i.e.\n",
    "#pred_prob=rf.predict_proba(test.drop('clicked', axis=1))[:,1]\n",
    "  \n",
    "#let's create a 0/1 vector according to the 0.002 cutoff\n",
    "best_cutoff = error_cutoff.sort_values('optimal_value', ascending=False)['cutoff'].values[0]\n",
    "predictions=np.where(pred_prob>=best_cutoff,1,0)\n",
    "#get confusion matrix for those predictions\n",
    "#confusion matrix test set\n",
    "conf_matrix_new = pd.DataFrame(confusion_matrix(test['clicked'], predictions, labels=[0, 1]))\n",
    "conf_matrix_new"
   ]
  },
  {
   "cell_type": "code",
   "execution_count": 30,
   "metadata": {
    "execution": {
     "iopub.execute_input": "2021-05-28T13:21:26.892099Z",
     "iopub.status.busy": "2021-05-28T13:21:26.891759Z",
     "iopub.status.idle": "2021-05-28T13:21:26.903351Z",
     "shell.execute_reply": "2021-05-28T13:21:26.901497Z",
     "shell.execute_reply.started": "2021-05-28T13:21:26.892063Z"
    }
   },
   "outputs": [
    {
     "data": {
      "text/html": [
       "<div>\n",
       "<style scoped>\n",
       "    .dataframe tbody tr th:only-of-type {\n",
       "        vertical-align: middle;\n",
       "    }\n",
       "\n",
       "    .dataframe tbody tr th {\n",
       "        vertical-align: top;\n",
       "    }\n",
       "\n",
       "    .dataframe thead th {\n",
       "        text-align: right;\n",
       "    }\n",
       "</style>\n",
       "<table border=\"1\" class=\"dataframe\">\n",
       "  <thead>\n",
       "    <tr style=\"text-align: right;\">\n",
       "      <th></th>\n",
       "      <th>0</th>\n",
       "      <th>1</th>\n",
       "    </tr>\n",
       "  </thead>\n",
       "  <tbody>\n",
       "    <tr>\n",
       "      <th>0</th>\n",
       "      <td>33126</td>\n",
       "      <td>144</td>\n",
       "    </tr>\n",
       "    <tr>\n",
       "      <th>1</th>\n",
       "      <td>706</td>\n",
       "      <td>7</td>\n",
       "    </tr>\n",
       "  </tbody>\n",
       "</table>\n",
       "</div>"
      ],
      "text/plain": [
       "       0    1\n",
       "0  33126  144\n",
       "1    706    7"
      ]
     },
     "execution_count": 30,
     "metadata": {},
     "output_type": "execute_result"
    }
   ],
   "source": [
    "# oringial results\n",
    "conf_matrix"
   ]
  },
  {
   "cell_type": "code",
   "execution_count": 27,
   "metadata": {
    "execution": {
     "iopub.execute_input": "2021-05-28T13:20:54.132774Z",
     "iopub.status.busy": "2021-05-28T13:20:54.132510Z",
     "iopub.status.idle": "2021-05-28T13:20:54.142611Z",
     "shell.execute_reply": "2021-05-28T13:20:54.140818Z",
     "shell.execute_reply.started": "2021-05-28T13:20:54.132752Z"
    }
   },
   "outputs": [
    {
     "data": {
      "text/plain": [
       "0.0025"
      ]
     },
     "execution_count": 27,
     "metadata": {},
     "output_type": "execute_result"
    }
   ],
   "source": [
    "best_cutoff"
   ]
  },
  {
   "cell_type": "code",
   "execution_count": 28,
   "metadata": {
    "execution": {
     "iopub.execute_input": "2021-05-28T13:21:00.740958Z",
     "iopub.status.busy": "2021-05-28T13:21:00.740435Z",
     "iopub.status.idle": "2021-05-28T13:21:00.751306Z",
     "shell.execute_reply": "2021-05-28T13:21:00.749565Z",
     "shell.execute_reply.started": "2021-05-28T13:21:00.740920Z"
    }
   },
   "outputs": [
    {
     "data": {
      "text/plain": [
       "array([0, 0, 1, ..., 1, 0, 0])"
      ]
     },
     "execution_count": 28,
     "metadata": {},
     "output_type": "execute_result"
    }
   ],
   "source": [
    "predictions"
   ]
  },
  {
   "cell_type": "code",
   "execution_count": null,
   "metadata": {},
   "outputs": [],
   "source": []
  }
 ],
 "metadata": {
  "kernelspec": {
   "display_name": "Python 3",
   "language": "python",
   "name": "python3"
  },
  "language_info": {
   "codemirror_mode": {
    "name": "ipython",
    "version": 3
   },
   "file_extension": ".py",
   "mimetype": "text/x-python",
   "name": "python",
   "nbconvert_exporter": "python",
   "pygments_lexer": "ipython3",
   "version": "3.7.7"
  }
 },
 "nbformat": 4,
 "nbformat_minor": 4
}
