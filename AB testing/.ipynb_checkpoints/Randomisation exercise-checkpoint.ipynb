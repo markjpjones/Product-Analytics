{
 "cells": [
  {
   "cell_type": "code",
   "execution_count": 1,
   "metadata": {
    "execution": {
     "iopub.execute_input": "2021-06-21T07:26:04.017812Z",
     "iopub.status.busy": "2021-06-21T07:26:04.017484Z",
     "iopub.status.idle": "2021-06-21T07:26:15.148709Z",
     "shell.execute_reply": "2021-06-21T07:26:15.147978Z",
     "shell.execute_reply.started": "2021-06-21T07:26:04.017726Z"
    }
   },
   "outputs": [],
   "source": [
    "import pandas as pd\n",
    "import graphviz\n",
    "from sklearn.tree import DecisionTreeClassifier\n",
    "from sklearn.tree import export_graphviz\n",
    "from graphviz import Source\n",
    "import random\n",
    "from tqdm import tqdm\n",
    "from scipy import stats\n",
    "pd.set_option('display.max_columns', 20)\n",
    "pd.set_option('display.width', 350)"
   ]
  },
  {
   "cell_type": "code",
   "execution_count": 2,
   "metadata": {
    "execution": {
     "iopub.execute_input": "2021-06-21T07:26:15.151424Z",
     "iopub.status.busy": "2021-06-21T07:26:15.150927Z",
     "iopub.status.idle": "2021-06-21T07:26:15.635830Z",
     "shell.execute_reply": "2021-06-21T07:26:15.631534Z",
     "shell.execute_reply.started": "2021-06-21T07:26:15.151385Z"
    }
   },
   "outputs": [
    {
     "data": {
      "text/html": [
       "<div>\n",
       "<style scoped>\n",
       "    .dataframe tbody tr th:only-of-type {\n",
       "        vertical-align: middle;\n",
       "    }\n",
       "\n",
       "    .dataframe tbody tr th {\n",
       "        vertical-align: top;\n",
       "    }\n",
       "\n",
       "    .dataframe thead th {\n",
       "        text-align: right;\n",
       "    }\n",
       "</style>\n",
       "<table border=\"1\" class=\"dataframe\">\n",
       "  <thead>\n",
       "    <tr style=\"text-align: right;\">\n",
       "      <th></th>\n",
       "      <th>user_id</th>\n",
       "      <th>source</th>\n",
       "      <th>device</th>\n",
       "      <th>browser_language</th>\n",
       "      <th>browser</th>\n",
       "      <th>sex</th>\n",
       "      <th>age</th>\n",
       "      <th>country</th>\n",
       "      <th>test</th>\n",
       "      <th>conversion</th>\n",
       "    </tr>\n",
       "  </thead>\n",
       "  <tbody>\n",
       "    <tr>\n",
       "      <th>0</th>\n",
       "      <td>1</td>\n",
       "      <td>SEO</td>\n",
       "      <td>Web</td>\n",
       "      <td>EN</td>\n",
       "      <td>Chrome</td>\n",
       "      <td>M</td>\n",
       "      <td>38</td>\n",
       "      <td>Chile</td>\n",
       "      <td>0</td>\n",
       "      <td>0</td>\n",
       "    </tr>\n",
       "    <tr>\n",
       "      <th>1</th>\n",
       "      <td>2</td>\n",
       "      <td>SEO</td>\n",
       "      <td>Mobile</td>\n",
       "      <td>ES</td>\n",
       "      <td>Android_App</td>\n",
       "      <td>M</td>\n",
       "      <td>27</td>\n",
       "      <td>Colombia</td>\n",
       "      <td>0</td>\n",
       "      <td>0</td>\n",
       "    </tr>\n",
       "    <tr>\n",
       "      <th>2</th>\n",
       "      <td>3</td>\n",
       "      <td>SEO</td>\n",
       "      <td>Mobile</td>\n",
       "      <td>ES</td>\n",
       "      <td>Iphone_App</td>\n",
       "      <td>M</td>\n",
       "      <td>18</td>\n",
       "      <td>Guatemala</td>\n",
       "      <td>1</td>\n",
       "      <td>0</td>\n",
       "    </tr>\n",
       "    <tr>\n",
       "      <th>3</th>\n",
       "      <td>5</td>\n",
       "      <td>Ads</td>\n",
       "      <td>Web</td>\n",
       "      <td>ES</td>\n",
       "      <td>Chrome</td>\n",
       "      <td>M</td>\n",
       "      <td>22</td>\n",
       "      <td>Argentina</td>\n",
       "      <td>1</td>\n",
       "      <td>0</td>\n",
       "    </tr>\n",
       "    <tr>\n",
       "      <th>4</th>\n",
       "      <td>8</td>\n",
       "      <td>Ads</td>\n",
       "      <td>Mobile</td>\n",
       "      <td>ES</td>\n",
       "      <td>Android_App</td>\n",
       "      <td>M</td>\n",
       "      <td>19</td>\n",
       "      <td>Venezuela</td>\n",
       "      <td>1</td>\n",
       "      <td>0</td>\n",
       "    </tr>\n",
       "  </tbody>\n",
       "</table>\n",
       "</div>"
      ],
      "text/plain": [
       "   user_id source  device browser_language      browser sex  age    country  test  conversion\n",
       "0        1    SEO     Web               EN       Chrome   M   38      Chile     0           0\n",
       "1        2    SEO  Mobile               ES  Android_App   M   27   Colombia     0           0\n",
       "2        3    SEO  Mobile               ES   Iphone_App   M   18  Guatemala     1           0\n",
       "3        5    Ads     Web               ES       Chrome   M   22  Argentina     1           0\n",
       "4        8    Ads  Mobile               ES  Android_App   M   19  Venezuela     1           0"
      ]
     },
     "execution_count": 2,
     "metadata": {},
     "output_type": "execute_result"
    }
   ],
   "source": [
    "data = pd.read_csv(\"randomization.csv\")\n",
    "data.head()"
   ]
  },
  {
   "cell_type": "code",
   "execution_count": 3,
   "metadata": {
    "execution": {
     "iopub.execute_input": "2021-06-21T07:26:15.641544Z",
     "iopub.status.busy": "2021-06-21T07:26:15.641189Z",
     "iopub.status.idle": "2021-06-21T07:26:16.240686Z",
     "shell.execute_reply": "2021-06-21T07:26:16.239317Z",
     "shell.execute_reply.started": "2021-06-21T07:26:15.641515Z"
    }
   },
   "outputs": [
    {
     "data": {
      "text/html": [
       "<div>\n",
       "<style scoped>\n",
       "    .dataframe tbody tr th:only-of-type {\n",
       "        vertical-align: middle;\n",
       "    }\n",
       "\n",
       "    .dataframe tbody tr th {\n",
       "        vertical-align: top;\n",
       "    }\n",
       "\n",
       "    .dataframe thead th {\n",
       "        text-align: right;\n",
       "    }\n",
       "</style>\n",
       "<table border=\"1\" class=\"dataframe\">\n",
       "  <thead>\n",
       "    <tr style=\"text-align: right;\">\n",
       "      <th></th>\n",
       "      <th>country_Argentina</th>\n",
       "      <th>country_Uruguay</th>\n",
       "    </tr>\n",
       "    <tr>\n",
       "      <th>test</th>\n",
       "      <th></th>\n",
       "      <th></th>\n",
       "    </tr>\n",
       "  </thead>\n",
       "  <tbody>\n",
       "    <tr>\n",
       "      <th>0</th>\n",
       "      <td>0.050488</td>\n",
       "      <td>0.002239</td>\n",
       "    </tr>\n",
       "    <tr>\n",
       "      <th>1</th>\n",
       "      <td>0.173223</td>\n",
       "      <td>0.017236</td>\n",
       "    </tr>\n",
       "  </tbody>\n",
       "</table>\n",
       "</div>"
      ],
      "text/plain": [
       "      country_Argentina  country_Uruguay\n",
       "test                                    \n",
       "0              0.050488         0.002239\n",
       "1              0.173223         0.017236"
      ]
     },
     "execution_count": 3,
     "metadata": {},
     "output_type": "execute_result"
    }
   ],
   "source": [
    "#drop user_id, not needed\n",
    "data = data.drop(['user_id'], axis=1)\n",
    "data_dummy = pd.get_dummies(data)\n",
    "data_dummy.groupby(\"test\")[[\"country_Argentina\", \"country_Uruguay\"]].mean()"
   ]
  },
  {
   "cell_type": "markdown",
   "metadata": {},
   "source": [
    "### Figure out how many new rows I need for test == 0"
   ]
  },
  {
   "cell_type": "code",
   "execution_count": 4,
   "metadata": {
    "execution": {
     "iopub.execute_input": "2021-06-21T07:26:16.261283Z",
     "iopub.status.busy": "2021-06-21T07:26:16.260017Z",
     "iopub.status.idle": "2021-06-21T07:26:16.309203Z",
     "shell.execute_reply": "2021-06-21T07:26:16.307455Z",
     "shell.execute_reply.started": "2021-06-21T07:26:16.261171Z"
    }
   },
   "outputs": [
    {
     "data": {
      "text/html": [
       "<div>\n",
       "<style scoped>\n",
       "    .dataframe tbody tr th:only-of-type {\n",
       "        vertical-align: middle;\n",
       "    }\n",
       "\n",
       "    .dataframe tbody tr th {\n",
       "        vertical-align: top;\n",
       "    }\n",
       "\n",
       "    .dataframe thead th {\n",
       "        text-align: right;\n",
       "    }\n",
       "</style>\n",
       "<table border=\"1\" class=\"dataframe\">\n",
       "  <thead>\n",
       "    <tr style=\"text-align: right;\">\n",
       "      <th></th>\n",
       "      <th>country_Argentina</th>\n",
       "      <th>country_Uruguay</th>\n",
       "    </tr>\n",
       "    <tr>\n",
       "      <th>test</th>\n",
       "      <th></th>\n",
       "      <th></th>\n",
       "    </tr>\n",
       "  </thead>\n",
       "  <tbody>\n",
       "    <tr>\n",
       "      <th>0</th>\n",
       "      <td>9356.0</td>\n",
       "      <td>415.0</td>\n",
       "    </tr>\n",
       "    <tr>\n",
       "      <th>1</th>\n",
       "      <td>37377.0</td>\n",
       "      <td>3719.0</td>\n",
       "    </tr>\n",
       "  </tbody>\n",
       "</table>\n",
       "</div>"
      ],
      "text/plain": [
       "      country_Argentina  country_Uruguay\n",
       "test                                    \n",
       "0                9356.0            415.0\n",
       "1               37377.0           3719.0"
      ]
     },
     "execution_count": 4,
     "metadata": {},
     "output_type": "execute_result"
    }
   ],
   "source": [
    "# how many users in each test group\n",
    "data_dummy.groupby(\"test\")[[\"country_Argentina\", \"country_Uruguay\"]].sum()"
   ]
  },
  {
   "cell_type": "markdown",
   "metadata": {},
   "source": [
    "In order to ensure the relative frequences between the two test groups balance, I need to add the following number of rows:\n",
    "\n",
    "- Argentina: 37377 - 9356 = 28021\n",
    "- Uruguay: 3719 - 415 = 3304"
   ]
  },
  {
   "cell_type": "markdown",
   "metadata": {},
   "source": [
    "#### Argentina"
   ]
  },
  {
   "cell_type": "code",
   "execution_count": 5,
   "metadata": {
    "execution": {
     "iopub.execute_input": "2021-06-21T07:26:16.311465Z",
     "iopub.status.busy": "2021-06-21T07:26:16.310765Z",
     "iopub.status.idle": "2021-06-21T07:26:16.318136Z",
     "shell.execute_reply": "2021-06-21T07:26:16.317146Z",
     "shell.execute_reply.started": "2021-06-21T07:26:16.311436Z"
    }
   },
   "outputs": [
    {
     "data": {
      "text/plain": [
       "28021"
      ]
     },
     "execution_count": 5,
     "metadata": {},
     "output_type": "execute_result"
    }
   ],
   "source": [
    "req_ARG_users = 37377 - 9356\n",
    "req_ARG_users"
   ]
  },
  {
   "cell_type": "markdown",
   "metadata": {},
   "source": [
    "#### Uruguay"
   ]
  },
  {
   "cell_type": "code",
   "execution_count": 6,
   "metadata": {
    "execution": {
     "iopub.execute_input": "2021-06-21T07:26:16.320826Z",
     "iopub.status.busy": "2021-06-21T07:26:16.320133Z",
     "iopub.status.idle": "2021-06-21T07:26:16.334461Z",
     "shell.execute_reply": "2021-06-21T07:26:16.331937Z",
     "shell.execute_reply.started": "2021-06-21T07:26:16.320780Z"
    }
   },
   "outputs": [
    {
     "data": {
      "text/plain": [
       "3304"
      ]
     },
     "execution_count": 6,
     "metadata": {},
     "output_type": "execute_result"
    }
   ],
   "source": [
    "req_URU_users = 3719 - 415\n",
    "req_URU_users"
   ]
  },
  {
   "cell_type": "markdown",
   "metadata": {},
   "source": [
    "### Randomly select rows from the the original dataset"
   ]
  },
  {
   "cell_type": "code",
   "execution_count": 7,
   "metadata": {
    "execution": {
     "iopub.execute_input": "2021-06-21T07:26:16.338709Z",
     "iopub.status.busy": "2021-06-21T07:26:16.337004Z",
     "iopub.status.idle": "2021-06-21T07:26:16.351123Z",
     "shell.execute_reply": "2021-06-21T07:26:16.347836Z",
     "shell.execute_reply.started": "2021-06-21T07:26:16.338661Z"
    }
   },
   "outputs": [],
   "source": [
    "data_copy = data"
   ]
  },
  {
   "cell_type": "code",
   "execution_count": 8,
   "metadata": {
    "execution": {
     "iopub.execute_input": "2021-06-21T07:26:16.367094Z",
     "iopub.status.busy": "2021-06-21T07:26:16.366085Z",
     "iopub.status.idle": "2021-06-21T07:26:16.376578Z",
     "shell.execute_reply": "2021-06-21T07:26:16.375197Z",
     "shell.execute_reply.started": "2021-06-21T07:26:16.367049Z"
    }
   },
   "outputs": [
    {
     "data": {
      "text/plain": [
       "(401085, 9)"
      ]
     },
     "execution_count": 8,
     "metadata": {},
     "output_type": "execute_result"
    }
   ],
   "source": [
    "data_copy.shape"
   ]
  },
  {
   "cell_type": "markdown",
   "metadata": {},
   "source": [
    "#### Argentina"
   ]
  },
  {
   "cell_type": "code",
   "execution_count": 9,
   "metadata": {
    "execution": {
     "iopub.execute_input": "2021-06-21T07:26:16.385364Z",
     "iopub.status.busy": "2021-06-21T07:26:16.384764Z",
     "iopub.status.idle": "2021-06-21T07:26:16.525810Z",
     "shell.execute_reply": "2021-06-21T07:26:16.508620Z",
     "shell.execute_reply.started": "2021-06-21T07:26:16.385322Z"
    }
   },
   "outputs": [],
   "source": [
    "# create a list of index rows for users who are from ARG and in the control group\n",
    "ARG_test_0_users = list(data[(data.country == 'Argentina') & (data.test == 0)].index)"
   ]
  },
  {
   "cell_type": "code",
   "execution_count": 10,
   "metadata": {
    "execution": {
     "iopub.execute_input": "2021-06-21T07:26:16.550154Z",
     "iopub.status.busy": "2021-06-21T07:26:16.547883Z",
     "iopub.status.idle": "2021-06-21T07:52:44.233558Z",
     "shell.execute_reply": "2021-06-21T07:52:44.232028Z",
     "shell.execute_reply.started": "2021-06-21T07:26:16.550093Z"
    }
   },
   "outputs": [
    {
     "name": "stderr",
     "output_type": "stream",
     "text": [
      "100%|██████████| 28021/28021 [26:27<00:00, 17.65it/s]\n"
     ]
    }
   ],
   "source": [
    "# randomly select users from the ARG control group and add them to the dataset\n",
    "for _ in tqdm(range(req_ARG_users)):\n",
    "    idx = ARG_test_0_users[random.randint(0, len(ARG_test_0_users) - 1)]\n",
    "    data_copy = pd.concat([data_copy, data.loc[[idx]]], ignore_index=True)"
   ]
  },
  {
   "cell_type": "markdown",
   "metadata": {},
   "source": [
    "#### Uruguay"
   ]
  },
  {
   "cell_type": "code",
   "execution_count": 11,
   "metadata": {
    "execution": {
     "iopub.execute_input": "2021-06-21T07:52:44.235535Z",
     "iopub.status.busy": "2021-06-21T07:52:44.235153Z",
     "iopub.status.idle": "2021-06-21T07:52:44.272590Z",
     "shell.execute_reply": "2021-06-21T07:52:44.271815Z",
     "shell.execute_reply.started": "2021-06-21T07:52:44.235506Z"
    }
   },
   "outputs": [],
   "source": [
    "# create a list of index rows for users who are from URU and in the control group\n",
    "URU_test_0_users = list(data[(data.country == 'Uruguay') & (data.test == 0)].index)"
   ]
  },
  {
   "cell_type": "code",
   "execution_count": 12,
   "metadata": {
    "execution": {
     "iopub.execute_input": "2021-06-21T07:52:44.274809Z",
     "iopub.status.busy": "2021-06-21T07:52:44.274091Z",
     "iopub.status.idle": "2021-06-21T07:56:08.627855Z",
     "shell.execute_reply": "2021-06-21T07:56:08.625533Z",
     "shell.execute_reply.started": "2021-06-21T07:52:44.274749Z"
    }
   },
   "outputs": [
    {
     "name": "stderr",
     "output_type": "stream",
     "text": [
      "100%|██████████| 3304/3304 [03:24<00:00, 16.17it/s]\n"
     ]
    }
   ],
   "source": [
    "# randomly select users from the URU control group and add them to the dataset\n",
    "for _ in tqdm(range(req_URU_users)):\n",
    "    idx = URU_test_0_users[random.randint(0, len(URU_test_0_users) - 1)]\n",
    "    data_copy = pd.concat([data_copy, data.loc[[idx]]], ignore_index=True)"
   ]
  },
  {
   "cell_type": "markdown",
   "metadata": {},
   "source": [
    "#### Check class weights"
   ]
  },
  {
   "cell_type": "code",
   "execution_count": 13,
   "metadata": {
    "execution": {
     "iopub.execute_input": "2021-06-21T07:56:08.630965Z",
     "iopub.status.busy": "2021-06-21T07:56:08.629737Z",
     "iopub.status.idle": "2021-06-21T07:56:08.915417Z",
     "shell.execute_reply": "2021-06-21T07:56:08.913253Z",
     "shell.execute_reply.started": "2021-06-21T07:56:08.630921Z"
    }
   },
   "outputs": [
    {
     "data": {
      "text/html": [
       "<div>\n",
       "<style scoped>\n",
       "    .dataframe tbody tr th:only-of-type {\n",
       "        vertical-align: middle;\n",
       "    }\n",
       "\n",
       "    .dataframe tbody tr th {\n",
       "        vertical-align: top;\n",
       "    }\n",
       "\n",
       "    .dataframe thead th {\n",
       "        text-align: right;\n",
       "    }\n",
       "</style>\n",
       "<table border=\"1\" class=\"dataframe\">\n",
       "  <thead>\n",
       "    <tr style=\"text-align: right;\">\n",
       "      <th></th>\n",
       "      <th>country_Argentina</th>\n",
       "      <th>country_Uruguay</th>\n",
       "    </tr>\n",
       "    <tr>\n",
       "      <th>test</th>\n",
       "      <th></th>\n",
       "      <th></th>\n",
       "    </tr>\n",
       "  </thead>\n",
       "  <tbody>\n",
       "    <tr>\n",
       "      <th>0</th>\n",
       "      <td>0.172534</td>\n",
       "      <td>0.017167</td>\n",
       "    </tr>\n",
       "    <tr>\n",
       "      <th>1</th>\n",
       "      <td>0.173223</td>\n",
       "      <td>0.017236</td>\n",
       "    </tr>\n",
       "  </tbody>\n",
       "</table>\n",
       "</div>"
      ],
      "text/plain": [
       "      country_Argentina  country_Uruguay\n",
       "test                                    \n",
       "0              0.172534         0.017167\n",
       "1              0.173223         0.017236"
      ]
     },
     "execution_count": 13,
     "metadata": {},
     "output_type": "execute_result"
    }
   ],
   "source": [
    "data_dummy = pd.get_dummies(data_copy)\n",
    "data_dummy.groupby(\"test\")[[\"country_Argentina\", \"country_Uruguay\"]].mean()"
   ]
  },
  {
   "cell_type": "code",
   "execution_count": 15,
   "metadata": {
    "execution": {
     "iopub.execute_input": "2021-06-21T07:56:08.956723Z",
     "iopub.status.busy": "2021-06-21T07:56:08.955704Z",
     "iopub.status.idle": "2021-06-21T07:56:09.080193Z",
     "shell.execute_reply": "2021-06-21T07:56:09.079377Z",
     "shell.execute_reply.started": "2021-06-21T07:56:08.956678Z"
    }
   },
   "outputs": [],
   "source": [
    "# generate t-test results\n",
    "results = stats.ttest_ind(data_dummy.loc[data_copy['test'] == 1]['conversion'], \n",
    "                                data_dummy.loc[data_copy['test'] == 0]['conversion'], \n",
    "                                equal_var=False)"
   ]
  },
  {
   "cell_type": "code",
   "execution_count": 16,
   "metadata": {
    "execution": {
     "iopub.execute_input": "2021-06-21T07:56:09.082755Z",
     "iopub.status.busy": "2021-06-21T07:56:09.081781Z",
     "iopub.status.idle": "2021-06-21T07:56:09.098591Z",
     "shell.execute_reply": "2021-06-21T07:56:09.096268Z",
     "shell.execute_reply.started": "2021-06-21T07:56:09.082712Z"
    }
   },
   "outputs": [
    {
     "data": {
      "text/plain": [
       "0.961855629002422"
      ]
     },
     "execution_count": 16,
     "metadata": {},
     "output_type": "execute_result"
    }
   ],
   "source": [
    "results.pvalue"
   ]
  },
  {
   "cell_type": "code",
   "execution_count": 17,
   "metadata": {
    "execution": {
     "iopub.execute_input": "2021-06-21T07:56:09.102583Z",
     "iopub.status.busy": "2021-06-21T07:56:09.102003Z",
     "iopub.status.idle": "2021-06-21T07:56:09.123851Z",
     "shell.execute_reply": "2021-06-21T07:56:09.118124Z",
     "shell.execute_reply.started": "2021-06-21T07:56:09.102542Z"
    }
   },
   "outputs": [
    {
     "data": {
      "text/plain": [
       "0.047825132144838044"
      ]
     },
     "execution_count": 17,
     "metadata": {},
     "output_type": "execute_result"
    }
   ],
   "source": [
    "results.statistic"
   ]
  },
  {
   "cell_type": "markdown",
   "metadata": {},
   "source": [
    "The results are not significant as the p-value is greater than 0.05."
   ]
  },
  {
   "cell_type": "code",
   "execution_count": null,
   "metadata": {},
   "outputs": [],
   "source": []
  }
 ],
 "metadata": {
  "kernelspec": {
   "display_name": "Python 3",
   "language": "python",
   "name": "python3"
  },
  "language_info": {
   "codemirror_mode": {
    "name": "ipython",
    "version": 3
   },
   "file_extension": ".py",
   "mimetype": "text/x-python",
   "name": "python",
   "nbconvert_exporter": "python",
   "pygments_lexer": "ipython3",
   "version": "3.7.7"
  }
 },
 "nbformat": 4,
 "nbformat_minor": 4
}
