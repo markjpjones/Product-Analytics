{
 "cells": [
  {
   "cell_type": "code",
   "execution_count": 1,
   "metadata": {
    "execution": {
     "iopub.execute_input": "2021-06-13T10:25:36.532437Z",
     "iopub.status.busy": "2021-06-13T10:25:36.532113Z",
     "iopub.status.idle": "2021-06-13T10:25:37.577379Z",
     "shell.execute_reply": "2021-06-13T10:25:37.576460Z",
     "shell.execute_reply.started": "2021-06-13T10:25:36.532374Z"
    }
   },
   "outputs": [],
   "source": [
    "import pandas as pd"
   ]
  },
  {
   "cell_type": "code",
   "execution_count": 3,
   "metadata": {
    "execution": {
     "iopub.execute_input": "2021-06-13T10:26:42.527997Z",
     "iopub.status.busy": "2021-06-13T10:26:42.526828Z",
     "iopub.status.idle": "2021-06-13T10:26:42.577660Z",
     "shell.execute_reply": "2021-06-13T10:26:42.575693Z",
     "shell.execute_reply.started": "2021-06-13T10:26:42.527953Z"
    }
   },
   "outputs": [
    {
     "data": {
      "text/html": [
       "<div>\n",
       "<style scoped>\n",
       "    .dataframe tbody tr th:only-of-type {\n",
       "        vertical-align: middle;\n",
       "    }\n",
       "\n",
       "    .dataframe tbody tr th {\n",
       "        vertical-align: top;\n",
       "    }\n",
       "\n",
       "    .dataframe thead th {\n",
       "        text-align: right;\n",
       "    }\n",
       "</style>\n",
       "<table border=\"1\" class=\"dataframe\">\n",
       "  <thead>\n",
       "    <tr style=\"text-align: right;\">\n",
       "      <th></th>\n",
       "      <th>user_id</th>\n",
       "      <th>conversion</th>\n",
       "      <th>test</th>\n",
       "    </tr>\n",
       "  </thead>\n",
       "  <tbody>\n",
       "    <tr>\n",
       "      <th>0</th>\n",
       "      <td>860955</td>\n",
       "      <td>0</td>\n",
       "      <td>0</td>\n",
       "    </tr>\n",
       "    <tr>\n",
       "      <th>1</th>\n",
       "      <td>911569</td>\n",
       "      <td>0</td>\n",
       "      <td>1</td>\n",
       "    </tr>\n",
       "    <tr>\n",
       "      <th>2</th>\n",
       "      <td>673989</td>\n",
       "      <td>0</td>\n",
       "      <td>0</td>\n",
       "    </tr>\n",
       "    <tr>\n",
       "      <th>3</th>\n",
       "      <td>562761</td>\n",
       "      <td>0</td>\n",
       "      <td>0</td>\n",
       "    </tr>\n",
       "    <tr>\n",
       "      <th>4</th>\n",
       "      <td>64288</td>\n",
       "      <td>0</td>\n",
       "      <td>0</td>\n",
       "    </tr>\n",
       "  </tbody>\n",
       "</table>\n",
       "</div>"
      ],
      "text/plain": [
       "   user_id  conversion  test\n",
       "0   860955           0     0\n",
       "1   911569           0     1\n",
       "2   673989           0     0\n",
       "3   562761           0     0\n",
       "4    64288           0     0"
      ]
     },
     "execution_count": 3,
     "metadata": {},
     "output_type": "execute_result"
    }
   ],
   "source": [
    "#read from google drive\n",
    "data = pd.read_csv(\"test_basic.csv\")\n",
    "data.head()"
   ]
  },
  {
   "cell_type": "code",
   "execution_count": 5,
   "metadata": {
    "execution": {
     "iopub.execute_input": "2021-06-13T10:27:40.438533Z",
     "iopub.status.busy": "2021-06-13T10:27:40.438115Z",
     "iopub.status.idle": "2021-06-13T10:27:40.468906Z",
     "shell.execute_reply": "2021-06-13T10:27:40.464258Z",
     "shell.execute_reply.started": "2021-06-13T10:27:40.438504Z"
    }
   },
   "outputs": [
    {
     "data": {
      "text/plain": [
       "1    0.525848\n",
       "0    0.474152\n",
       "Name: test, dtype: float64"
      ]
     },
     "execution_count": 5,
     "metadata": {},
     "output_type": "execute_result"
    }
   ],
   "source": [
    "data.test.value_counts(normalize=True)"
   ]
  },
  {
   "cell_type": "code",
   "execution_count": 8,
   "metadata": {
    "execution": {
     "iopub.execute_input": "2021-06-13T10:36:16.562109Z",
     "iopub.status.busy": "2021-06-13T10:36:16.561805Z",
     "iopub.status.idle": "2021-06-13T10:36:16.574854Z",
     "shell.execute_reply": "2021-06-13T10:36:16.572919Z",
     "shell.execute_reply.started": "2021-06-13T10:36:16.562082Z"
    }
   },
   "outputs": [
    {
     "data": {
      "text/plain": [
       "test\n",
       "0    0.043707\n",
       "1    0.055598\n",
       "Name: conversion, dtype: float64"
      ]
     },
     "execution_count": 8,
     "metadata": {},
     "output_type": "execute_result"
    }
   ],
   "source": [
    "from scipy import stats\n",
    "#check conversion rate for both groups\n",
    "data.groupby('test')['conversion'].mean()"
   ]
  },
  {
   "cell_type": "code",
   "execution_count": 12,
   "metadata": {
    "execution": {
     "iopub.execute_input": "2021-06-13T10:37:05.973704Z",
     "iopub.status.busy": "2021-06-13T10:37:05.972974Z",
     "iopub.status.idle": "2021-06-13T10:37:05.988511Z",
     "shell.execute_reply": "2021-06-13T10:37:05.986697Z",
     "shell.execute_reply.started": "2021-06-13T10:37:05.973656Z"
    }
   },
   "outputs": [],
   "source": [
    "#perform a statistical test between the two groups\n",
    "test = stats.ttest_ind(data.loc[data['test'] == 1]['conversion'], data.loc[data['test'] == 0]['conversion'], equal_var=False)"
   ]
  },
  {
   "cell_type": "code",
   "execution_count": 13,
   "metadata": {
    "execution": {
     "iopub.execute_input": "2021-06-13T10:37:06.601458Z",
     "iopub.status.busy": "2021-06-13T10:37:06.600893Z",
     "iopub.status.idle": "2021-06-13T10:37:06.610959Z",
     "shell.execute_reply": "2021-06-13T10:37:06.610007Z",
     "shell.execute_reply.started": "2021-06-13T10:37:06.601416Z"
    }
   },
   "outputs": [
    {
     "data": {
      "text/plain": [
       "7.705449851546837"
      ]
     },
     "execution_count": 13,
     "metadata": {},
     "output_type": "execute_result"
    }
   ],
   "source": [
    "#t statistics\n",
    "test.statistic"
   ]
  },
  {
   "cell_type": "code",
   "execution_count": 14,
   "metadata": {
    "execution": {
     "iopub.execute_input": "2021-06-13T10:37:06.960086Z",
     "iopub.status.busy": "2021-06-13T10:37:06.959775Z",
     "iopub.status.idle": "2021-06-13T10:37:06.972113Z",
     "shell.execute_reply": "2021-06-13T10:37:06.970154Z",
     "shell.execute_reply.started": "2021-06-13T10:37:06.960058Z"
    }
   },
   "outputs": [
    {
     "data": {
      "text/plain": [
       "1.3189559402908635e-14"
      ]
     },
     "execution_count": 14,
     "metadata": {},
     "output_type": "execute_result"
    }
   ],
   "source": [
    "test.pvalue"
   ]
  },
  {
   "cell_type": "code",
   "execution_count": 15,
   "metadata": {
    "execution": {
     "iopub.execute_input": "2021-06-13T10:38:03.791680Z",
     "iopub.status.busy": "2021-06-13T10:38:03.791374Z",
     "iopub.status.idle": "2021-06-13T10:38:03.798823Z",
     "shell.execute_reply": "2021-06-13T10:38:03.796879Z",
     "shell.execute_reply.started": "2021-06-13T10:38:03.791653Z"
    }
   },
   "outputs": [
    {
     "name": "stdout",
     "output_type": "stream",
     "text": [
      "Statistically better results\n"
     ]
    }
   ],
   "source": [
    "#print test results\n",
    "if (test.pvalue>0.05):\n",
    "  print (\"Non-significant results\")\n",
    "elif (test.statistic>0):\n",
    "  print (\"Statistically better results\")\n",
    "else:\n",
    "  print (\"Statistically worse results\")"
   ]
  },
  {
   "cell_type": "code",
   "execution_count": null,
   "metadata": {},
   "outputs": [],
   "source": []
  }
 ],
 "metadata": {
  "kernelspec": {
   "display_name": "Python 3",
   "language": "python",
   "name": "python3"
  },
  "language_info": {
   "codemirror_mode": {
    "name": "ipython",
    "version": 3
   },
   "file_extension": ".py",
   "mimetype": "text/x-python",
   "name": "python",
   "nbconvert_exporter": "python",
   "pygments_lexer": "ipython3",
   "version": "3.7.7"
  }
 },
 "nbformat": 4,
 "nbformat_minor": 4
}
