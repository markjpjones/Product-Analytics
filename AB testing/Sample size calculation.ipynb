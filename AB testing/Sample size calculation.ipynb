{
 "cells": [
  {
   "cell_type": "code",
   "execution_count": 5,
   "metadata": {
    "execution": {
     "iopub.execute_input": "2021-06-13T11:29:44.137455Z",
     "iopub.status.busy": "2021-06-13T11:29:44.136858Z",
     "iopub.status.idle": "2021-06-13T11:29:44.144772Z",
     "shell.execute_reply": "2021-06-13T11:29:44.141921Z",
     "shell.execute_reply.started": "2021-06-13T11:29:44.137414Z"
    }
   },
   "outputs": [],
   "source": [
    "import statsmodels.stats.api as sms\n",
    "import numpy as np\n",
    "import matplotlib.pyplot as plt"
   ]
  },
  {
   "cell_type": "code",
   "execution_count": 6,
   "metadata": {
    "execution": {
     "iopub.execute_input": "2021-06-13T11:29:44.358785Z",
     "iopub.status.busy": "2021-06-13T11:29:44.358457Z",
     "iopub.status.idle": "2021-06-13T11:29:44.383415Z",
     "shell.execute_reply": "2021-06-13T11:29:44.381645Z",
     "shell.execute_reply.started": "2021-06-13T11:29:44.358755Z"
    }
   },
   "outputs": [
    {
     "name": "stdout",
     "output_type": "stream",
     "text": [
      "The required sample size per group is ~ 1768\n"
     ]
    }
   ],
   "source": [
    "#Firstly, we need to define the two conversion rates via proportion_effectsize. \n",
    "#The first element here (0.1) is simply the conversion rate of the site prior to running the test. Aka control conversion rate\n",
    "#The second one (0.11) is the minimum conversion rate of the test that would make it worth it to make the change\n",
    "p1_and_p2 = sms.proportion_effectsize(0.1, 0.13)\n",
    "#Now we can run the function that after passing the two conversion rates above + power and significance, returns sample size\n",
    "sample_size = sms.NormalIndPower().solve_power(p1_and_p2, power=0.8, alpha=0.05)\n",
    "print(\"The required sample size per group is ~\", round(sample_size))"
   ]
  },
  {
   "cell_type": "code",
   "execution_count": 7,
   "metadata": {
    "execution": {
     "iopub.execute_input": "2021-06-13T11:29:48.592491Z",
     "iopub.status.busy": "2021-06-13T11:29:48.592190Z",
     "iopub.status.idle": "2021-06-13T11:29:48.605279Z",
     "shell.execute_reply": "2021-06-13T11:29:48.602295Z",
     "shell.execute_reply.started": "2021-06-13T11:29:48.592464Z"
    }
   },
   "outputs": [
    {
     "data": {
      "text/plain": [
       "array([0.105, 0.11 , 0.115, 0.12 , 0.125, 0.13 , 0.135, 0.14 , 0.145,\n",
       "       0.15 ])"
      ]
     },
     "execution_count": 7,
     "metadata": {},
     "output_type": "execute_result"
    }
   ],
   "source": [
    "#Possible p2 values. We choose from 10.5% to 15% with 0.5% increments\n",
    "possible_p2 = np.arange(.105, .155, .005)\n",
    "possible_p2\n",
    "#now let's estimate sample size for all those values and plot them"
   ]
  },
  {
   "cell_type": "code",
   "execution_count": 8,
   "metadata": {
    "execution": {
     "iopub.execute_input": "2021-06-13T11:29:56.530821Z",
     "iopub.status.busy": "2021-06-13T11:29:56.530518Z",
     "iopub.status.idle": "2021-06-13T11:29:56.823624Z",
     "shell.execute_reply": "2021-06-13T11:29:56.822460Z",
     "shell.execute_reply.started": "2021-06-13T11:29:56.530796Z"
    }
   },
   "outputs": [
    {
     "data": {
      "image/png": "[encoded data removed]",
      "text/plain": [
       "<Figure size 432x288 with 1 Axes>"
      ]
     },
     "metadata": {
      "needs_background": "light"
     },
     "output_type": "display_data"
    }
   ],
   "source": [
    "sample_size = []\n",
    "for i in possible_p2:\n",
    "   p1_and_p2 = sms.proportion_effectsize(0.1, i)\n",
    "   sample_size.append(sms.NormalIndPower().solve_power(p1_and_p2, power=0.8, alpha=0.05))\n",
    "plt.plot(sample_size, possible_p2)\n",
    "plt.title(\"Sample size vs Minimum Effect size\")\n",
    "plt.xlabel(\"Sample Size\")\n",
    "plt.ylabel(\"Minimum Test Conversion rate\")\n",
    "plt.show()"
   ]
  },
  {
   "cell_type": "code",
   "execution_count": null,
   "metadata": {},
   "outputs": [],
   "source": []
  }
 ],
 "metadata": {
  "kernelspec": {
   "display_name": "Python 3",
   "language": "python",
   "name": "python3"
  },
  "language_info": {
   "codemirror_mode": {
    "name": "ipython",
    "version": 3
   },
   "file_extension": ".py",
   "mimetype": "text/x-python",
   "name": "python",
   "nbconvert_exporter": "python",
   "pygments_lexer": "ipython3",
   "version": "3.7.7"
  }
 },
 "nbformat": 4,
 "nbformat_minor": 4
}
