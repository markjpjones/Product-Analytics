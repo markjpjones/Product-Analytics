{
 "cells": [
  {
   "cell_type": "code",
   "execution_count": 1,
   "metadata": {
    "execution": {
     "iopub.execute_input": "2021-06-20T14:12:21.582611Z",
     "iopub.status.busy": "2021-06-20T14:12:21.582291Z",
     "iopub.status.idle": "2021-06-20T14:12:25.068309Z",
     "shell.execute_reply": "2021-06-20T14:12:25.066693Z",
     "shell.execute_reply.started": "2021-06-20T14:12:21.582545Z"
    }
   },
   "outputs": [],
   "source": [
    "import pandas\n",
    "pandas.set_option('display.max_columns', 20)\n",
    "pandas.set_option('display.width', 350)"
   ]
  },
  {
   "cell_type": "code",
   "execution_count": 2,
   "metadata": {
    "execution": {
     "iopub.execute_input": "2021-06-20T14:12:25.071837Z",
     "iopub.status.busy": "2021-06-20T14:12:25.070680Z",
     "iopub.status.idle": "2021-06-20T14:12:25.251021Z",
     "shell.execute_reply": "2021-06-20T14:12:25.249015Z",
     "shell.execute_reply.started": "2021-06-20T14:12:25.071783Z"
    }
   },
   "outputs": [
    {
     "data": {
      "text/html": [
       "<div>\n",
       "<style scoped>\n",
       "    .dataframe tbody tr th:only-of-type {\n",
       "        vertical-align: middle;\n",
       "    }\n",
       "\n",
       "    .dataframe tbody tr th {\n",
       "        vertical-align: top;\n",
       "    }\n",
       "\n",
       "    .dataframe thead th {\n",
       "        text-align: right;\n",
       "    }\n",
       "</style>\n",
       "<table border=\"1\" class=\"dataframe\">\n",
       "  <thead>\n",
       "    <tr style=\"text-align: right;\">\n",
       "      <th></th>\n",
       "      <th>user_id</th>\n",
       "      <th>signup_date</th>\n",
       "      <th>test_date</th>\n",
       "      <th>browser</th>\n",
       "      <th>test</th>\n",
       "      <th>pages_visited</th>\n",
       "    </tr>\n",
       "  </thead>\n",
       "  <tbody>\n",
       "    <tr>\n",
       "      <th>0</th>\n",
       "      <td>34</td>\n",
       "      <td>2015-01-01</td>\n",
       "      <td>2015-08-15</td>\n",
       "      <td>Chrome</td>\n",
       "      <td>0</td>\n",
       "      <td>6</td>\n",
       "    </tr>\n",
       "    <tr>\n",
       "      <th>1</th>\n",
       "      <td>59</td>\n",
       "      <td>2015-01-01</td>\n",
       "      <td>2015-08-12</td>\n",
       "      <td>Chrome</td>\n",
       "      <td>1</td>\n",
       "      <td>6</td>\n",
       "    </tr>\n",
       "    <tr>\n",
       "      <th>2</th>\n",
       "      <td>178</td>\n",
       "      <td>2015-01-01</td>\n",
       "      <td>2015-08-10</td>\n",
       "      <td>Safari</td>\n",
       "      <td>1</td>\n",
       "      <td>3</td>\n",
       "    </tr>\n",
       "    <tr>\n",
       "      <th>3</th>\n",
       "      <td>383</td>\n",
       "      <td>2015-01-01</td>\n",
       "      <td>2015-08-05</td>\n",
       "      <td>Firefox</td>\n",
       "      <td>1</td>\n",
       "      <td>9</td>\n",
       "    </tr>\n",
       "    <tr>\n",
       "      <th>4</th>\n",
       "      <td>397</td>\n",
       "      <td>2015-01-01</td>\n",
       "      <td>2015-08-27</td>\n",
       "      <td>IE</td>\n",
       "      <td>0</td>\n",
       "      <td>1</td>\n",
       "    </tr>\n",
       "  </tbody>\n",
       "</table>\n",
       "</div>"
      ],
      "text/plain": [
       "   user_id signup_date   test_date  browser  test  pages_visited\n",
       "0       34  2015-01-01  2015-08-15   Chrome     0              6\n",
       "1       59  2015-01-01  2015-08-12   Chrome     1              6\n",
       "2      178  2015-01-01  2015-08-10   Safari     1              3\n",
       "3      383  2015-01-01  2015-08-05  Firefox     1              9\n",
       "4      397  2015-01-01  2015-08-27       IE     0              1"
      ]
     },
     "execution_count": 2,
     "metadata": {},
     "output_type": "execute_result"
    }
   ],
   "source": [
    "#read from google drive\n",
    "data= pandas.read_csv(\"novelty_effect.csv\")\n",
    "data.head()"
   ]
  },
  {
   "cell_type": "code",
   "execution_count": 4,
   "metadata": {
    "execution": {
     "iopub.execute_input": "2021-06-13T14:29:42.928130Z",
     "iopub.status.busy": "2021-06-13T14:29:42.927863Z",
     "iopub.status.idle": "2021-06-13T14:29:43.831405Z",
     "shell.execute_reply": "2021-06-13T14:29:43.830476Z",
     "shell.execute_reply.started": "2021-06-13T14:29:42.928106Z"
    }
   },
   "outputs": [
    {
     "data": {
      "text/plain": [
       "5.474295518566027"
      ]
     },
     "execution_count": 4,
     "metadata": {},
     "output_type": "execute_result"
    }
   ],
   "source": [
    "from scipy import stats\n",
    "#t-test of test vs control for our target metric \n",
    "test = stats.ttest_ind(data.loc[data['test'] == 1]['pages_visited'], data.loc[data['test'] == 0]['pages_visited'], equal_var=False)\n",
    "  \n",
    "#t statistics\n",
    "test.statistic"
   ]
  },
  {
   "cell_type": "code",
   "execution_count": 6,
   "metadata": {
    "execution": {
     "iopub.execute_input": "2021-06-13T14:29:50.154262Z",
     "iopub.status.busy": "2021-06-13T14:29:50.153740Z",
     "iopub.status.idle": "2021-06-13T14:29:50.163161Z",
     "shell.execute_reply": "2021-06-13T14:29:50.162049Z",
     "shell.execute_reply.started": "2021-06-13T14:29:50.154222Z"
    }
   },
   "outputs": [
    {
     "data": {
      "text/plain": [
       "4.403954129457701e-08"
      ]
     },
     "execution_count": 6,
     "metadata": {},
     "output_type": "execute_result"
    }
   ],
   "source": [
    "test.pvalue"
   ]
  },
  {
   "cell_type": "code",
   "execution_count": 8,
   "metadata": {
    "execution": {
     "iopub.execute_input": "2021-06-13T14:30:42.485653Z",
     "iopub.status.busy": "2021-06-13T14:30:42.485246Z",
     "iopub.status.idle": "2021-06-13T14:30:42.493745Z",
     "shell.execute_reply": "2021-06-13T14:30:42.490013Z",
     "shell.execute_reply.started": "2021-06-13T14:30:42.485617Z"
    }
   },
   "outputs": [
    {
     "name": "stdout",
     "output_type": "stream",
     "text": [
      "Statistically better results\n"
     ]
    }
   ],
   "source": [
    "#print test results\n",
    "if (test.pvalue>0.05):\n",
    "  print (\"Non-significant results\")\n",
    "elif (test.statistic>0):\n",
    "  print (\"Statistically better results\")\n",
    "else:\n",
    "  print (\"Statistically worse results\")"
   ]
  },
  {
   "cell_type": "markdown",
   "metadata": {
    "execution": {
     "iopub.execute_input": "2021-06-13T14:30:06.124168Z",
     "iopub.status.busy": "2021-06-13T14:30:06.123898Z",
     "iopub.status.idle": "2021-06-13T14:30:06.130521Z",
     "shell.execute_reply": "2021-06-13T14:30:06.127009Z",
     "shell.execute_reply.started": "2021-06-13T14:30:06.124144Z"
    }
   },
   "source": [
    "### Check results for returning users"
   ]
  },
  {
   "cell_type": "code",
   "execution_count": 9,
   "metadata": {
    "execution": {
     "iopub.execute_input": "2021-06-13T14:31:09.191319Z",
     "iopub.status.busy": "2021-06-13T14:31:09.190979Z",
     "iopub.status.idle": "2021-06-13T14:31:09.232056Z",
     "shell.execute_reply": "2021-06-13T14:31:09.230595Z",
     "shell.execute_reply.started": "2021-06-13T14:31:09.191294Z"
    }
   },
   "outputs": [
    {
     "data": {
      "text/plain": [
       "6.910803219940347"
      ]
     },
     "execution_count": 9,
     "metadata": {},
     "output_type": "execute_result"
    }
   ],
   "source": [
    "#segment users into new vs old. We define new as those for which the test/control experience was the same as their sign-up date\n",
    "#now let's do the test for old users and new users separately\n",
    "  \n",
    "#old users\n",
    "ab_test_old = stats.ttest_ind(data.loc[(data['test'] == 1) & (data['signup_date']!=data['test_date'])]['pages_visited'], \n",
    "                              data.loc[(data['test'] == 0) & (data['signup_date']!=data['test_date'])]['pages_visited'], \n",
    "                              equal_var=False)\n",
    "#t statistics\n",
    "ab_test_old.statistic"
   ]
  },
  {
   "cell_type": "code",
   "execution_count": 10,
   "metadata": {
    "execution": {
     "iopub.execute_input": "2021-06-13T14:31:10.088011Z",
     "iopub.status.busy": "2021-06-13T14:31:10.087318Z",
     "iopub.status.idle": "2021-06-13T14:31:10.099122Z",
     "shell.execute_reply": "2021-06-13T14:31:10.096906Z",
     "shell.execute_reply.started": "2021-06-13T14:31:10.087960Z"
    }
   },
   "outputs": [
    {
     "data": {
      "text/plain": [
       "4.859481805141211e-12"
      ]
     },
     "execution_count": 10,
     "metadata": {},
     "output_type": "execute_result"
    }
   ],
   "source": [
    "ab_test_old.pvalue"
   ]
  },
  {
   "cell_type": "code",
   "execution_count": 11,
   "metadata": {
    "execution": {
     "iopub.execute_input": "2021-06-13T14:31:24.313217Z",
     "iopub.status.busy": "2021-06-13T14:31:24.312822Z",
     "iopub.status.idle": "2021-06-13T14:31:24.318957Z",
     "shell.execute_reply": "2021-06-13T14:31:24.317143Z",
     "shell.execute_reply.started": "2021-06-13T14:31:24.313190Z"
    }
   },
   "outputs": [
    {
     "name": "stdout",
     "output_type": "stream",
     "text": [
      "Returning users: Statistically better results\n"
     ]
    }
   ],
   "source": [
    "#we divide by 2 p-value significance level because we have run two tests. i.e. we are using the Bonferroni correction\n",
    "#print test results\n",
    "if (ab_test_old.pvalue>0.05/2):\n",
    "  print (\"Returning users: Non-significant results\")\n",
    "elif (ab_test_old.statistic>0):\n",
    "  print (\"Returning users: Statistically better results\")\n",
    "else:\n",
    "  print (\"Returning users: Statistically worse results\")"
   ]
  },
  {
   "cell_type": "markdown",
   "metadata": {},
   "source": [
    "### Check results for new users"
   ]
  },
  {
   "cell_type": "code",
   "execution_count": 12,
   "metadata": {
    "execution": {
     "iopub.execute_input": "2021-06-13T14:31:37.698945Z",
     "iopub.status.busy": "2021-06-13T14:31:37.698660Z",
     "iopub.status.idle": "2021-06-13T14:31:37.731809Z",
     "shell.execute_reply": "2021-06-13T14:31:37.730352Z",
     "shell.execute_reply.started": "2021-06-13T14:31:37.698921Z"
    }
   },
   "outputs": [
    {
     "data": {
      "text/plain": [
       "-1.0809363577979878"
      ]
     },
     "execution_count": 12,
     "metadata": {},
     "output_type": "execute_result"
    }
   ],
   "source": [
    "#new users\n",
    "ab_test_new = stats.ttest_ind(data.loc[(data['test'] == 1) & (data['signup_date']==data['test_date'])]['pages_visited'], \n",
    "                              data.loc[(data['test'] == 0) & (data['signup_date']==data['test_date'])]['pages_visited'], \n",
    "                              equal_var=False)\n",
    "#t statistics\n",
    "ab_test_new.statistic"
   ]
  },
  {
   "cell_type": "code",
   "execution_count": 13,
   "metadata": {
    "execution": {
     "iopub.execute_input": "2021-06-13T14:31:45.393297Z",
     "iopub.status.busy": "2021-06-13T14:31:45.392999Z",
     "iopub.status.idle": "2021-06-13T14:31:45.401903Z",
     "shell.execute_reply": "2021-06-13T14:31:45.400733Z",
     "shell.execute_reply.started": "2021-06-13T14:31:45.393270Z"
    }
   },
   "outputs": [
    {
     "data": {
      "text/plain": [
       "0.27973874896130424"
      ]
     },
     "execution_count": 13,
     "metadata": {},
     "output_type": "execute_result"
    }
   ],
   "source": [
    "ab_test_new.pvalue"
   ]
  },
  {
   "cell_type": "code",
   "execution_count": 14,
   "metadata": {
    "execution": {
     "iopub.execute_input": "2021-06-13T14:32:31.180804Z",
     "iopub.status.busy": "2021-06-13T14:32:31.180408Z",
     "iopub.status.idle": "2021-06-13T14:32:31.188571Z",
     "shell.execute_reply": "2021-06-13T14:32:31.187343Z",
     "shell.execute_reply.started": "2021-06-13T14:32:31.180767Z"
    }
   },
   "outputs": [
    {
     "name": "stdout",
     "output_type": "stream",
     "text": [
      "New users: Non-significant results\n"
     ]
    }
   ],
   "source": [
    "#we divide by 2 p-value significance level because we have run two tests. i.e. we are using the Bonferroni correction\n",
    "#print test results\n",
    "if (ab_test_new.pvalue>0.05/2):\n",
    "  print (\"New users: Non-significant results\")\n",
    "elif (ab_test_new.statistic>0):\n",
    "  print (\"New users: Statistically better results\")\n",
    "else:\n",
    "  print (\"New users: Statistically worse results\")"
   ]
  },
  {
   "cell_type": "code",
   "execution_count": null,
   "metadata": {},
   "outputs": [],
   "source": []
  }
 ],
 "metadata": {
  "kernelspec": {
   "display_name": "Python 3",
   "language": "python",
   "name": "python3"
  },
  "language_info": {
   "codemirror_mode": {
    "name": "ipython",
    "version": 3
   },
   "file_extension": ".py",
   "mimetype": "text/x-python",
   "name": "python",
   "nbconvert_exporter": "python",
   "pygments_lexer": "ipython3",
   "version": "3.7.7"
  }
 },
 "nbformat": 4,
 "nbformat_minor": 4
}
