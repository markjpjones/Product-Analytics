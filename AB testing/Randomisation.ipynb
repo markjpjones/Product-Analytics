{
 "cells": [
  {
   "cell_type": "code",
   "execution_count": 1,
   "metadata": {
    "execution": {
     "iopub.execute_input": "2021-06-20T14:13:59.965527Z",
     "iopub.status.busy": "2021-06-20T14:13:59.965193Z",
     "iopub.status.idle": "2021-06-20T14:14:05.412670Z",
     "shell.execute_reply": "2021-06-20T14:14:05.411622Z",
     "shell.execute_reply.started": "2021-06-20T14:13:59.965456Z"
    }
   },
   "outputs": [],
   "source": [
    "import pandas as pd\n",
    "import graphviz\n",
    "from sklearn.tree import DecisionTreeClassifier\n",
    "from sklearn.tree import export_graphviz\n",
    "from graphviz import Source\n",
    "pd.set_option('display.max_columns', 20)\n",
    "pd.set_option('display.width', 350)"
   ]
  },
  {
   "cell_type": "code",
   "execution_count": 2,
   "metadata": {
    "execution": {
     "iopub.execute_input": "2021-06-20T14:14:05.417790Z",
     "iopub.status.busy": "2021-06-20T14:14:05.414814Z",
     "iopub.status.idle": "2021-06-20T14:14:05.846494Z",
     "shell.execute_reply": "2021-06-20T14:14:05.845364Z",
     "shell.execute_reply.started": "2021-06-20T14:14:05.417736Z"
    }
   },
   "outputs": [
    {
     "data": {
      "text/html": [
       "<div>\n",
       "<style scoped>\n",
       "    .dataframe tbody tr th:only-of-type {\n",
       "        vertical-align: middle;\n",
       "    }\n",
       "\n",
       "    .dataframe tbody tr th {\n",
       "        vertical-align: top;\n",
       "    }\n",
       "\n",
       "    .dataframe thead th {\n",
       "        text-align: right;\n",
       "    }\n",
       "</style>\n",
       "<table border=\"1\" class=\"dataframe\">\n",
       "  <thead>\n",
       "    <tr style=\"text-align: right;\">\n",
       "      <th></th>\n",
       "      <th>user_id</th>\n",
       "      <th>source</th>\n",
       "      <th>device</th>\n",
       "      <th>browser_language</th>\n",
       "      <th>browser</th>\n",
       "      <th>sex</th>\n",
       "      <th>age</th>\n",
       "      <th>country</th>\n",
       "      <th>test</th>\n",
       "      <th>conversion</th>\n",
       "    </tr>\n",
       "  </thead>\n",
       "  <tbody>\n",
       "    <tr>\n",
       "      <th>0</th>\n",
       "      <td>1</td>\n",
       "      <td>SEO</td>\n",
       "      <td>Web</td>\n",
       "      <td>EN</td>\n",
       "      <td>Chrome</td>\n",
       "      <td>M</td>\n",
       "      <td>38</td>\n",
       "      <td>Chile</td>\n",
       "      <td>0</td>\n",
       "      <td>0</td>\n",
       "    </tr>\n",
       "    <tr>\n",
       "      <th>1</th>\n",
       "      <td>2</td>\n",
       "      <td>SEO</td>\n",
       "      <td>Mobile</td>\n",
       "      <td>ES</td>\n",
       "      <td>Android_App</td>\n",
       "      <td>M</td>\n",
       "      <td>27</td>\n",
       "      <td>Colombia</td>\n",
       "      <td>0</td>\n",
       "      <td>0</td>\n",
       "    </tr>\n",
       "    <tr>\n",
       "      <th>2</th>\n",
       "      <td>3</td>\n",
       "      <td>SEO</td>\n",
       "      <td>Mobile</td>\n",
       "      <td>ES</td>\n",
       "      <td>Iphone_App</td>\n",
       "      <td>M</td>\n",
       "      <td>18</td>\n",
       "      <td>Guatemala</td>\n",
       "      <td>1</td>\n",
       "      <td>0</td>\n",
       "    </tr>\n",
       "    <tr>\n",
       "      <th>3</th>\n",
       "      <td>5</td>\n",
       "      <td>Ads</td>\n",
       "      <td>Web</td>\n",
       "      <td>ES</td>\n",
       "      <td>Chrome</td>\n",
       "      <td>M</td>\n",
       "      <td>22</td>\n",
       "      <td>Argentina</td>\n",
       "      <td>1</td>\n",
       "      <td>0</td>\n",
       "    </tr>\n",
       "    <tr>\n",
       "      <th>4</th>\n",
       "      <td>8</td>\n",
       "      <td>Ads</td>\n",
       "      <td>Mobile</td>\n",
       "      <td>ES</td>\n",
       "      <td>Android_App</td>\n",
       "      <td>M</td>\n",
       "      <td>19</td>\n",
       "      <td>Venezuela</td>\n",
       "      <td>1</td>\n",
       "      <td>0</td>\n",
       "    </tr>\n",
       "  </tbody>\n",
       "</table>\n",
       "</div>"
      ],
      "text/plain": [
       "   user_id source  device browser_language      browser sex  age    country  test  conversion\n",
       "0        1    SEO     Web               EN       Chrome   M   38      Chile     0           0\n",
       "1        2    SEO  Mobile               ES  Android_App   M   27   Colombia     0           0\n",
       "2        3    SEO  Mobile               ES   Iphone_App   M   18  Guatemala     1           0\n",
       "3        5    Ads     Web               ES       Chrome   M   22  Argentina     1           0\n",
       "4        8    Ads  Mobile               ES  Android_App   M   19  Venezuela     1           0"
      ]
     },
     "execution_count": 2,
     "metadata": {},
     "output_type": "execute_result"
    }
   ],
   "source": [
    "data = pd.read_csv(\"randomization.csv\")\n",
    "data.head()"
   ]
  },
  {
   "cell_type": "code",
   "execution_count": 3,
   "metadata": {
    "execution": {
     "iopub.execute_input": "2021-06-20T14:14:05.850945Z",
     "iopub.status.busy": "2021-06-20T14:14:05.850668Z",
     "iopub.status.idle": "2021-06-20T14:14:05.968180Z",
     "shell.execute_reply": "2021-06-20T14:14:05.967417Z",
     "shell.execute_reply.started": "2021-06-20T14:14:05.850905Z"
    }
   },
   "outputs": [],
   "source": [
    "#let's group by source and estimate relative frequencies\n",
    "data_grouped_source = data.groupby(\"source\")[\"test\"].agg([('frequency_test_0',lambda x: len(x[x==0])), ('frequency_test_1', lambda x: len(x[x==1]))])\n",
    "  \n"
   ]
  },
  {
   "cell_type": "code",
   "execution_count": 4,
   "metadata": {
    "execution": {
     "iopub.execute_input": "2021-06-20T14:14:05.973063Z",
     "iopub.status.busy": "2021-06-20T14:14:05.970188Z",
     "iopub.status.idle": "2021-06-20T14:14:05.997002Z",
     "shell.execute_reply": "2021-06-20T14:14:05.990072Z",
     "shell.execute_reply.started": "2021-06-20T14:14:05.973018Z"
    }
   },
   "outputs": [
    {
     "name": "stdout",
     "output_type": "stream",
     "text": [
      "        frequency_test_0  frequency_test_1\n",
      "source                                    \n",
      "Ads             0.401228          0.400641\n",
      "Direct          0.200949          0.199500\n",
      "SEO             0.397823          0.399858\n"
     ]
    }
   ],
   "source": [
    "print(data_grouped_source/data_grouped_source.sum())"
   ]
  },
  {
   "cell_type": "markdown",
   "metadata": {},
   "source": [
    "### Check A/B Test Randomization"
   ]
  },
  {
   "cell_type": "code",
   "execution_count": 5,
   "metadata": {
    "execution": {
     "iopub.execute_input": "2021-06-20T14:14:06.000570Z",
     "iopub.status.busy": "2021-06-20T14:14:05.999532Z",
     "iopub.status.idle": "2021-06-20T14:14:08.114714Z",
     "shell.execute_reply": "2021-06-20T14:14:08.113822Z",
     "shell.execute_reply.started": "2021-06-20T14:14:06.000525Z"
    }
   },
   "outputs": [
    {
     "data": {
      "text/plain": [
       "'tree_test.dot.pdf'"
      ]
     },
     "execution_count": 5,
     "metadata": {},
     "output_type": "execute_result"
    }
   ],
   "source": [
    "#drop user_id, not needed\n",
    "data = data.drop(['user_id'], axis=1)\n",
    "#make dummy vars. Don't drop one level here, keep them all. You don't want to risk dropping the one level that actually creates problems with the randomization\n",
    "data_dummy = pd.get_dummies(data)\n",
    "#model features, test is the label and conversion is not needed here\n",
    "train_cols = data_dummy.drop(['test', 'conversion'], axis=1)\n",
    "  \n",
    "tree=DecisionTreeClassifier(\n",
    "    #change weights. Our data set is now perfectly balanced. It makes easier to look at tree output\n",
    "    class_weight=\"balanced\",\n",
    "    #only split if if it's worthwhile. The default value of 0 means always split no matter what if you can increase overall performance, which creates tons of noisy and irrelevant splits\n",
    "    min_impurity_decrease = 0.001\n",
    "    )\n",
    "tree.fit(train_cols,data_dummy['test'])\n",
    "  \n",
    "export_graphviz(tree, out_file=\"tree_test.dot\", feature_names=train_cols.columns, proportion=True, rotate=True)\n",
    "s = Source.from_file(\"tree_test.dot\")\n",
    "s.view()"
   ]
  },
  {
   "cell_type": "code",
   "execution_count": 6,
   "metadata": {
    "execution": {
     "iopub.execute_input": "2021-06-20T14:14:08.119380Z",
     "iopub.status.busy": "2021-06-20T14:14:08.116831Z",
     "iopub.status.idle": "2021-06-20T14:14:08.226244Z",
     "shell.execute_reply": "2021-06-20T14:14:08.225283Z",
     "shell.execute_reply.started": "2021-06-20T14:14:08.119332Z"
    }
   },
   "outputs": [
    {
     "name": "stdout",
     "output_type": "stream",
     "text": [
      "      country_Argentina  country_Uruguay\n",
      "test                                    \n",
      "0              0.050488         0.002239\n",
      "1              0.173223         0.017236\n"
     ]
    }
   ],
   "source": [
    "print(data_dummy.groupby(\"test\")[[\"country_Argentina\", \"country_Uruguay\"]].mean())"
   ]
  },
  {
   "cell_type": "code",
   "execution_count": 7,
   "metadata": {
    "execution": {
     "iopub.execute_input": "2021-06-20T14:14:08.234180Z",
     "iopub.status.busy": "2021-06-20T14:14:08.233158Z",
     "iopub.status.idle": "2021-06-20T14:14:08.476033Z",
     "shell.execute_reply": "2021-06-20T14:14:08.474890Z",
     "shell.execute_reply.started": "2021-06-20T14:14:08.234137Z"
    }
   },
   "outputs": [
    {
     "name": "stdout",
     "output_type": "stream",
     "text": [
      "                   data_type       p_value  t_statistic\n",
      "0                       Full  1.928918e-13    -7.353895\n",
      "1  Removed_Argentina_Uruguay  7.200849e-01     0.358346\n"
     ]
    }
   ],
   "source": [
    "from scipy import stats\n",
    "  \n",
    "#this is the test results using the orginal dataset\n",
    "original_data = stats.ttest_ind(data_dummy.loc[data['test'] == 1]['conversion'], \n",
    "                                data_dummy.loc[data['test'] == 0]['conversion'], \n",
    "                                equal_var=False)\n",
    "  \n",
    "#this is after removing Argentina and Uruguay\n",
    "data_no_AR_UR = stats.ttest_ind(data_dummy.loc[(data['test'] == 1) & (data_dummy['country_Argentina'] ==  0) & (data_dummy['country_Uruguay'] ==  0)]['conversion'], \n",
    "                                data_dummy.loc[(data['test'] == 0) & (data_dummy['country_Argentina'] ==  0) & (data_dummy['country_Uruguay'] ==  0)]['conversion'], \n",
    "                                equal_var=False)\n",
    "  \n",
    "print(pd.DataFrame( {\"data_type\" : [\"Full\", \"Removed_Argentina_Uruguay\"], \n",
    "                         \"p_value\" : [original_data.pvalue, data_no_AR_UR.pvalue],\n",
    "                         \"t_statistic\" : [original_data.statistic, data_no_AR_UR.statistic]\n",
    "                         }))\n",
    "\n"
   ]
  },
  {
   "cell_type": "code",
   "execution_count": null,
   "metadata": {},
   "outputs": [],
   "source": []
  }
 ],
 "metadata": {
  "kernelspec": {
   "display_name": "Python 3",
   "language": "python",
   "name": "python3"
  },
  "language_info": {
   "codemirror_mode": {
    "name": "ipython",
    "version": 3
   },
   "file_extension": ".py",
   "mimetype": "text/x-python",
   "name": "python",
   "nbconvert_exporter": "python",
   "pygments_lexer": "ipython3",
   "version": "3.7.7"
  }
 },
 "nbformat": 4,
 "nbformat_minor": 4
}
