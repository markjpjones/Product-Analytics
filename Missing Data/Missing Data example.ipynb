{
 "cells": [
  {
   "cell_type": "code",
   "execution_count": 1,
   "metadata": {
    "execution": {
     "iopub.execute_input": "2021-06-13T09:49:24.262804Z",
     "iopub.status.busy": "2021-06-13T09:49:24.262308Z",
     "iopub.status.idle": "2021-06-13T09:49:37.450104Z",
     "shell.execute_reply": "2021-06-13T09:49:37.449423Z",
     "shell.execute_reply.started": "2021-06-13T09:49:24.262606Z"
    }
   },
   "outputs": [],
   "source": [
    "import pandas\n",
    "pandas.set_option('display.max_columns', 10)\n",
    "pandas.set_option('display.width', 350)"
   ]
  },
  {
   "cell_type": "code",
   "execution_count": 2,
   "metadata": {
    "execution": {
     "iopub.execute_input": "2021-06-13T09:49:37.451827Z",
     "iopub.status.busy": "2021-06-13T09:49:37.451532Z",
     "iopub.status.idle": "2021-06-13T09:49:37.550332Z",
     "shell.execute_reply": "2021-06-13T09:49:37.549452Z",
     "shell.execute_reply.started": "2021-06-13T09:49:37.451784Z"
    }
   },
   "outputs": [
    {
     "data": {
      "text/html": [
       "<div>\n",
       "<style scoped>\n",
       "    .dataframe tbody tr th:only-of-type {\n",
       "        vertical-align: middle;\n",
       "    }\n",
       "\n",
       "    .dataframe tbody tr th {\n",
       "        vertical-align: top;\n",
       "    }\n",
       "\n",
       "    .dataframe thead th {\n",
       "        text-align: right;\n",
       "    }\n",
       "</style>\n",
       "<table border=\"1\" class=\"dataframe\">\n",
       "  <thead>\n",
       "    <tr style=\"text-align: right;\">\n",
       "      <th></th>\n",
       "      <th>country</th>\n",
       "      <th>age</th>\n",
       "      <th>is_mobile</th>\n",
       "      <th>source</th>\n",
       "      <th>converted</th>\n",
       "    </tr>\n",
       "  </thead>\n",
       "  <tbody>\n",
       "    <tr>\n",
       "      <th>0</th>\n",
       "      <td>UK</td>\n",
       "      <td>33</td>\n",
       "      <td>0</td>\n",
       "      <td>Direct</td>\n",
       "      <td>0</td>\n",
       "    </tr>\n",
       "    <tr>\n",
       "      <th>1</th>\n",
       "      <td>NaN</td>\n",
       "      <td>38</td>\n",
       "      <td>1</td>\n",
       "      <td>Seo</td>\n",
       "      <td>0</td>\n",
       "    </tr>\n",
       "    <tr>\n",
       "      <th>2</th>\n",
       "      <td>NaN</td>\n",
       "      <td>46</td>\n",
       "      <td>0</td>\n",
       "      <td>Ads</td>\n",
       "      <td>0</td>\n",
       "    </tr>\n",
       "    <tr>\n",
       "      <th>3</th>\n",
       "      <td>NaN</td>\n",
       "      <td>48</td>\n",
       "      <td>1</td>\n",
       "      <td>Seo</td>\n",
       "      <td>0</td>\n",
       "    </tr>\n",
       "    <tr>\n",
       "      <th>4</th>\n",
       "      <td>Ireland</td>\n",
       "      <td>53</td>\n",
       "      <td>0</td>\n",
       "      <td>Ads</td>\n",
       "      <td>0</td>\n",
       "    </tr>\n",
       "  </tbody>\n",
       "</table>\n",
       "</div>"
      ],
      "text/plain": [
       "   country  age  is_mobile  source  converted\n",
       "0       UK   33          0  Direct          0\n",
       "1      NaN   38          1     Seo          0\n",
       "2      NaN   46          0     Ads          0\n",
       "3      NaN   48          1     Seo          0\n",
       "4  Ireland   53          0     Ads          0"
      ]
     },
     "execution_count": 2,
     "metadata": {},
     "output_type": "execute_result"
    }
   ],
   "source": [
    "#read data from google drive\n",
    "data = pandas.read_csv(\"missing_data.csv\")\n",
    "  \n",
    "data.head()"
   ]
  },
  {
   "cell_type": "code",
   "execution_count": 3,
   "metadata": {
    "execution": {
     "iopub.execute_input": "2021-06-13T09:49:37.553826Z",
     "iopub.status.busy": "2021-06-13T09:49:37.553095Z",
     "iopub.status.idle": "2021-06-13T09:49:39.149425Z",
     "shell.execute_reply": "2021-06-13T09:49:39.148492Z",
     "shell.execute_reply.started": "2021-06-13T09:49:37.553786Z"
    }
   },
   "outputs": [
    {
     "data": {
      "text/html": [
       "<div>\n",
       "<style scoped>\n",
       "    .dataframe tbody tr th:only-of-type {\n",
       "        vertical-align: middle;\n",
       "    }\n",
       "\n",
       "    .dataframe tbody tr th {\n",
       "        vertical-align: top;\n",
       "    }\n",
       "\n",
       "    .dataframe thead th {\n",
       "        text-align: right;\n",
       "    }\n",
       "</style>\n",
       "<table border=\"1\" class=\"dataframe\">\n",
       "  <thead>\n",
       "    <tr style=\"text-align: right;\">\n",
       "      <th></th>\n",
       "      <th>country</th>\n",
       "      <th>age</th>\n",
       "      <th>is_mobile</th>\n",
       "      <th>source</th>\n",
       "      <th>converted</th>\n",
       "    </tr>\n",
       "  </thead>\n",
       "  <tbody>\n",
       "    <tr>\n",
       "      <th>count</th>\n",
       "      <td>95502</td>\n",
       "      <td>120704.000000</td>\n",
       "      <td>120704.000000</td>\n",
       "      <td>120704</td>\n",
       "      <td>120704.000000</td>\n",
       "    </tr>\n",
       "    <tr>\n",
       "      <th>unique</th>\n",
       "      <td>3</td>\n",
       "      <td>NaN</td>\n",
       "      <td>NaN</td>\n",
       "      <td>3</td>\n",
       "      <td>NaN</td>\n",
       "    </tr>\n",
       "    <tr>\n",
       "      <th>top</th>\n",
       "      <td>UK</td>\n",
       "      <td>NaN</td>\n",
       "      <td>NaN</td>\n",
       "      <td>Seo</td>\n",
       "      <td>NaN</td>\n",
       "    </tr>\n",
       "    <tr>\n",
       "      <th>freq</th>\n",
       "      <td>69626</td>\n",
       "      <td>NaN</td>\n",
       "      <td>NaN</td>\n",
       "      <td>59324</td>\n",
       "      <td>NaN</td>\n",
       "    </tr>\n",
       "    <tr>\n",
       "      <th>mean</th>\n",
       "      <td>NaN</td>\n",
       "      <td>44.575258</td>\n",
       "      <td>0.631006</td>\n",
       "      <td>NaN</td>\n",
       "      <td>0.169845</td>\n",
       "    </tr>\n",
       "    <tr>\n",
       "      <th>std</th>\n",
       "      <td>NaN</td>\n",
       "      <td>11.661944</td>\n",
       "      <td>0.482534</td>\n",
       "      <td>NaN</td>\n",
       "      <td>0.375498</td>\n",
       "    </tr>\n",
       "    <tr>\n",
       "      <th>min</th>\n",
       "      <td>NaN</td>\n",
       "      <td>17.000000</td>\n",
       "      <td>0.000000</td>\n",
       "      <td>NaN</td>\n",
       "      <td>0.000000</td>\n",
       "    </tr>\n",
       "    <tr>\n",
       "      <th>25%</th>\n",
       "      <td>NaN</td>\n",
       "      <td>36.000000</td>\n",
       "      <td>0.000000</td>\n",
       "      <td>NaN</td>\n",
       "      <td>0.000000</td>\n",
       "    </tr>\n",
       "    <tr>\n",
       "      <th>50%</th>\n",
       "      <td>NaN</td>\n",
       "      <td>44.000000</td>\n",
       "      <td>1.000000</td>\n",
       "      <td>NaN</td>\n",
       "      <td>0.000000</td>\n",
       "    </tr>\n",
       "    <tr>\n",
       "      <th>75%</th>\n",
       "      <td>NaN</td>\n",
       "      <td>53.000000</td>\n",
       "      <td>1.000000</td>\n",
       "      <td>NaN</td>\n",
       "      <td>0.000000</td>\n",
       "    </tr>\n",
       "    <tr>\n",
       "      <th>max</th>\n",
       "      <td>NaN</td>\n",
       "      <td>80.000000</td>\n",
       "      <td>1.000000</td>\n",
       "      <td>NaN</td>\n",
       "      <td>1.000000</td>\n",
       "    </tr>\n",
       "  </tbody>\n",
       "</table>\n",
       "</div>"
      ],
      "text/plain": [
       "       country            age      is_mobile  source      converted\n",
       "count    95502  120704.000000  120704.000000  120704  120704.000000\n",
       "unique       3            NaN            NaN       3            NaN\n",
       "top         UK            NaN            NaN     Seo            NaN\n",
       "freq     69626            NaN            NaN   59324            NaN\n",
       "mean       NaN      44.575258       0.631006     NaN       0.169845\n",
       "std        NaN      11.661944       0.482534     NaN       0.375498\n",
       "min        NaN      17.000000       0.000000     NaN       0.000000\n",
       "25%        NaN      36.000000       0.000000     NaN       0.000000\n",
       "50%        NaN      44.000000       1.000000     NaN       0.000000\n",
       "75%        NaN      53.000000       1.000000     NaN       0.000000\n",
       "max        NaN      80.000000       1.000000     NaN       1.000000"
      ]
     },
     "execution_count": 3,
     "metadata": {},
     "output_type": "execute_result"
    }
   ],
   "source": [
    "import matplotlib.pyplot as plt\n",
    "from matplotlib import rcParams\n",
    "rcParams.update({'figure.autolayout': True})\n",
    "  \n",
    "data.describe(include='all')"
   ]
  },
  {
   "cell_type": "code",
   "execution_count": 4,
   "metadata": {
    "execution": {
     "iopub.execute_input": "2021-06-13T09:49:39.154006Z",
     "iopub.status.busy": "2021-06-13T09:49:39.153157Z",
     "iopub.status.idle": "2021-06-13T09:49:39.569455Z",
     "shell.execute_reply": "2021-06-13T09:49:39.568050Z",
     "shell.execute_reply.started": "2021-06-13T09:49:39.153974Z"
    }
   },
   "outputs": [
    {
     "data": {
      "image/png": "[encoded data removed]",
      "text/plain": [
       "<Figure size 432x288 with 1 Axes>"
      ]
     },
     "metadata": {
      "needs_background": "light"
     },
     "output_type": "display_data"
    }
   ],
   "source": [
    "#Firstly, let's quickly check conversion rate of missing values vs non-missing values\n",
    "#Group by country and check conversion rate\n",
    "data.fillna(\"missing_country\").groupby(['country'])['converted'].mean().plot.bar()\n",
    "plt.xticks(rotation=0)\n",
    "plt.show()"
   ]
  },
  {
   "cell_type": "code",
   "execution_count": 5,
   "metadata": {
    "execution": {
     "iopub.execute_input": "2021-06-13T09:49:39.574098Z",
     "iopub.status.busy": "2021-06-13T09:49:39.573217Z",
     "iopub.status.idle": "2021-06-13T09:49:47.633947Z",
     "shell.execute_reply": "2021-06-13T09:49:47.633205Z",
     "shell.execute_reply.started": "2021-06-13T09:49:39.574067Z"
    }
   },
   "outputs": [],
   "source": [
    "import numpy as np\n",
    "from sklearn.ensemble import RandomForestClassifier"
   ]
  },
  {
   "cell_type": "code",
   "execution_count": 6,
   "metadata": {
    "execution": {
     "iopub.execute_input": "2021-06-13T09:49:47.635402Z",
     "iopub.status.busy": "2021-06-13T09:49:47.635065Z",
     "iopub.status.idle": "2021-06-13T09:49:49.551394Z",
     "shell.execute_reply": "2021-06-13T09:49:49.550442Z",
     "shell.execute_reply.started": "2021-06-13T09:49:47.635376Z"
    }
   },
   "outputs": [
    {
     "data": {
      "text/html": [
       "<div>\n",
       "<style scoped>\n",
       "    .dataframe tbody tr th:only-of-type {\n",
       "        vertical-align: middle;\n",
       "    }\n",
       "\n",
       "    .dataframe tbody tr th {\n",
       "        vertical-align: top;\n",
       "    }\n",
       "\n",
       "    .dataframe thead th {\n",
       "        text-align: right;\n",
       "    }\n",
       "</style>\n",
       "<table border=\"1\" class=\"dataframe\">\n",
       "  <thead>\n",
       "    <tr style=\"text-align: right;\">\n",
       "      <th></th>\n",
       "      <th>0</th>\n",
       "      <th>1</th>\n",
       "    </tr>\n",
       "  </thead>\n",
       "  <tbody>\n",
       "    <tr>\n",
       "      <th>0</th>\n",
       "      <td>23926</td>\n",
       "      <td>10233</td>\n",
       "    </tr>\n",
       "    <tr>\n",
       "      <th>1</th>\n",
       "      <td>2040</td>\n",
       "      <td>4841</td>\n",
       "    </tr>\n",
       "  </tbody>\n",
       "</table>\n",
       "</div>"
      ],
      "text/plain": [
       "       0      1\n",
       "0  23926  10233\n",
       "1   2040   4841"
      ]
     },
     "execution_count": 6,
     "metadata": {},
     "output_type": "execute_result"
    }
   ],
   "source": [
    "from sklearn.metrics import confusion_matrix\n",
    "from sklearn.model_selection import train_test_split\n",
    "  \n",
    "#set seed to be able to reproduce the results\n",
    "np.random.seed(4684)\n",
    "  \n",
    "data_replace = data.copy()\n",
    "  \n",
    "#split into train and test to avoid overfitting\n",
    "train, test = train_test_split(data_replace, test_size = 0.34)\n",
    "train = train.reset_index(drop=True).copy()\n",
    "test =  test.reset_index(drop=True).copy()\n",
    "  \n",
    "#replace NAs with randomly selected countries according to the origianl country distribution\n",
    "train['country'] = train['country'].fillna(pandas.Series(np.random.choice( train['country'].dropna() , size=len(train['country']) )))\n",
    "test['country'] = test['country'].fillna(pandas.Series(np.random.choice( test['country'].dropna() , size=len(test['country']) )))\n",
    "  \n",
    "#create dummies\n",
    "train = pandas.get_dummies(train, drop_first=True)\n",
    "test =  pandas.get_dummies(test, drop_first=True)\n",
    "  \n",
    "#build the model. We will use a RF, but it is the same with any other model. We balance the weights to reduce class 1 errors\n",
    "rf_replace_sampling = RandomForestClassifier(n_estimators=50, oob_score=True, class_weight={0:1,1:5})\n",
    "rf_replace_sampling.fit(train.drop('converted', axis=1), train['converted'])\n",
    "  \n",
    "#and let's print test set confusion matrix\n",
    "conf_matrix_sampling = pandas.DataFrame(confusion_matrix(test['converted'], rf_replace_sampling.predict(test.drop('converted', axis=1)), labels=[0, 1]))\n",
    "conf_matrix_sampling"
   ]
  },
  {
   "cell_type": "code",
   "execution_count": 7,
   "metadata": {
    "execution": {
     "iopub.execute_input": "2021-06-13T09:49:49.553992Z",
     "iopub.status.busy": "2021-06-13T09:49:49.553533Z",
     "iopub.status.idle": "2021-06-13T09:49:49.824074Z",
     "shell.execute_reply": "2021-06-13T09:49:49.823427Z",
     "shell.execute_reply.started": "2021-06-13T09:49:49.553956Z"
    }
   },
   "outputs": [
    {
     "data": {
      "text/html": [
       "<div>\n",
       "<style scoped>\n",
       "    .dataframe tbody tr th:only-of-type {\n",
       "        vertical-align: middle;\n",
       "    }\n",
       "\n",
       "    .dataframe tbody tr th {\n",
       "        vertical-align: top;\n",
       "    }\n",
       "\n",
       "    .dataframe thead th {\n",
       "        text-align: right;\n",
       "    }\n",
       "</style>\n",
       "<table border=\"1\" class=\"dataframe\">\n",
       "  <thead>\n",
       "    <tr style=\"text-align: right;\">\n",
       "      <th></th>\n",
       "      <th>accuracy</th>\n",
       "      <th>class0_error</th>\n",
       "      <th>class1_error</th>\n",
       "    </tr>\n",
       "  </thead>\n",
       "  <tbody>\n",
       "    <tr>\n",
       "      <th>0</th>\n",
       "      <td>0.70095</td>\n",
       "      <td>0.29957</td>\n",
       "      <td>0.296469</td>\n",
       "    </tr>\n",
       "  </tbody>\n",
       "</table>\n",
       "</div>"
      ],
      "text/plain": [
       "   accuracy  class0_error  class1_error\n",
       "0   0.70095       0.29957      0.296469"
      ]
     },
     "execution_count": 7,
     "metadata": {},
     "output_type": "execute_result"
    }
   ],
   "source": [
    "#let's print model accuracy and class errors\n",
    "class0_error = 1 - conf_matrix_sampling.loc[0,0]/(conf_matrix_sampling.loc[0,0]+conf_matrix_sampling.loc[0,1])\n",
    "class1_error = 1 - conf_matrix_sampling.loc[1,1]/(conf_matrix_sampling.loc[1,0]+conf_matrix_sampling.loc[1,1])\n",
    "  \n",
    "pandas.DataFrame( {'accuracy': rf_replace_sampling.score(test.drop('converted', axis=1),test['converted']),\n",
    "                         'class0_error' :[class0_error],\n",
    "                         'class1_error' :[class1_error]\n",
    "})"
   ]
  },
  {
   "cell_type": "code",
   "execution_count": 8,
   "metadata": {
    "execution": {
     "iopub.execute_input": "2021-06-13T09:49:49.828103Z",
     "iopub.status.busy": "2021-06-13T09:49:49.827831Z",
     "iopub.status.idle": "2021-06-13T09:49:49.991715Z",
     "shell.execute_reply": "2021-06-13T09:49:49.990800Z",
     "shell.execute_reply.started": "2021-06-13T09:49:49.828078Z"
    }
   },
   "outputs": [
    {
     "data": {
      "image/png": "[encoded data removed]",
      "text/plain": [
       "<Figure size 432x288 with 1 Axes>"
      ]
     },
     "metadata": {
      "needs_background": "light"
     },
     "output_type": "display_data"
    }
   ],
   "source": [
    "#variable importance\n",
    "pandas.Series(rf_replace_sampling.feature_importances_, index=train.drop('converted', axis=1).columns).sort_values(ascending=True).plot(kind='barh')\n",
    "plt.show()"
   ]
  },
  {
   "cell_type": "code",
   "execution_count": null,
   "metadata": {},
   "outputs": [],
   "source": []
  },
  {
   "cell_type": "code",
   "execution_count": 9,
   "metadata": {
    "execution": {
     "iopub.execute_input": "2021-06-13T09:49:49.993531Z",
     "iopub.status.busy": "2021-06-13T09:49:49.993238Z",
     "iopub.status.idle": "2021-06-13T09:49:51.930518Z",
     "shell.execute_reply": "2021-06-13T09:49:51.929523Z",
     "shell.execute_reply.started": "2021-06-13T09:49:49.993480Z"
    }
   },
   "outputs": [
    {
     "data": {
      "text/html": [
       "<div>\n",
       "<style scoped>\n",
       "    .dataframe tbody tr th:only-of-type {\n",
       "        vertical-align: middle;\n",
       "    }\n",
       "\n",
       "    .dataframe tbody tr th {\n",
       "        vertical-align: top;\n",
       "    }\n",
       "\n",
       "    .dataframe thead th {\n",
       "        text-align: right;\n",
       "    }\n",
       "</style>\n",
       "<table border=\"1\" class=\"dataframe\">\n",
       "  <thead>\n",
       "    <tr style=\"text-align: right;\">\n",
       "      <th></th>\n",
       "      <th>0</th>\n",
       "      <th>1</th>\n",
       "    </tr>\n",
       "  </thead>\n",
       "  <tbody>\n",
       "    <tr>\n",
       "      <th>0</th>\n",
       "      <td>25300</td>\n",
       "      <td>8680</td>\n",
       "    </tr>\n",
       "    <tr>\n",
       "      <th>1</th>\n",
       "      <td>1954</td>\n",
       "      <td>5106</td>\n",
       "    </tr>\n",
       "  </tbody>\n",
       "</table>\n",
       "</div>"
      ],
      "text/plain": [
       "       0     1\n",
       "0  25300  8680\n",
       "1   1954  5106"
      ]
     },
     "execution_count": 9,
     "metadata": {},
     "output_type": "execute_result"
    }
   ],
   "source": [
    "#replace missing values with \"missing_country\". Need to convert it to character and then back to factor\n",
    "data['country'] = data['country'].fillna(\"missing_country\")\n",
    "  \n",
    "#create dummy vars\n",
    "data = pandas.get_dummies(data, drop_first=True)\n",
    "  \n",
    "#split test/train\n",
    "#split into train and test to avoid overfitting\n",
    "train_leave_NA, test_leave_NA = train_test_split(data, test_size = 0.34)\n",
    "  \n",
    "#build the model. We will use a RF, but it is the same with any other model. We slightly adjust the weights to reduce class 1 errors\n",
    "rf_model_leave_NA = RandomForestClassifier(n_estimators=50, oob_score=True, class_weight={0:1,1:5})\n",
    "rf_model_leave_NA.fit(train_leave_NA.drop('converted', axis=1), train_leave_NA['converted'])\n",
    "#and let's print test set confusion matrix\n",
    "conf_matrix_leave_NA = pandas.DataFrame(confusion_matrix(test_leave_NA['converted'], rf_model_leave_NA.predict(test_leave_NA.drop('converted', axis=1)), labels=[0, 1]))\n",
    "conf_matrix_leave_NA"
   ]
  },
  {
   "cell_type": "code",
   "execution_count": 10,
   "metadata": {
    "execution": {
     "iopub.execute_input": "2021-06-13T09:49:51.933102Z",
     "iopub.status.busy": "2021-06-13T09:49:51.932719Z",
     "iopub.status.idle": "2021-06-13T09:49:52.246997Z",
     "shell.execute_reply": "2021-06-13T09:49:52.246037Z",
     "shell.execute_reply.started": "2021-06-13T09:49:51.933070Z"
    }
   },
   "outputs": [
    {
     "data": {
      "text/html": [
       "<div>\n",
       "<style scoped>\n",
       "    .dataframe tbody tr th:only-of-type {\n",
       "        vertical-align: middle;\n",
       "    }\n",
       "\n",
       "    .dataframe tbody tr th {\n",
       "        vertical-align: top;\n",
       "    }\n",
       "\n",
       "    .dataframe thead th {\n",
       "        text-align: right;\n",
       "    }\n",
       "</style>\n",
       "<table border=\"1\" class=\"dataframe\">\n",
       "  <thead>\n",
       "    <tr style=\"text-align: right;\">\n",
       "      <th></th>\n",
       "      <th>accuracy_leave_NA</th>\n",
       "      <th>class0_error_leave_NA</th>\n",
       "      <th>class1_error_leave_NA</th>\n",
       "    </tr>\n",
       "  </thead>\n",
       "  <tbody>\n",
       "    <tr>\n",
       "      <th>0</th>\n",
       "      <td>0.740887</td>\n",
       "      <td>0.255444</td>\n",
       "      <td>0.276771</td>\n",
       "    </tr>\n",
       "  </tbody>\n",
       "</table>\n",
       "</div>"
      ],
      "text/plain": [
       "   accuracy_leave_NA  class0_error_leave_NA  class1_error_leave_NA\n",
       "0           0.740887               0.255444               0.276771"
      ]
     },
     "execution_count": 10,
     "metadata": {},
     "output_type": "execute_result"
    }
   ],
   "source": [
    "#let's print model accuracy and class errors\n",
    "class0_error_leave_NA = 1 - conf_matrix_leave_NA.loc[0,0]/(conf_matrix_leave_NA.loc[0,0]+conf_matrix_leave_NA.loc[0,1])\n",
    "class1_error_leave_NA = 1 - conf_matrix_leave_NA.loc[1,1]/(conf_matrix_leave_NA.loc[1,0]+conf_matrix_leave_NA.loc[1,1])\n",
    "\n",
    "pandas.DataFrame( {'accuracy_leave_NA': rf_model_leave_NA.score(test_leave_NA.drop('converted', axis=1),test_leave_NA['converted']),\n",
    "                         'class0_error_leave_NA' :[class0_error_leave_NA],\n",
    "                         'class1_error_leave_NA' :[class1_error_leave_NA]\n",
    "})"
   ]
  },
  {
   "cell_type": "code",
   "execution_count": 11,
   "metadata": {
    "execution": {
     "iopub.execute_input": "2021-06-13T09:49:52.248835Z",
     "iopub.status.busy": "2021-06-13T09:49:52.248452Z",
     "iopub.status.idle": "2021-06-13T09:49:52.431575Z",
     "shell.execute_reply": "2021-06-13T09:49:52.430596Z",
     "shell.execute_reply.started": "2021-06-13T09:49:52.248787Z"
    }
   },
   "outputs": [
    {
     "data": {
      "image/png": "[encoded data removed]",
      "text/plain": [
       "<Figure size 432x288 with 1 Axes>"
      ]
     },
     "metadata": {
      "needs_background": "light"
     },
     "output_type": "display_data"
    }
   ],
   "source": [
    "#variable importance\n",
    "pandas.Series(rf_model_leave_NA.feature_importances_, index=train_leave_NA.drop('converted', axis=1).columns).sort_values(ascending=True).plot(kind='barh')\n",
    "plt.show()"
   ]
  },
  {
   "cell_type": "code",
   "execution_count": null,
   "metadata": {},
   "outputs": [],
   "source": []
  }
 ],
 "metadata": {
  "kernelspec": {
   "display_name": "Python 3",
   "language": "python",
   "name": "python3"
  },
  "language_info": {
   "codemirror_mode": {
    "name": "ipython",
    "version": 3
   },
   "file_extension": ".py",
   "mimetype": "text/x-python",
   "name": "python",
   "nbconvert_exporter": "python",
   "pygments_lexer": "ipython3",
   "version": "3.7.7"
  }
 },
 "nbformat": 4,
 "nbformat_minor": 4
}
